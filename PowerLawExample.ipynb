{
 "cells": [
  {
   "cell_type": "markdown",
   "metadata": {},
   "source": [
    "### Shows that the log Norm ~ Power Law exponent \n",
    "\n",
    "Create random $\\mathbf{W}$ heavy tailed matrix for various $\\mu\\in[2,4]$\n",
    "\n",
    "Form $\\mathbf{X}=\\mathbf{W}^{T}\\mathbf{W}$\n",
    "\n",
    "Compute ESD $\\rho(\\lambda)$ of $\\mathbf{X}$, and get $\\lambda_{max}$ \n",
    "\n",
    "Fit ESD of $\\mathbf{X}$ to power law  $\\rho(\\lambda)\\sim\\lambda^{-\\alpha}$\n",
    "\n",
    "Compute Frobenius norm $\\Vert\\mathbf{W}\\Vert_{F}$\n",
    "\n",
    "Compare $\\Vert\\mathbf{W}\\Vert^{2}_{F}\\sim(1-\\alpha)\\lambda_{max}(log\\lambda_{max}-1)$\n",
    "\n",
    "\n",
    "### <font color='red'>Why am I off ?</font>"
   ]
  },
  {
   "cell_type": "code",
   "execution_count": 100,
   "metadata": {},
   "outputs": [],
   "source": [
    "import numpy as np\n",
    "import powerlaw"
   ]
  },
  {
   "cell_type": "code",
   "execution_count": 101,
   "metadata": {},
   "outputs": [],
   "source": [
    "N, M = 1000, 500\n",
    "W = np.random.pareto(a=2,size=(N,M))"
   ]
  },
  {
   "cell_type": "code",
   "execution_count": 102,
   "metadata": {},
   "outputs": [],
   "source": [
    "X=np.dot(W.T,W)/N"
   ]
  },
  {
   "cell_type": "code",
   "execution_count": 103,
   "metadata": {},
   "outputs": [
    {
     "data": {
      "text/plain": [
       "(69.87907994285405, 0.7198327935533623)"
      ]
     },
     "execution_count": 103,
     "metadata": {},
     "output_type": "execute_result"
    }
   ],
   "source": [
    "normW = np.linalg.norm(W)/np.sqrt(N)\n",
    "normX = np.linalg.norm(X)/N\n",
    "normW, normX"
   ]
  },
  {
   "cell_type": "code",
   "execution_count": 104,
   "metadata": {},
   "outputs": [],
   "source": [
    "evals = np.linalg.eigvals(X)"
   ]
  },
  {
   "cell_type": "code",
   "execution_count": 123,
   "metadata": {},
   "outputs": [
    {
     "data": {
      "text/plain": [
       "(516.1589212302773, 0.36232359501621314)"
      ]
     },
     "execution_count": 123,
     "metadata": {},
     "output_type": "execute_result"
    }
   ],
   "source": [
    "l_max, l_min = np.max(evals), np.min(evals)\n",
    "l_max, l_min"
   ]
  },
  {
   "cell_type": "code",
   "execution_count": 124,
   "metadata": {},
   "outputs": [
    {
     "name": "stderr",
     "output_type": "stream",
     "text": [
      "Calculating best minimal value for power law fit\n",
      "/Users/charleshmartin/anaconda3/lib/python3.6/site-packages/powerlaw.py:700: RuntimeWarning: invalid value encountered in true_divide\n",
      "  (Theoretical_CDF * (1 - Theoretical_CDF))\n"
     ]
    }
   ],
   "source": [
    "fit =  powerlaw.Fit(evals)"
   ]
  },
  {
   "cell_type": "code",
   "execution_count": 125,
   "metadata": {},
   "outputs": [
    {
     "data": {
      "text/plain": [
       "(2.3977925246056633, 0.03047552286434263)"
      ]
     },
     "execution_count": 125,
     "metadata": {},
     "output_type": "execute_result"
    }
   ],
   "source": [
    "fit.alpha, fit.D"
   ]
  },
  {
   "cell_type": "code",
   "execution_count": 126,
   "metadata": {},
   "outputs": [],
   "source": [
    "b = l_max*(np.log(l_max)-1)"
   ]
  },
  {
   "cell_type": "code",
   "execution_count": 127,
   "metadata": {},
   "outputs": [
    {
     "data": {
      "text/plain": [
       "(69.87907994285405, 61.5239745846805)"
      ]
     },
     "execution_count": 127,
     "metadata": {},
     "output_type": "execute_result"
    }
   ],
   "source": [
    "normW,  np.sqrt(b*(fit.alpha-1))"
   ]
  },
  {
   "cell_type": "markdown",
   "metadata": {},
   "source": [
    "### Am I even close ?"
   ]
  },
  {
   "cell_type": "code",
   "execution_count": null,
   "metadata": {},
   "outputs": [],
   "source": []
  }
 ],
 "metadata": {
  "kernelspec": {
   "display_name": "Python 3",
   "language": "python",
   "name": "python3"
  },
  "language_info": {
   "codemirror_mode": {
    "name": "ipython",
    "version": 3
   },
   "file_extension": ".py",
   "mimetype": "text/x-python",
   "name": "python",
   "nbconvert_exporter": "python",
   "pygments_lexer": "ipython3",
   "version": "3.6.5"
  }
 },
 "nbformat": 4,
 "nbformat_minor": 2
}
