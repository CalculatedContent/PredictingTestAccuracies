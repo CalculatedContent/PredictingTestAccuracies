{
 "cells": [
  {
   "cell_type": "markdown",
   "metadata": {},
   "source": [
    "### We show that the log Norm ~ Power Law exponent  of a weight matrix\n",
    "\n",
    "Create a random $\\mathbf{W}$  heavy tailed matrix for various $\\mu\\in[0.5,4]$\n",
    "\n",
    "$$Pr(W_{i,j})\\sim x^{-(\\mu+1)}$$\n",
    "\n",
    "which is $(N\\times M)$, where $M < N$\n",
    "\n",
    "Compute the Frobenius norm of  $\\mathbf{W}$ squared\n",
    "\n",
    "$$\\Vert\\mathbf{W}\\Vert_{F}^{2}=\\sum_{i,j}^{N,M}W_{i,j}^{2}$$\n",
    "\n",
    "which is the Trace of the correlation \n",
    "$$=Tr(\\mathbf{W}^{T}\\mathbf{W})$$\n",
    "\n",
    "So let us the correlation matrix\n",
    "\n",
    "$$\\mathbf{X}=\\mathbf{W}^{T}\\mathbf{W}$$\n",
    "\n",
    "and compute the eigenvalues $\\lambda_{i}$\n",
    "\n",
    "$$\\mathbf{X}\\mathbf{v}_{i}=\\lambda_{i}\\mathbf{v}_{i}$$\n",
    "\n",
    "and note that the Trace is invariant to a change of basis\n",
    "\n",
    "$$Tr(\\mathbf{X})=\\sum_{i}^{M}\\lambda_{i}$$\n",
    "\n",
    "Compute the Empirical Spectral Densityt (ESD) $\\rho(\\lambda)$ of $\\mathbf{X}$...(i.e. make a histogram and fit to a continuous density)\n",
    "\n",
    "Random Matrix Theory (RMT) tells us that as long as $\\mu<4$, we can reasonably fit the ESD  to power law  \n",
    "\n",
    "$$\\rho(\\lambda)\\sim\\lambda^{-\\alpha}$$\n",
    "\n",
    "and that this will be a pretrty good approximation for the finite range $\\lambda\\in[\\lambda_{min},\\lambda_{max}]$\n",
    "\n",
    "We can now compute the Frobenius norm $\\Vert\\mathbf{W}\\Vert_{F}^{2}$ as an integral over this density\n",
    "\n",
    "$$\\Vert\\mathbf{W}\\Vert_{F}^{2}=\\int_{\\lambda_{min}}^{\\lambda^{max}}\\lambda\\rho(\\lambda)d\\lambda$$\n",
    "\n",
    "\n",
    "We can easily work this integral out.  \n",
    "\n",
    "$$=\\int_{\\lambda_{min}}^{\\lambda^{max}}\\lambda^{1-\\alpha}d\\lambda$$\n",
    "\n",
    "$$=\\left[\\dfrac{\\lambda^{\\alpha}}{\\alpha}\\right]_{\\lambda_{min}}^{\\lambda^{max}}$$\n",
    "\n",
    "We can approximate $\\lambda_{min}\\sim 0$ for most systems, giving\n",
    "\n",
    "$$\\approx\\dfrac{\\lambda_{max}^{\\alpha}}{\\alpha}$$\n",
    "\n",
    "\n",
    "We now take the log of both sides\n",
    "\n",
    "$$\\log\\Vert\\mathbf{W}\\Vert_{F}^{2}=2\\log\\Vert\\mathbf{W}\\Vert_{F}=\\log\\left[\\dfrac{\\lambda^{\\alpha}}{\\alpha}\\right]_{\\lambda_{min}}^{\\lambda^{max}}$$\n",
    "\n",
    "\n",
    "$$log\\Vert\\mathbf{W}\\Vert_{F}^{2}=\\left[\\dfrac{\\lambda^{\\alpha}}{\\alpha}\\right]_{\\lambda_{min}}^{\\lambda^{max}}=\\alpha\\log\\lambda_{max}-\\log\\alpha$$\n",
    "\n",
    "If we ignore the second term $\\log\\alpha\\sim\\mathcal{O}(1)$, we get a very simple expression for log Norm\n",
    "\n",
    "\n",
    "$$2\\log\\Vert\\mathbf{W}\\Vert_{F}\\sim\\alpha\\log\\lambda_{max}$$\n",
    "\n",
    "Let's now see how good this is\n",
    "\n"
   ]
  },
  {
   "cell_type": "code",
   "execution_count": 15,
   "metadata": {},
   "outputs": [],
   "source": [
    "import numpy as np\n",
    "import powerlaw\n",
    "\n",
    "import matplotlib\n",
    "import numpy as np\n",
    "import matplotlib.pyplot as plt\n",
    "%matplotlib inline  "
   ]
  },
  {
   "cell_type": "markdown",
   "metadata": {},
   "source": [
    "see: https://docs.scipy.org/doc/numpy-1.13.0/reference/generated/numpy.random.pareto.html\n",
    "\n",
    "We should have\n",
    "\n",
    "$\\alpha\\sim(1+\\mu/2)$"
   ]
  },
  {
   "cell_type": "markdown",
   "metadata": {},
   "source": [
    "### A crude test "
   ]
  },
  {
   "cell_type": "code",
   "execution_count": 13,
   "metadata": {},
   "outputs": [
    {
     "name": "stderr",
     "output_type": "stream",
     "text": [
      "Calculating best minimal value for power law fit\n",
      "/Users/charleshmartin/anaconda3/lib/python3.6/site-packages/powerlaw.py:700: RuntimeWarning: invalid value encountered in true_divide\n",
      "  (Theoretical_CDF * (1 - Theoretical_CDF))\n"
     ]
    },
    {
     "name": "stdout",
     "output_type": "stream",
     "text": [
      "mu= 0.5 1+mu/2 = 1.25, alpha= 1.218266 logNorm2= 31.590356  formula = 33.664815 ratio = 1.065668\n"
     ]
    },
    {
     "name": "stderr",
     "output_type": "stream",
     "text": [
      "Calculating best minimal value for power law fit\n"
     ]
    },
    {
     "name": "stdout",
     "output_type": "stream",
     "text": [
      "mu= 0.75 1+mu/2 = 1.375, alpha= 1.352593 logNorm2= 18.571841  formula = 19.545594 ratio = 1.052432\n"
     ]
    },
    {
     "name": "stderr",
     "output_type": "stream",
     "text": [
      "Calculating best minimal value for power law fit\n"
     ]
    },
    {
     "name": "stdout",
     "output_type": "stream",
     "text": [
      "mu= 1.0 1+mu/2 = 1.5, alpha= 1.507772 logNorm2= 14.858720  formula = 15.665360 ratio = 1.054287\n"
     ]
    },
    {
     "name": "stderr",
     "output_type": "stream",
     "text": [
      "Calculating best minimal value for power law fit\n"
     ]
    },
    {
     "name": "stdout",
     "output_type": "stream",
     "text": [
      "mu= 1.25 1+mu/2 = 1.625, alpha= 1.611991 logNorm2= 12.128886  formula = 11.800924 ratio = 0.972960\n"
     ]
    },
    {
     "name": "stderr",
     "output_type": "stream",
     "text": [
      "Calculating best minimal value for power law fit\n"
     ]
    },
    {
     "name": "stdout",
     "output_type": "stream",
     "text": [
      "mu= 1.5 1+mu/2 = 1.75, alpha= 1.846792 logNorm2= 11.266202  formula = 13.401112 ratio = 1.189497\n"
     ]
    },
    {
     "name": "stderr",
     "output_type": "stream",
     "text": [
      "Calculating best minimal value for power law fit\n"
     ]
    },
    {
     "name": "stdout",
     "output_type": "stream",
     "text": [
      "mu= 1.75 1+mu/2 = 1.875, alpha= 2.106025 logNorm2= 9.356514  formula = 9.233825 ratio = 0.986887\n"
     ]
    },
    {
     "name": "stderr",
     "output_type": "stream",
     "text": [
      "Calculating best minimal value for power law fit\n"
     ]
    },
    {
     "name": "stdout",
     "output_type": "stream",
     "text": [
      "mu= 2.0 1+mu/2 = 2.0, alpha= 2.428771 logNorm2= 8.697983  formula = 9.652501 ratio = 1.109740\n"
     ]
    },
    {
     "name": "stderr",
     "output_type": "stream",
     "text": [
      "Calculating best minimal value for power law fit\n"
     ]
    },
    {
     "name": "stdout",
     "output_type": "stream",
     "text": [
      "mu= 2.25 1+mu/2 = 2.125, alpha= 2.793380 logNorm2= 8.269577  formula = 9.282850 ratio = 1.122530\n"
     ]
    },
    {
     "name": "stderr",
     "output_type": "stream",
     "text": [
      "Calculating best minimal value for power law fit\n"
     ]
    },
    {
     "name": "stdout",
     "output_type": "stream",
     "text": [
      "mu= 2.5 1+mu/2 = 2.25, alpha= 3.363207 logNorm2= 7.841370  formula = 10.512762 ratio = 1.340679\n"
     ]
    },
    {
     "name": "stderr",
     "output_type": "stream",
     "text": [
      "Calculating best minimal value for power law fit\n"
     ]
    },
    {
     "name": "stdout",
     "output_type": "stream",
     "text": [
      "mu= 2.75 1+mu/2 = 2.375, alpha= 4.007676 logNorm2= 7.607065  formula = 11.989522 ratio = 1.576104\n"
     ]
    },
    {
     "name": "stderr",
     "output_type": "stream",
     "text": [
      "Calculating best minimal value for power law fit\n"
     ]
    },
    {
     "name": "stdout",
     "output_type": "stream",
     "text": [
      "mu= 3.0 1+mu/2 = 2.5, alpha= 4.767992 logNorm2= 7.430866  formula = 13.713984 ratio = 1.845543\n"
     ]
    },
    {
     "name": "stderr",
     "output_type": "stream",
     "text": [
      "Calculating best minimal value for power law fit\n"
     ]
    },
    {
     "name": "stdout",
     "output_type": "stream",
     "text": [
      "mu= 3.25 1+mu/2 = 2.625, alpha= 5.879194 logNorm2= 7.281040  formula = 16.304950 ratio = 2.239371\n"
     ]
    },
    {
     "name": "stderr",
     "output_type": "stream",
     "text": [
      "Calculating best minimal value for power law fit\n"
     ]
    },
    {
     "name": "stdout",
     "output_type": "stream",
     "text": [
      "mu= 3.5 1+mu/2 = 2.75, alpha= 5.650166 logNorm2= 7.156541  formula = 15.151195 ratio = 2.117111\n"
     ]
    },
    {
     "name": "stderr",
     "output_type": "stream",
     "text": [
      "/Users/charleshmartin/anaconda3/lib/python3.6/site-packages/powerlaw.py:700: RuntimeWarning: divide by zero encountered in true_divide\n",
      "  (Theoretical_CDF * (1 - Theoretical_CDF))\n"
     ]
    }
   ],
   "source": [
    "logNorms2, powerLawsW =  [], []\n",
    "for mu in [0.5, 0.75, 1.0, 1.25, 1.5, 1.75, 2.0, 2.25, 2.5, 2.75, 3.0, 3.25, 3.5]:\n",
    "\n",
    "    N, M = 9000, 3000\n",
    "    W = np.random.pareto(a=mu,size=(N,M))\n",
    "    normW = np.linalg.norm(W, ord='fro')#/np.sqrt(N)\n",
    "\n",
    "    logNorm2 = 2.0*np.log10(normW)\n",
    "    X=np.dot(W.T,W)/N\n",
    "    evals = np.linalg.eigvals(X)\n",
    "\n",
    "    l_max, l_min = np.max(evals), np.min(evals)\n",
    "    fit =  powerlaw.Fit(evals)\n",
    "\n",
    "    formula = fit.alpha*np.log10(l_max)\n",
    "    ratio =  formula/logNorm2\n",
    "    \n",
    "    logNorms2.append(logNorm2)\n",
    "    powerLawsW.append(formula)\n",
    "\n",
    "    print(\"mu= {} 1+mu/2 = {}, alpha= {:2f} logNorm2= {:2f}  formula = {:2f} ratio = {:2f}\"\n",
    "          .format(mu,(1+mu/2),fit.alpha, logNorm2, formula, ratio ))\n"
   ]
  },
  {
   "cell_type": "markdown",
   "metadata": {},
   "source": [
    "### Not a bad match, at least for small $\\alpha$ (large norm)"
   ]
  },
  {
   "cell_type": "code",
   "execution_count": 35,
   "metadata": {},
   "outputs": [
    {
     "data": {
      "image/png": "[encoded data removed]",
      "text/plain": [
       "<Figure size 432x288 with 1 Axes>"
      ]
     },
     "metadata": {},
     "output_type": "display_data"
    }
   ],
   "source": [
    "plt.plot(logNorms2, powerLawsW)\n",
    "plt.title(r\"$2\\langle\\log\\Vert W\\Vert\\rangle$ vs. $\\alpha\\;\\log\\lambda_{max}$\")\n",
    "plt.ylabel(r\"$\\alpha\\;\\log\\lambda_{max}$\")\n",
    "\n",
    "plt.xlabel(r\"$2\\langle\\log\\Vert W\\Vert\\rangle$\")\n",
    "plt.show()"
   ]
  },
  {
   "cell_type": "code",
   "execution_count": null,
   "metadata": {},
   "outputs": [],
   "source": []
  }
 ],
 "metadata": {
  "kernelspec": {
   "display_name": "Python 3",
   "language": "python",
   "name": "python3"
  },
  "language_info": {
   "codemirror_mode": {
    "name": "ipython",
    "version": 3
   },
   "file_extension": ".py",
   "mimetype": "text/x-python",
   "name": "python",
   "nbconvert_exporter": "python",
   "pygments_lexer": "ipython3",
   "version": "3.6.5"
  }
 },
 "nbformat": 4,
 "nbformat_minor": 2
}
