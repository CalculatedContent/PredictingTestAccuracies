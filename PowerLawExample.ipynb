{
 "cells": [
  {
   "cell_type": "markdown",
   "metadata": {},
   "source": [
    "### Shows that the log Norm ~ Power Law exponent \n",
    "\n",
    "Create random $\\mathbf{W}$ heavy tailed matrix for various $\\mu\\in[2,4]$\n",
    "\n",
    "Form $\\mathbf{X}=\\mathbf{W}^{T}\\mathbf{W}$\n",
    "\n",
    "Compute ESD $\\rho(\\lambda)$ of $\\mathbf{X}$, and get $\\lambda_{max}$ \n",
    "\n",
    "Fit ESD of $\\mathbf{X}$ to power law  $\\rho(\\lambda)\\sim\\lambda^{-\\alpha}$\n",
    "\n",
    "Compute Frobenius norm $\\Vert\\mathbf{W}\\Vert_{F}$\n",
    "\n",
    "Compare $\\Vert\\mathbf{W}\\Vert^{2}_{F}\\sim\\alpha\\times\\log\\lambda_{max}$\n",
    "\n",
    "\n",
    "### <font color='red'>Why am I off ?</font>"
   ]
  },
  {
   "cell_type": "code",
   "execution_count": 100,
   "metadata": {},
   "outputs": [],
   "source": [
    "import numpy as np\n",
    "import powerlaw"
   ]
  },
  {
   "cell_type": "code",
   "execution_count": 195,
   "metadata": {},
   "outputs": [
    {
     "name": "stderr",
     "output_type": "stream",
     "text": [
      "Calculating best minimal value for power law fit\n",
      "/Users/charleshmartin/anaconda3/lib/python3.6/site-packages/powerlaw.py:700: RuntimeWarning: invalid value encountered in true_divide\n",
      "  (Theoretical_CDF * (1 - Theoretical_CDF))\n",
      "Calculating best minimal value for power law fit\n"
     ]
    },
    {
     "name": "stdout",
     "output_type": "stream",
     "text": [
      "0.5 0.5185448317995467 0.34263670760390974\n",
      "0.7 0.623539063836689 0.4508222269034366\n"
     ]
    },
    {
     "name": "stderr",
     "output_type": "stream",
     "text": [
      "Calculating best minimal value for power law fit\n",
      "Calculating best minimal value for power law fit\n"
     ]
    },
    {
     "name": "stdout",
     "output_type": "stream",
     "text": [
      "1.1 0.8544799398191024 0.7238133513642022\n",
      "1.3 0.972635398953273 0.872344567099139\n"
     ]
    },
    {
     "name": "stderr",
     "output_type": "stream",
     "text": [
      "Calculating best minimal value for power law fit\n",
      "Calculating best minimal value for power law fit\n"
     ]
    },
    {
     "name": "stdout",
     "output_type": "stream",
     "text": [
      "1.5 1.0585074328032806 1.008057131449263\n",
      "1.7 1.2451739173363512 1.25340871850905\n"
     ]
    },
    {
     "name": "stderr",
     "output_type": "stream",
     "text": [
      "Calculating best minimal value for power law fit\n",
      "Calculating best minimal value for power law fit\n"
     ]
    },
    {
     "name": "stdout",
     "output_type": "stream",
     "text": [
      "1.9 1.343027116502991 1.4291516557664643\n",
      "2.0 1.3634071975919528 1.5020219823766436\n"
     ]
    },
    {
     "name": "stderr",
     "output_type": "stream",
     "text": [
      "Calculating best minimal value for power law fit\n",
      "Calculating best minimal value for power law fit\n"
     ]
    },
    {
     "name": "stdout",
     "output_type": "stream",
     "text": [
      "2.1 1.3687264026548607 1.555009871013651\n",
      "2.3 1.6384582946709565 1.9457864460819663\n"
     ]
    },
    {
     "name": "stderr",
     "output_type": "stream",
     "text": [
      "Calculating best minimal value for power law fit\n"
     ]
    },
    {
     "name": "stdout",
     "output_type": "stream",
     "text": [
      "2.5 1.573935833448691 1.9564291813876669\n",
      "2.7 1.774570745148101 2.277734895508124\n"
     ]
    },
    {
     "name": "stderr",
     "output_type": "stream",
     "text": [
      "Calculating best minimal value for power law fit\n",
      "Calculating best minimal value for power law fit\n"
     ]
    },
    {
     "name": "stdout",
     "output_type": "stream",
     "text": [
      "2.9 1.8050062252263142 2.3992374833803956\n",
      "3.0 1.9283564542578222 2.6014605952811802\n"
     ]
    },
    {
     "name": "stderr",
     "output_type": "stream",
     "text": [
      "Calculating best minimal value for power law fit\n",
      "Calculating best minimal value for power law fit\n",
      "Calculating best minimal value for power law fit\n"
     ]
    },
    {
     "name": "stdout",
     "output_type": "stream",
     "text": [
      "3.2 2.1472002001715356 2.9426040822003534\n",
      "3.5 2.188231017012538 3.125716525511252\n"
     ]
    },
    {
     "name": "stderr",
     "output_type": "stream",
     "text": [
      "Calculating best minimal value for power law fit\n",
      "Calculating best minimal value for power law fit\n"
     ]
    },
    {
     "name": "stdout",
     "output_type": "stream",
     "text": [
      "3.7 2.245396240570886 3.2640725134585438\n",
      "4.0 2.3535007059506294 3.5309899613417444\n",
      "4.3 2.35388130564935 3.6692912259181965\n"
     ]
    },
    {
     "name": "stderr",
     "output_type": "stream",
     "text": [
      "Calculating best minimal value for power law fit\n"
     ]
    }
   ],
   "source": [
    "\n",
    "for a in [0.5, 0.7, 1.1,  1.3, 1.5, 1.7, 1.9, 2.0, 2.1, 2.3, 2.5, 2.7, 2.9, 3.0, 3.2, 3.5, 3.7, 4.0, 4.3]:\n",
    "    N, M = 1000, 500\n",
    "    W = np.random.pareto(a=a,size=(N,M))\n",
    "    normW = np.linalg.norm(W)/np.sqrt(N)\n",
    "    \n",
    "    X=np.dot(W.T,W)/N\n",
    "    evals = np.linalg.eigvals(X)\n",
    "    \n",
    "    l_max, l_min = np.max(evals), np.min(evals)\n",
    "    fit =  powerlaw.Fit(evals)\n",
    "    \n",
    "    ratio =  np.sqrt(fit.alpha*np.log10(l_max))/np.log10(normW)\n",
    "    \n",
    "    exact_form = fit.alpha*(np.log10(l_max)-np.log10(l_min))-np.log10(l_min)\n",
    "    exact_ratio =  np.sqrt(exact_form)/np.log10(normW)\n",
    "\n",
    "    print(a, ratio, exact_ratio)"
   ]
  },
  {
   "cell_type": "code",
   "execution_count": null,
   "metadata": {},
   "outputs": [],
   "source": []
  }
 ],
 "metadata": {
  "kernelspec": {
   "display_name": "Python 3",
   "language": "python",
   "name": "python3"
  },
  "language_info": {
   "codemirror_mode": {
    "name": "ipython",
    "version": 3
   },
   "file_extension": ".py",
   "mimetype": "text/x-python",
   "name": "python",
   "nbconvert_exporter": "python",
   "pygments_lexer": "ipython3",
   "version": "3.6.5"
  }
 },
 "nbformat": 4,
 "nbformat_minor": 2
}
