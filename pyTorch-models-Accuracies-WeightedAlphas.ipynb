{
 "cells": [
  {
   "cell_type": "markdown",
   "metadata": {},
   "source": [
    "##  pretrained models in PyTorch\n",
    "\n",
    "### Generate data for Paper; does not use WeightWatcher tool here\n",
    "\n",
    "This code is the basis for the tool.\n",
    "\n",
    "\n",
    "This notebook only has the default pyTorch models\n",
    "\n",
    "More models are available in the osmr and/or cadene repos\n",
    "\n",
    "https://github.com/Cadene/pretrained-models.pytorch"
   ]
  },
  {
   "cell_type": "code",
   "execution_count": 4,
   "metadata": {
    "ExecuteTime": {
     "end_time": "2018-10-22T21:29:11.918002Z",
     "start_time": "2018-10-22T21:29:06.826556Z"
    }
   },
   "outputs": [],
   "source": [
    "import torch\n",
    "import torchvision.models as models\n",
    "import torchvision.transforms as transforms\n",
    "import torch.nn as nn\n",
    "\n",
    "import pandas as pd\n",
    "\n",
    "import numpy as np\n",
    "import powerlaw\n",
    "\n",
    "from sklearn.decomposition import TruncatedSVD\n",
    " \n",
    "\n",
    "from tqdm import tqdm_notebook as tqdm\n",
    "\n",
    "import matplotlib\n",
    "import numpy as np\n",
    "import matplotlib.pyplot as plt\n",
    "%matplotlib inline  "
   ]
  },
  {
   "cell_type": "code",
   "execution_count": 5,
   "metadata": {
    "ExecuteTime": {
     "end_time": "2018-10-22T21:29:18.999881Z",
     "start_time": "2018-10-22T21:29:18.983979Z"
    }
   },
   "outputs": [],
   "source": [
    "import matplotlib.pyplot as plt\n",
    "plt.rcParams['figure.figsize'] = [5,5]\n",
    "matplotlib.rcParams.update({'font.size': 16})"
   ]
  },
  {
   "cell_type": "markdown",
   "metadata": {},
   "source": [
    "### Models in Torch\n",
    "\n",
    "Accuracies file is taken from the Cadene website\n",
    "\n",
    "https://github.com/Cadene/pretrained-models.pytorch\n",
    "\n",
    "Although I discovered later that this package does not work consistantly so I just use the prebuilt pytorch models here\n",
    "\n",
    "### <font color='red'> Check this file to ensure the numbers are correct...I am sure the trends are correct"
   ]
  },
  {
   "cell_type": "code",
   "execution_count": 6,
   "metadata": {
    "ExecuteTime": {
     "end_time": "2018-10-22T21:29:21.548282Z",
     "start_time": "2018-10-22T21:29:21.506963Z"
    }
   },
   "outputs": [
    {
     "data": {
      "text/plain": [
       "62"
      ]
     },
     "execution_count": 6,
     "metadata": {},
     "output_type": "execute_result"
    }
   ],
   "source": [
    "accuracies = pd.read_csv('accuracies', delimiter=\"\\t\")\n",
    "len(accuracies)"
   ]
  },
  {
   "cell_type": "code",
   "execution_count": 7,
   "metadata": {
    "ExecuteTime": {
     "end_time": "2018-10-22T21:29:22.194786Z",
     "start_time": "2018-10-22T21:29:22.173139Z"
    }
   },
   "outputs": [
    {
     "data": {
      "text/plain": [
       "array(['Tensorflow', 'ourporting', 'Caffe', 'Torch7', 'Keras', 'Pytorch'],\n",
       "      dtype=object)"
      ]
     },
     "execution_count": 7,
     "metadata": {},
     "output_type": "execute_result"
    }
   ],
   "source": [
    "accuracies['platform'].unique()"
   ]
  },
  {
   "cell_type": "code",
   "execution_count": 8,
   "metadata": {
    "ExecuteTime": {
     "end_time": "2018-10-22T21:29:22.635859Z",
     "start_time": "2018-10-22T21:29:22.584119Z"
    }
   },
   "outputs": [
    {
     "data": {
      "text/plain": [
       "(24,                   model    platform    acc1    acc5\n",
       " 1       PNASNet-5-Large  ourporting  82.736  95.992\n",
       " 3        NASNet-A-Large  ourporting  82.566  96.086\n",
       " 5              SENet154  ourporting  81.304  95.498\n",
       " 7               PolyNet  ourporting  81.002  95.624\n",
       " 10  SE-ResNeXt101_32x4d  ourporting  80.236  95.028\n",
       " 12    InceptionResNetV2  ourporting  80.170  95.234\n",
       " 13          InceptionV4  ourporting  80.062  94.926\n",
       " 14    DualPathNet107_5k  ourporting  79.746  94.684\n",
       " 16       DualPathNet131  ourporting  79.432  94.574\n",
       " 17     DualPathNet92_5k  ourporting  79.400  94.620\n",
       " 18        DualPathNet98  ourporting  79.224  94.488\n",
       " 19   SE-ResNeXt50_32x4d  ourporting  79.076  94.434\n",
       " 22     ResNeXt101_64x4d  ourporting  78.956  94.252\n",
       " 23             Xception  ourporting  78.888  94.292\n",
       " 26         SE-ResNet152  ourporting  78.658  94.374\n",
       " 28         SE-ResNet101  ourporting  78.396  94.258\n",
       " 30     ResNeXt101_32x4d  ourporting  78.188  93.886\n",
       " 33          SE-ResNet50  ourporting  77.636  93.752\n",
       " 36          FBResNet152  ourporting  77.386  93.594\n",
       " 39    DualPathNet68b_5k  ourporting  77.034  93.590\n",
       " 41       CaffeResnet101  ourporting  76.200  92.766\n",
       " 44        DualPathNet68  ourporting  75.868  92.774\n",
       " 48      NASNet-A-Mobile  ourporting  74.080  91.740\n",
       " 50          BNInception  ourporting  73.522  91.560)"
      ]
     },
     "execution_count": 8,
     "metadata": {},
     "output_type": "execute_result"
    }
   ],
   "source": [
    "our_acc = accuracies[accuracies['platform']=='ourporting']\n",
    "len(our_acc), our_acc"
   ]
  },
  {
   "cell_type": "code",
   "execution_count": 9,
   "metadata": {
    "ExecuteTime": {
     "end_time": "2018-10-22T21:29:23.152825Z",
     "start_time": "2018-10-22T21:29:23.109944Z"
    }
   },
   "outputs": [
    {
     "data": {
      "text/plain": [
       "(21,             model platform    acc1    acc5\n",
       " 27      ResNet152  Pytorch  78.428  94.110\n",
       " 34    DenseNet161  Pytorch  77.560  93.798\n",
       " 35      ResNet101  Pytorch  77.438  93.672\n",
       " 37    InceptionV3  Pytorch  77.294  93.454\n",
       " 38    DenseNet201  Pytorch  77.152  93.548\n",
       " 42    DenseNet169  Pytorch  76.026  92.992\n",
       " 43       ResNet50  Pytorch  76.002  92.980\n",
       " 45    DenseNet121  Pytorch  74.646  92.136\n",
       " 46       VGG19_BN  Pytorch  74.266  92.066\n",
       " 49       ResNet34  Pytorch  73.554  91.456\n",
       " 51       VGG16_BN  Pytorch  73.518  91.608\n",
       " 52          VGG19  Pytorch  72.080  90.822\n",
       " 53          VGG16  Pytorch  71.636  90.354\n",
       " 54       VGG13_BN  Pytorch  71.508  90.494\n",
       " 55       VGG11_BN  Pytorch  70.452  89.818\n",
       " 56       ResNet18  Pytorch  70.142  89.274\n",
       " 57          VGG13  Pytorch  69.662  89.264\n",
       " 58          VGG11  Pytorch  68.970  88.746\n",
       " 59  SqueezeNet1_1  Pytorch  58.250  80.800\n",
       " 60  SqueezeNet1_0  Pytorch  58.108  80.428\n",
       " 61        Alexnet  Pytorch  56.432  79.194)"
      ]
     },
     "execution_count": 9,
     "metadata": {},
     "output_type": "execute_result"
    }
   ],
   "source": [
    "py_acc = accuracies[accuracies['platform']=='Pytorch']\n",
    "len(py_acc), py_acc"
   ]
  },
  {
   "cell_type": "markdown",
   "metadata": {},
   "source": [
    "- merge dataframes\n",
    "- get model names\n",
    "- load pretrained\n",
    "- compute lognorm\n",
    "- store in data frame"
   ]
  },
  {
   "cell_type": "code",
   "execution_count": 10,
   "metadata": {
    "ExecuteTime": {
     "end_time": "2018-10-22T21:29:24.126421Z",
     "start_time": "2018-10-22T21:29:24.087431Z"
    }
   },
   "outputs": [
    {
     "data": {
      "text/html": [
       "<div>\n",
       "<style scoped>\n",
       "    .dataframe tbody tr th:only-of-type {\n",
       "        vertical-align: middle;\n",
       "    }\n",
       "\n",
       "    .dataframe tbody tr th {\n",
       "        vertical-align: top;\n",
       "    }\n",
       "\n",
       "    .dataframe thead th {\n",
       "        text-align: right;\n",
       "    }\n",
       "</style>\n",
       "<table border=\"1\" class=\"dataframe\">\n",
       "  <thead>\n",
       "    <tr style=\"text-align: right;\">\n",
       "      <th></th>\n",
       "      <th>model</th>\n",
       "      <th>platform</th>\n",
       "      <th>acc1</th>\n",
       "      <th>acc5</th>\n",
       "    </tr>\n",
       "  </thead>\n",
       "  <tbody>\n",
       "    <tr>\n",
       "      <th>27</th>\n",
       "      <td>ResNet152</td>\n",
       "      <td>Pytorch</td>\n",
       "      <td>78.428</td>\n",
       "      <td>94.110</td>\n",
       "    </tr>\n",
       "    <tr>\n",
       "      <th>34</th>\n",
       "      <td>DenseNet161</td>\n",
       "      <td>Pytorch</td>\n",
       "      <td>77.560</td>\n",
       "      <td>93.798</td>\n",
       "    </tr>\n",
       "    <tr>\n",
       "      <th>35</th>\n",
       "      <td>ResNet101</td>\n",
       "      <td>Pytorch</td>\n",
       "      <td>77.438</td>\n",
       "      <td>93.672</td>\n",
       "    </tr>\n",
       "    <tr>\n",
       "      <th>37</th>\n",
       "      <td>InceptionV3</td>\n",
       "      <td>Pytorch</td>\n",
       "      <td>77.294</td>\n",
       "      <td>93.454</td>\n",
       "    </tr>\n",
       "    <tr>\n",
       "      <th>38</th>\n",
       "      <td>DenseNet201</td>\n",
       "      <td>Pytorch</td>\n",
       "      <td>77.152</td>\n",
       "      <td>93.548</td>\n",
       "    </tr>\n",
       "  </tbody>\n",
       "</table>\n",
       "</div>"
      ],
      "text/plain": [
       "          model platform    acc1    acc5\n",
       "27    ResNet152  Pytorch  78.428  94.110\n",
       "34  DenseNet161  Pytorch  77.560  93.798\n",
       "35    ResNet101  Pytorch  77.438  93.672\n",
       "37  InceptionV3  Pytorch  77.294  93.454\n",
       "38  DenseNet201  Pytorch  77.152  93.548"
      ]
     },
     "execution_count": 10,
     "metadata": {},
     "output_type": "execute_result"
    }
   ],
   "source": [
    "df =  pd.concat([py_acc, our_acc])\n",
    "df.head()"
   ]
  },
  {
   "cell_type": "markdown",
   "metadata": {},
   "source": [
    "### Minimum dimension for W"
   ]
  },
  {
   "cell_type": "code",
   "execution_count": 11,
   "metadata": {
    "ExecuteTime": {
     "end_time": "2018-10-22T21:29:25.271404Z",
     "start_time": "2018-10-22T21:29:25.262224Z"
    }
   },
   "outputs": [],
   "source": [
    "MIN_DIM = 50"
   ]
  },
  {
   "cell_type": "markdown",
   "metadata": {},
   "source": [
    "### All Linear Models"
   ]
  },
  {
   "cell_type": "code",
   "execution_count": 12,
   "metadata": {},
   "outputs": [],
   "source": [
    "def get_conv2D_Wmats(Wtensor):\n",
    "    \"\"\"Extract W slices from a 4 index conv2D tensor of shape: (N,M,i,j) or (M,N,i,j).  Return ij (N x M) matrices\"\"\"\n",
    "    Wmats = []\n",
    "    s = Wtensor.shape\n",
    "    N, M, imax, jmax = s[0],s[1],s[2],s[3]\n",
    "    #print(\"tensor shape\", N,M,imax,jmax)\n",
    "    for i in range(imax):\n",
    "        for j in range(jmax):\n",
    "            W = Wtensor[:,:,i,j]\n",
    "            if N < M:\n",
    "                W = W.T\n",
    "            Wmats.append(W)\n",
    "    return Wmats"
   ]
  },
  {
   "cell_type": "code",
   "execution_count": 13,
   "metadata": {
    "ExecuteTime": {
     "end_time": "2018-10-22T21:29:26.344742Z",
     "start_time": "2018-10-22T21:29:26.314026Z"
    }
   },
   "outputs": [],
   "source": [
    "def count_layers(model):\n",
    "    \"\"\"Loops over a pytorch model and counts all the weight matrices, linear, conv2d, and conv2d-slices\"\"\"\n",
    "    num_linear, num_conv2d, num_conv2d_slices = 0, 0, 0\n",
    "    \n",
    "    for im, m in enumerate(model.modules()):\n",
    "        #print(im,m)\n",
    "        if isinstance(m, nn.Linear):    \n",
    "            #print(\"linear\")\n",
    "            W = np.array(m.weight.data.clone().cpu())\n",
    "            if W is not None:\n",
    "                #print(im,m, W.shape)\n",
    "                num_linear += 1\n",
    "        elif isinstance(m, nn.Conv2d):\n",
    "            #print(\"conv2d\")\n",
    "            Wtensor = np.array(m.weight.data.clone().cpu())\n",
    "            #print(Wtensor.shape)\n",
    "            Wmats = get_conv2D_Wmats(Wtensor)\n",
    "            #print(im,m)\n",
    "            num_conv2d += 1\n",
    "            for W in Wmats:\n",
    "                #print(W.shape)\n",
    "                if (np.min(W.shape) >= MIN_DIM):\n",
    "                    num_conv2d_slices += 1\n",
    "                \n",
    "    return num_linear, num_conv2d, num_conv2d_slices\n",
    "        "
   ]
  },
  {
   "cell_type": "code",
   "execution_count": 14,
   "metadata": {
    "ExecuteTime": {
     "end_time": "2018-10-22T21:29:27.441606Z",
     "start_time": "2018-10-22T21:29:27.411156Z"
    }
   },
   "outputs": [],
   "source": [
    "def iter_pytorch_layers(model, min_dim=MIN_DIM):\n",
    "    \"\"\"Iterate over a pytorch layers and  weight matrix.  \n",
    "    Supports linear, conv2d, and conv2d-slices\"\"\"\n",
    "    for im, m in enumerate(model.modules()):\n",
    "        if isinstance(m, nn.Linear):     \n",
    "            W = np.array(m.weight.data.clone().cpu())\n",
    "            if W is not None:\n",
    "                yield W\n",
    "        elif isinstance(m, nn.Conv2d):\n",
    "            Wtensor = np.array(m.weight.data.clone().cpu())\n",
    "            Wmats = get_conv2D_Wmats(Wtensor)\n",
    "            for W in Wmats:\n",
    "                if (np.min(W.shape) >= min_dim):\n",
    "                    yield W"
   ]
  },
  {
   "cell_type": "code",
   "execution_count": 15,
   "metadata": {
    "ExecuteTime": {
     "end_time": "2018-10-22T21:30:00.199636Z",
     "start_time": "2018-10-22T21:30:00.179436Z"
    }
   },
   "outputs": [],
   "source": [
    "def calc_model_weighted_alphas(model):\n",
    "    try:\n",
    "        w_alphas = []\n",
    "\n",
    "        for W in tqdm(iter_pytorch_layers(model)):\n",
    "            M, N = np.min(W.shape), np.max(W.shape)\n",
    "            \n",
    "            # we do NOT normalize by N here...\n",
    "            # probably should uses tructaed ZSVD for speed\n",
    "            #X=np.dot(W.T,W)#/N\n",
    "            #evals = np.linalg.eigvals(X)\n",
    "            \n",
    "            # orders of magnitude faster, even if we are missing very small 1 SV\n",
    "            svd = TruncatedSVD(n_components=M-1, n_iter=7, random_state=42)\n",
    "            svd.fit(W) \n",
    "            sv = svd.singular_values_\n",
    "            evals = sv*sv\n",
    "\n",
    "            l_max, l_min = np.max(evals), np.min(evals)\n",
    "        \n",
    "            fit = powerlaw.Fit(evals, xmax=l_max, verbose=False)\n",
    "            w_alphas.append(fit.alpha*np.log10(l_max))\n",
    "            \n",
    "\n",
    "    except Exception as e: \n",
    "\n",
    "        print(\"skipping \", model_name)\n",
    "        print(e)\n",
    "\n",
    "        pass\n",
    "    \n",
    "    return w_alphas"
   ]
  },
  {
   "cell_type": "code",
   "execution_count": 16,
   "metadata": {
    "ExecuteTime": {
     "end_time": "2018-10-22T21:32:36.320118Z",
     "start_time": "2018-10-22T21:30:02.517846Z"
    }
   },
   "outputs": [
    {
     "name": "stdout",
     "output_type": "stream",
     "text": [
      "vgg11\n"
     ]
    },
    {
     "data": {
      "application/vnd.jupyter.widget-view+json": {
       "model_id": "11d381ebcbc141e3a7de986c22ab3b53",
       "version_major": 2,
       "version_minor": 0
      },
      "text/plain": [
       "HBox(children=(IntProgress(value=1, bar_style='info', max=1), HTML(value='')))"
      ]
     },
     "metadata": {},
     "output_type": "display_data"
    },
    {
     "name": "stderr",
     "output_type": "stream",
     "text": [
      "/Users/charleshmartin/anaconda3/lib/python3.6/site-packages/powerlaw.py:700: RuntimeWarning: divide by zero encountered in true_divide\n",
      "  (Theoretical_CDF * (1 - Theoretical_CDF))\n",
      "/Users/charleshmartin/anaconda3/lib/python3.6/site-packages/powerlaw.py:700: RuntimeWarning: invalid value encountered in true_divide\n",
      "  (Theoretical_CDF * (1 - Theoretical_CDF))\n"
     ]
    },
    {
     "name": "stdout",
     "output_type": "stream",
     "text": [
      "\n",
      "vgg11_bn\n"
     ]
    },
    {
     "data": {
      "application/vnd.jupyter.widget-view+json": {
       "model_id": "5289669f7f4741c7a28722a4cd480473",
       "version_major": 2,
       "version_minor": 0
      },
      "text/plain": [
       "HBox(children=(IntProgress(value=1, bar_style='info', max=1), HTML(value='')))"
      ]
     },
     "metadata": {},
     "output_type": "display_data"
    },
    {
     "name": "stdout",
     "output_type": "stream",
     "text": [
      "\n",
      "vgg13\n"
     ]
    },
    {
     "data": {
      "application/vnd.jupyter.widget-view+json": {
       "model_id": "7afe2f1cc9ff46a1865c00faf3705858",
       "version_major": 2,
       "version_minor": 0
      },
      "text/plain": [
       "HBox(children=(IntProgress(value=1, bar_style='info', max=1), HTML(value='')))"
      ]
     },
     "metadata": {},
     "output_type": "display_data"
    },
    {
     "name": "stdout",
     "output_type": "stream",
     "text": [
      "\n",
      "vgg13_bn\n"
     ]
    },
    {
     "data": {
      "application/vnd.jupyter.widget-view+json": {
       "model_id": "e891d4f0fd74468daddf73fedde9d61e",
       "version_major": 2,
       "version_minor": 0
      },
      "text/plain": [
       "HBox(children=(IntProgress(value=1, bar_style='info', max=1), HTML(value='')))"
      ]
     },
     "metadata": {},
     "output_type": "display_data"
    },
    {
     "name": "stdout",
     "output_type": "stream",
     "text": [
      "\n",
      "vgg16\n"
     ]
    },
    {
     "data": {
      "application/vnd.jupyter.widget-view+json": {
       "model_id": "bc41206af8a34655b2db32785bd60fcf",
       "version_major": 2,
       "version_minor": 0
      },
      "text/plain": [
       "HBox(children=(IntProgress(value=1, bar_style='info', max=1), HTML(value='')))"
      ]
     },
     "metadata": {},
     "output_type": "display_data"
    },
    {
     "name": "stdout",
     "output_type": "stream",
     "text": [
      "\n",
      "vgg16_bn\n"
     ]
    },
    {
     "data": {
      "application/vnd.jupyter.widget-view+json": {
       "model_id": "f3600e847638452088efb8d7da0e20ab",
       "version_major": 2,
       "version_minor": 0
      },
      "text/plain": [
       "HBox(children=(IntProgress(value=1, bar_style='info', max=1), HTML(value='')))"
      ]
     },
     "metadata": {},
     "output_type": "display_data"
    },
    {
     "name": "stdout",
     "output_type": "stream",
     "text": [
      "\n",
      "vgg19\n"
     ]
    },
    {
     "data": {
      "application/vnd.jupyter.widget-view+json": {
       "model_id": "07ffbc4247524ffc98b37221b22db1ef",
       "version_major": 2,
       "version_minor": 0
      },
      "text/plain": [
       "HBox(children=(IntProgress(value=1, bar_style='info', max=1), HTML(value='')))"
      ]
     },
     "metadata": {},
     "output_type": "display_data"
    },
    {
     "name": "stdout",
     "output_type": "stream",
     "text": [
      "\n",
      "vgg19_bn\n"
     ]
    },
    {
     "data": {
      "application/vnd.jupyter.widget-view+json": {
       "model_id": "b5983c4cad284b48b4fc25f7b21e1c6f",
       "version_major": 2,
       "version_minor": 0
      },
      "text/plain": [
       "HBox(children=(IntProgress(value=1, bar_style='info', max=1), HTML(value='')))"
      ]
     },
     "metadata": {},
     "output_type": "display_data"
    },
    {
     "name": "stdout",
     "output_type": "stream",
     "text": [
      "\n",
      "squeezenet1_0\n"
     ]
    },
    {
     "name": "stderr",
     "output_type": "stream",
     "text": [
      "/Users/charleshmartin/anaconda3/lib/python3.6/site-packages/torchvision/models/squeezenet.py:94: UserWarning: nn.init.kaiming_uniform is now deprecated in favor of nn.init.kaiming_uniform_.\n",
      "  init.kaiming_uniform(m.weight.data)\n",
      "/Users/charleshmartin/anaconda3/lib/python3.6/site-packages/torchvision/models/squeezenet.py:92: UserWarning: nn.init.normal is now deprecated in favor of nn.init.normal_.\n",
      "  init.normal(m.weight.data, mean=0.0, std=0.01)\n"
     ]
    },
    {
     "data": {
      "application/vnd.jupyter.widget-view+json": {
       "model_id": "ecfba8a0a64c42859975eff1255342a7",
       "version_major": 2,
       "version_minor": 0
      },
      "text/plain": [
       "HBox(children=(IntProgress(value=1, bar_style='info', max=1), HTML(value='')))"
      ]
     },
     "metadata": {},
     "output_type": "display_data"
    },
    {
     "name": "stdout",
     "output_type": "stream",
     "text": [
      "\n",
      "squeezenet1_1\n"
     ]
    },
    {
     "data": {
      "application/vnd.jupyter.widget-view+json": {
       "model_id": "39e8b959120a47839f6aa8c9049b3033",
       "version_major": 2,
       "version_minor": 0
      },
      "text/plain": [
       "HBox(children=(IntProgress(value=1, bar_style='info', max=1), HTML(value='')))"
      ]
     },
     "metadata": {},
     "output_type": "display_data"
    },
    {
     "name": "stderr",
     "output_type": "stream",
     "text": [
      "/Users/charleshmartin/anaconda3/lib/python3.6/site-packages/powerlaw.py:1178: RuntimeWarning: overflow encountered in double_scalars\n",
      "  return (self.alpha-1) * self.xmin**(self.alpha-1)\n",
      "/Users/charleshmartin/anaconda3/lib/python3.6/site-packages/powerlaw.py:825: RuntimeWarning: invalid value encountered in multiply\n",
      "  likelihoods = f*C\n",
      "/Users/charleshmartin/anaconda3/lib/python3.6/site-packages/scipy/optimize/optimize.py:563: RuntimeWarning: invalid value encountered in subtract\n",
      "  numpy.max(numpy.abs(fsim[0] - fsim[1:])) <= fatol):\n"
     ]
    },
    {
     "name": "stdout",
     "output_type": "stream",
     "text": [
      "\n",
      "densenet121\n"
     ]
    },
    {
     "name": "stderr",
     "output_type": "stream",
     "text": [
      "/Users/charleshmartin/anaconda3/lib/python3.6/site-packages/torchvision/models/densenet.py:212: UserWarning: nn.init.kaiming_normal is now deprecated in favor of nn.init.kaiming_normal_.\n",
      "  nn.init.kaiming_normal(m.weight.data)\n"
     ]
    },
    {
     "data": {
      "application/vnd.jupyter.widget-view+json": {
       "model_id": "8c3ff79d8388426a8a6f7abf0147fd0e",
       "version_major": 2,
       "version_minor": 0
      },
      "text/plain": [
       "HBox(children=(IntProgress(value=1, bar_style='info', max=1), HTML(value='')))"
      ]
     },
     "metadata": {},
     "output_type": "display_data"
    },
    {
     "name": "stdout",
     "output_type": "stream",
     "text": [
      "\n",
      "densenet161\n"
     ]
    },
    {
     "data": {
      "application/vnd.jupyter.widget-view+json": {
       "model_id": "1722bf7ac9834e019659fe726aa6703c",
       "version_major": 2,
       "version_minor": 0
      },
      "text/plain": [
       "HBox(children=(IntProgress(value=1, bar_style='info', max=1), HTML(value='')))"
      ]
     },
     "metadata": {},
     "output_type": "display_data"
    },
    {
     "name": "stdout",
     "output_type": "stream",
     "text": [
      "\n",
      "densenet169\n"
     ]
    },
    {
     "data": {
      "application/vnd.jupyter.widget-view+json": {
       "model_id": "7b8d042288f7468b87f8a3c253d351e7",
       "version_major": 2,
       "version_minor": 0
      },
      "text/plain": [
       "HBox(children=(IntProgress(value=1, bar_style='info', max=1), HTML(value='')))"
      ]
     },
     "metadata": {},
     "output_type": "display_data"
    },
    {
     "name": "stdout",
     "output_type": "stream",
     "text": [
      "\n",
      "densenet201\n"
     ]
    },
    {
     "data": {
      "application/vnd.jupyter.widget-view+json": {
       "model_id": "cc1adc8bc50645e4927fef65ce9d283c",
       "version_major": 2,
       "version_minor": 0
      },
      "text/plain": [
       "HBox(children=(IntProgress(value=1, bar_style='info', max=1), HTML(value='')))"
      ]
     },
     "metadata": {},
     "output_type": "display_data"
    },
    {
     "name": "stdout",
     "output_type": "stream",
     "text": [
      "\n",
      "resnet18\n"
     ]
    },
    {
     "data": {
      "application/vnd.jupyter.widget-view+json": {
       "model_id": "377dfd9b092644a8a4e11f12549f35f5",
       "version_major": 2,
       "version_minor": 0
      },
      "text/plain": [
       "HBox(children=(IntProgress(value=1, bar_style='info', max=1), HTML(value='')))"
      ]
     },
     "metadata": {},
     "output_type": "display_data"
    },
    {
     "name": "stdout",
     "output_type": "stream",
     "text": [
      "\n",
      "resnet34\n"
     ]
    },
    {
     "data": {
      "application/vnd.jupyter.widget-view+json": {
       "model_id": "8d92f5791c9a444f96771a876088b96d",
       "version_major": 2,
       "version_minor": 0
      },
      "text/plain": [
       "HBox(children=(IntProgress(value=1, bar_style='info', max=1), HTML(value='')))"
      ]
     },
     "metadata": {},
     "output_type": "display_data"
    },
    {
     "name": "stdout",
     "output_type": "stream",
     "text": [
      "\n",
      "resnet50\n"
     ]
    },
    {
     "data": {
      "application/vnd.jupyter.widget-view+json": {
       "model_id": "70d2fe50d7a84717a7971f1dbef2be81",
       "version_major": 2,
       "version_minor": 0
      },
      "text/plain": [
       "HBox(children=(IntProgress(value=1, bar_style='info', max=1), HTML(value='')))"
      ]
     },
     "metadata": {},
     "output_type": "display_data"
    },
    {
     "name": "stdout",
     "output_type": "stream",
     "text": [
      "\n",
      "resnet101\n"
     ]
    },
    {
     "data": {
      "application/vnd.jupyter.widget-view+json": {
       "model_id": "a19e5ca9b57845b9a639012e1c7c410b",
       "version_major": 2,
       "version_minor": 0
      },
      "text/plain": [
       "HBox(children=(IntProgress(value=1, bar_style='info', max=1), HTML(value='')))"
      ]
     },
     "metadata": {},
     "output_type": "display_data"
    },
    {
     "name": "stdout",
     "output_type": "stream",
     "text": [
      "\n",
      "resnet152\n"
     ]
    },
    {
     "data": {
      "application/vnd.jupyter.widget-view+json": {
       "model_id": "9f96b92d29d740ea938340b68b7b03e5",
       "version_major": 2,
       "version_minor": 0
      },
      "text/plain": [
       "HBox(children=(IntProgress(value=1, bar_style='info', max=1), HTML(value='')))"
      ]
     },
     "metadata": {},
     "output_type": "display_data"
    },
    {
     "name": "stdout",
     "output_type": "stream",
     "text": [
      "\n"
     ]
    }
   ],
   "source": [
    "w_alphas_4model = {}\n",
    "counts_4model = {}\n",
    "#models = [m.lower().replace('-','') for m in df['model'].values]\n",
    "model_names = []\n",
    "\n",
    "def update_model(model_name, model):\n",
    "    print(model_name)\n",
    "    w_alphas_4model[model_name] = calc_model_weighted_alphas(model)\n",
    "    counts_4model[model_name] = count_layers(model)\n",
    "    model_names.append(model_name)\n",
    "    \n",
    "    \n",
    "try:\n",
    "    model_name = 'vgg11'\n",
    "    model = models.vgg11(pretrained=True)\n",
    "    update_model(model_name, model)\n",
    "   \n",
    "    model_name = 'vgg11_bn'\n",
    "    model = models.vgg11_bn(pretrained=True)\n",
    "    update_model(model_name, model)\n",
    "    \n",
    "    model_name = 'vgg13'\n",
    "    model = models.vgg13(pretrained=True)\n",
    "    update_model(model_name, model)\n",
    "   \n",
    "    model_name = 'vgg13_bn'\n",
    "    model = models.vgg13_bn(pretrained=True)\n",
    "    update_model(model_name, model)\n",
    "    \n",
    "    model_name = 'vgg16'\n",
    "    model = models.vgg16(pretrained=True)\n",
    "    update_model(model_name, model)\n",
    "   \n",
    "    model_name = 'vgg16_bn'\n",
    "    model = models.vgg16_bn(pretrained=True)\n",
    "    update_model(model_name, model)\n",
    "    \n",
    "    model_name = 'vgg19'\n",
    "    model = models.vgg19(pretrained=True)\n",
    "    update_model(model_name, model)\n",
    "   \n",
    "    model_name = 'vgg19_bn'\n",
    "    model = models.vgg19_bn(pretrained=True)\n",
    "    update_model(model_name, model)\n",
    "    \n",
    "\n",
    "    model_name = 'squeezenet1_0'\n",
    "    model = models.squeezenet1_0(pretrained=True)\n",
    "    update_model(model_name, model)\n",
    "    \n",
    "    model_name = 'squeezenet1_1'\n",
    "    model = models.squeezenet1_1(pretrained=True)\n",
    "    update_model(model_name, model)\n",
    "    \n",
    "    model_name = 'densenet121'\n",
    "    model = models.densenet121(pretrained=True)\n",
    "    update_model(model_name, model)\n",
    "    \n",
    "    model_name = 'densenet161'\n",
    "    model = models.densenet161(pretrained=True)\n",
    "    update_model(model_name, model)\n",
    "    \n",
    "    model_name = 'densenet169'\n",
    "    model = models.densenet169(pretrained=True)\n",
    "    update_model(model_name, model)\n",
    "    \n",
    "    model_name = 'densenet201'\n",
    "    model = models.densenet201(pretrained=True)\n",
    "    update_model(model_name, model)\n",
    "    \n",
    "    model_name = 'resnet18'\n",
    "    model = models.resnet18(pretrained=True)\n",
    "    update_model(model_name, model)\n",
    "    \n",
    "    model_name = 'resnet34'\n",
    "    model = models.resnet34(pretrained=True)\n",
    "    update_model(model_name, model)\n",
    "        \n",
    "    model_name = 'resnet50'\n",
    "    model = models.resnet50(pretrained=True)\n",
    "    update_model(model_name, model)\n",
    "\n",
    "    model_name = 'resnet101'\n",
    "    model = models.resnet101(pretrained=True)\n",
    "    update_model(model_name, model)\n",
    "\n",
    "    model_name = 'resnet152'\n",
    "    model = models.resnet152(pretrained=True)\n",
    "    update_model(model_name, model)\n",
    "    \n",
    "    \n",
    "except Exception as e: \n",
    "\n",
    "    print(\"skipping \", model_name)\n",
    "    print(e)\n",
    "    pass"
   ]
  },
  {
   "cell_type": "code",
   "execution_count": 17,
   "metadata": {
    "ExecuteTime": {
     "end_time": "2018-10-22T21:32:46.115759Z",
     "start_time": "2018-10-22T21:32:46.076314Z"
    }
   },
   "outputs": [
    {
     "data": {
      "text/html": [
       "<div>\n",
       "<style scoped>\n",
       "    .dataframe tbody tr th:only-of-type {\n",
       "        vertical-align: middle;\n",
       "    }\n",
       "\n",
       "    .dataframe tbody tr th {\n",
       "        vertical-align: top;\n",
       "    }\n",
       "\n",
       "    .dataframe thead th {\n",
       "        text-align: right;\n",
       "    }\n",
       "</style>\n",
       "<table border=\"1\" class=\"dataframe\">\n",
       "  <thead>\n",
       "    <tr style=\"text-align: right;\">\n",
       "      <th></th>\n",
       "      <th>model</th>\n",
       "      <th>platform</th>\n",
       "      <th>acc1</th>\n",
       "      <th>acc5</th>\n",
       "    </tr>\n",
       "  </thead>\n",
       "  <tbody>\n",
       "    <tr>\n",
       "      <th>27</th>\n",
       "      <td>ResNet152</td>\n",
       "      <td>Pytorch</td>\n",
       "      <td>78.428</td>\n",
       "      <td>94.110</td>\n",
       "    </tr>\n",
       "    <tr>\n",
       "      <th>34</th>\n",
       "      <td>DenseNet161</td>\n",
       "      <td>Pytorch</td>\n",
       "      <td>77.560</td>\n",
       "      <td>93.798</td>\n",
       "    </tr>\n",
       "    <tr>\n",
       "      <th>35</th>\n",
       "      <td>ResNet101</td>\n",
       "      <td>Pytorch</td>\n",
       "      <td>77.438</td>\n",
       "      <td>93.672</td>\n",
       "    </tr>\n",
       "    <tr>\n",
       "      <th>37</th>\n",
       "      <td>InceptionV3</td>\n",
       "      <td>Pytorch</td>\n",
       "      <td>77.294</td>\n",
       "      <td>93.454</td>\n",
       "    </tr>\n",
       "    <tr>\n",
       "      <th>38</th>\n",
       "      <td>DenseNet201</td>\n",
       "      <td>Pytorch</td>\n",
       "      <td>77.152</td>\n",
       "      <td>93.548</td>\n",
       "    </tr>\n",
       "  </tbody>\n",
       "</table>\n",
       "</div>"
      ],
      "text/plain": [
       "          model platform    acc1    acc5\n",
       "27    ResNet152  Pytorch  78.428  94.110\n",
       "34  DenseNet161  Pytorch  77.560  93.798\n",
       "35    ResNet101  Pytorch  77.438  93.672\n",
       "37  InceptionV3  Pytorch  77.294  93.454\n",
       "38  DenseNet201  Pytorch  77.152  93.548"
      ]
     },
     "execution_count": 17,
     "metadata": {},
     "output_type": "execute_result"
    }
   ],
   "source": [
    "df.head()"
   ]
  },
  {
   "cell_type": "code",
   "execution_count": 18,
   "metadata": {
    "ExecuteTime": {
     "end_time": "2018-10-22T21:32:48.706396Z",
     "start_time": "2018-10-22T21:32:48.624300Z"
    }
   },
   "outputs": [
    {
     "data": {
      "text/html": [
       "<div>\n",
       "<style scoped>\n",
       "    .dataframe tbody tr th:only-of-type {\n",
       "        vertical-align: middle;\n",
       "    }\n",
       "\n",
       "    .dataframe tbody tr th {\n",
       "        vertical-align: top;\n",
       "    }\n",
       "\n",
       "    .dataframe thead th {\n",
       "        text-align: right;\n",
       "    }\n",
       "</style>\n",
       "<table border=\"1\" class=\"dataframe\">\n",
       "  <thead>\n",
       "    <tr style=\"text-align: right;\">\n",
       "      <th></th>\n",
       "      <th>model</th>\n",
       "      <th>platform</th>\n",
       "      <th>acc1</th>\n",
       "      <th>acc5</th>\n",
       "      <th>modelname</th>\n",
       "    </tr>\n",
       "  </thead>\n",
       "  <tbody>\n",
       "    <tr>\n",
       "      <th>27</th>\n",
       "      <td>ResNet152</td>\n",
       "      <td>Pytorch</td>\n",
       "      <td>78.428</td>\n",
       "      <td>94.110</td>\n",
       "      <td>resnet152</td>\n",
       "    </tr>\n",
       "    <tr>\n",
       "      <th>34</th>\n",
       "      <td>DenseNet161</td>\n",
       "      <td>Pytorch</td>\n",
       "      <td>77.560</td>\n",
       "      <td>93.798</td>\n",
       "      <td>densenet161</td>\n",
       "    </tr>\n",
       "    <tr>\n",
       "      <th>35</th>\n",
       "      <td>ResNet101</td>\n",
       "      <td>Pytorch</td>\n",
       "      <td>77.438</td>\n",
       "      <td>93.672</td>\n",
       "      <td>resnet101</td>\n",
       "    </tr>\n",
       "    <tr>\n",
       "      <th>37</th>\n",
       "      <td>InceptionV3</td>\n",
       "      <td>Pytorch</td>\n",
       "      <td>77.294</td>\n",
       "      <td>93.454</td>\n",
       "      <td>inceptionv3</td>\n",
       "    </tr>\n",
       "    <tr>\n",
       "      <th>38</th>\n",
       "      <td>DenseNet201</td>\n",
       "      <td>Pytorch</td>\n",
       "      <td>77.152</td>\n",
       "      <td>93.548</td>\n",
       "      <td>densenet201</td>\n",
       "    </tr>\n",
       "    <tr>\n",
       "      <th>42</th>\n",
       "      <td>DenseNet169</td>\n",
       "      <td>Pytorch</td>\n",
       "      <td>76.026</td>\n",
       "      <td>92.992</td>\n",
       "      <td>densenet169</td>\n",
       "    </tr>\n",
       "    <tr>\n",
       "      <th>43</th>\n",
       "      <td>ResNet50</td>\n",
       "      <td>Pytorch</td>\n",
       "      <td>76.002</td>\n",
       "      <td>92.980</td>\n",
       "      <td>resnet50</td>\n",
       "    </tr>\n",
       "    <tr>\n",
       "      <th>45</th>\n",
       "      <td>DenseNet121</td>\n",
       "      <td>Pytorch</td>\n",
       "      <td>74.646</td>\n",
       "      <td>92.136</td>\n",
       "      <td>densenet121</td>\n",
       "    </tr>\n",
       "    <tr>\n",
       "      <th>46</th>\n",
       "      <td>VGG19_BN</td>\n",
       "      <td>Pytorch</td>\n",
       "      <td>74.266</td>\n",
       "      <td>92.066</td>\n",
       "      <td>vgg19_bn</td>\n",
       "    </tr>\n",
       "    <tr>\n",
       "      <th>49</th>\n",
       "      <td>ResNet34</td>\n",
       "      <td>Pytorch</td>\n",
       "      <td>73.554</td>\n",
       "      <td>91.456</td>\n",
       "      <td>resnet34</td>\n",
       "    </tr>\n",
       "    <tr>\n",
       "      <th>51</th>\n",
       "      <td>VGG16_BN</td>\n",
       "      <td>Pytorch</td>\n",
       "      <td>73.518</td>\n",
       "      <td>91.608</td>\n",
       "      <td>vgg16_bn</td>\n",
       "    </tr>\n",
       "    <tr>\n",
       "      <th>52</th>\n",
       "      <td>VGG19</td>\n",
       "      <td>Pytorch</td>\n",
       "      <td>72.080</td>\n",
       "      <td>90.822</td>\n",
       "      <td>vgg19</td>\n",
       "    </tr>\n",
       "    <tr>\n",
       "      <th>53</th>\n",
       "      <td>VGG16</td>\n",
       "      <td>Pytorch</td>\n",
       "      <td>71.636</td>\n",
       "      <td>90.354</td>\n",
       "      <td>vgg16</td>\n",
       "    </tr>\n",
       "    <tr>\n",
       "      <th>54</th>\n",
       "      <td>VGG13_BN</td>\n",
       "      <td>Pytorch</td>\n",
       "      <td>71.508</td>\n",
       "      <td>90.494</td>\n",
       "      <td>vgg13_bn</td>\n",
       "    </tr>\n",
       "    <tr>\n",
       "      <th>55</th>\n",
       "      <td>VGG11_BN</td>\n",
       "      <td>Pytorch</td>\n",
       "      <td>70.452</td>\n",
       "      <td>89.818</td>\n",
       "      <td>vgg11_bn</td>\n",
       "    </tr>\n",
       "    <tr>\n",
       "      <th>56</th>\n",
       "      <td>ResNet18</td>\n",
       "      <td>Pytorch</td>\n",
       "      <td>70.142</td>\n",
       "      <td>89.274</td>\n",
       "      <td>resnet18</td>\n",
       "    </tr>\n",
       "    <tr>\n",
       "      <th>57</th>\n",
       "      <td>VGG13</td>\n",
       "      <td>Pytorch</td>\n",
       "      <td>69.662</td>\n",
       "      <td>89.264</td>\n",
       "      <td>vgg13</td>\n",
       "    </tr>\n",
       "    <tr>\n",
       "      <th>58</th>\n",
       "      <td>VGG11</td>\n",
       "      <td>Pytorch</td>\n",
       "      <td>68.970</td>\n",
       "      <td>88.746</td>\n",
       "      <td>vgg11</td>\n",
       "    </tr>\n",
       "    <tr>\n",
       "      <th>59</th>\n",
       "      <td>SqueezeNet1_1</td>\n",
       "      <td>Pytorch</td>\n",
       "      <td>58.250</td>\n",
       "      <td>80.800</td>\n",
       "      <td>squeezenet1_1</td>\n",
       "    </tr>\n",
       "    <tr>\n",
       "      <th>60</th>\n",
       "      <td>SqueezeNet1_0</td>\n",
       "      <td>Pytorch</td>\n",
       "      <td>58.108</td>\n",
       "      <td>80.428</td>\n",
       "      <td>squeezenet1_0</td>\n",
       "    </tr>\n",
       "    <tr>\n",
       "      <th>61</th>\n",
       "      <td>Alexnet</td>\n",
       "      <td>Pytorch</td>\n",
       "      <td>56.432</td>\n",
       "      <td>79.194</td>\n",
       "      <td>alexnet</td>\n",
       "    </tr>\n",
       "    <tr>\n",
       "      <th>1</th>\n",
       "      <td>PNASNet-5-Large</td>\n",
       "      <td>ourporting</td>\n",
       "      <td>82.736</td>\n",
       "      <td>95.992</td>\n",
       "      <td>pnasnet5large</td>\n",
       "    </tr>\n",
       "    <tr>\n",
       "      <th>3</th>\n",
       "      <td>NASNet-A-Large</td>\n",
       "      <td>ourporting</td>\n",
       "      <td>82.566</td>\n",
       "      <td>96.086</td>\n",
       "      <td>nasnetalarge</td>\n",
       "    </tr>\n",
       "    <tr>\n",
       "      <th>5</th>\n",
       "      <td>SENet154</td>\n",
       "      <td>ourporting</td>\n",
       "      <td>81.304</td>\n",
       "      <td>95.498</td>\n",
       "      <td>senet154</td>\n",
       "    </tr>\n",
       "    <tr>\n",
       "      <th>7</th>\n",
       "      <td>PolyNet</td>\n",
       "      <td>ourporting</td>\n",
       "      <td>81.002</td>\n",
       "      <td>95.624</td>\n",
       "      <td>polynet</td>\n",
       "    </tr>\n",
       "    <tr>\n",
       "      <th>10</th>\n",
       "      <td>SE-ResNeXt101_32x4d</td>\n",
       "      <td>ourporting</td>\n",
       "      <td>80.236</td>\n",
       "      <td>95.028</td>\n",
       "      <td>seresnext101_32x4d</td>\n",
       "    </tr>\n",
       "    <tr>\n",
       "      <th>12</th>\n",
       "      <td>InceptionResNetV2</td>\n",
       "      <td>ourporting</td>\n",
       "      <td>80.170</td>\n",
       "      <td>95.234</td>\n",
       "      <td>inceptionresnetv2</td>\n",
       "    </tr>\n",
       "    <tr>\n",
       "      <th>13</th>\n",
       "      <td>InceptionV4</td>\n",
       "      <td>ourporting</td>\n",
       "      <td>80.062</td>\n",
       "      <td>94.926</td>\n",
       "      <td>inceptionv4</td>\n",
       "    </tr>\n",
       "    <tr>\n",
       "      <th>14</th>\n",
       "      <td>DualPathNet107_5k</td>\n",
       "      <td>ourporting</td>\n",
       "      <td>79.746</td>\n",
       "      <td>94.684</td>\n",
       "      <td>dualpathnet107_5k</td>\n",
       "    </tr>\n",
       "    <tr>\n",
       "      <th>16</th>\n",
       "      <td>DualPathNet131</td>\n",
       "      <td>ourporting</td>\n",
       "      <td>79.432</td>\n",
       "      <td>94.574</td>\n",
       "      <td>dualpathnet131</td>\n",
       "    </tr>\n",
       "    <tr>\n",
       "      <th>17</th>\n",
       "      <td>DualPathNet92_5k</td>\n",
       "      <td>ourporting</td>\n",
       "      <td>79.400</td>\n",
       "      <td>94.620</td>\n",
       "      <td>dualpathnet92_5k</td>\n",
       "    </tr>\n",
       "    <tr>\n",
       "      <th>18</th>\n",
       "      <td>DualPathNet98</td>\n",
       "      <td>ourporting</td>\n",
       "      <td>79.224</td>\n",
       "      <td>94.488</td>\n",
       "      <td>dualpathnet98</td>\n",
       "    </tr>\n",
       "    <tr>\n",
       "      <th>19</th>\n",
       "      <td>SE-ResNeXt50_32x4d</td>\n",
       "      <td>ourporting</td>\n",
       "      <td>79.076</td>\n",
       "      <td>94.434</td>\n",
       "      <td>seresnext50_32x4d</td>\n",
       "    </tr>\n",
       "    <tr>\n",
       "      <th>22</th>\n",
       "      <td>ResNeXt101_64x4d</td>\n",
       "      <td>ourporting</td>\n",
       "      <td>78.956</td>\n",
       "      <td>94.252</td>\n",
       "      <td>resnext101_64x4d</td>\n",
       "    </tr>\n",
       "    <tr>\n",
       "      <th>23</th>\n",
       "      <td>Xception</td>\n",
       "      <td>ourporting</td>\n",
       "      <td>78.888</td>\n",
       "      <td>94.292</td>\n",
       "      <td>xception</td>\n",
       "    </tr>\n",
       "    <tr>\n",
       "      <th>26</th>\n",
       "      <td>SE-ResNet152</td>\n",
       "      <td>ourporting</td>\n",
       "      <td>78.658</td>\n",
       "      <td>94.374</td>\n",
       "      <td>seresnet152</td>\n",
       "    </tr>\n",
       "    <tr>\n",
       "      <th>28</th>\n",
       "      <td>SE-ResNet101</td>\n",
       "      <td>ourporting</td>\n",
       "      <td>78.396</td>\n",
       "      <td>94.258</td>\n",
       "      <td>seresnet101</td>\n",
       "    </tr>\n",
       "    <tr>\n",
       "      <th>30</th>\n",
       "      <td>ResNeXt101_32x4d</td>\n",
       "      <td>ourporting</td>\n",
       "      <td>78.188</td>\n",
       "      <td>93.886</td>\n",
       "      <td>resnext101_32x4d</td>\n",
       "    </tr>\n",
       "    <tr>\n",
       "      <th>33</th>\n",
       "      <td>SE-ResNet50</td>\n",
       "      <td>ourporting</td>\n",
       "      <td>77.636</td>\n",
       "      <td>93.752</td>\n",
       "      <td>seresnet50</td>\n",
       "    </tr>\n",
       "    <tr>\n",
       "      <th>36</th>\n",
       "      <td>FBResNet152</td>\n",
       "      <td>ourporting</td>\n",
       "      <td>77.386</td>\n",
       "      <td>93.594</td>\n",
       "      <td>fbresnet152</td>\n",
       "    </tr>\n",
       "    <tr>\n",
       "      <th>39</th>\n",
       "      <td>DualPathNet68b_5k</td>\n",
       "      <td>ourporting</td>\n",
       "      <td>77.034</td>\n",
       "      <td>93.590</td>\n",
       "      <td>dualpathnet68b_5k</td>\n",
       "    </tr>\n",
       "    <tr>\n",
       "      <th>41</th>\n",
       "      <td>CaffeResnet101</td>\n",
       "      <td>ourporting</td>\n",
       "      <td>76.200</td>\n",
       "      <td>92.766</td>\n",
       "      <td>cafferesnet101</td>\n",
       "    </tr>\n",
       "    <tr>\n",
       "      <th>44</th>\n",
       "      <td>DualPathNet68</td>\n",
       "      <td>ourporting</td>\n",
       "      <td>75.868</td>\n",
       "      <td>92.774</td>\n",
       "      <td>dualpathnet68</td>\n",
       "    </tr>\n",
       "    <tr>\n",
       "      <th>48</th>\n",
       "      <td>NASNet-A-Mobile</td>\n",
       "      <td>ourporting</td>\n",
       "      <td>74.080</td>\n",
       "      <td>91.740</td>\n",
       "      <td>nasnetamobile</td>\n",
       "    </tr>\n",
       "    <tr>\n",
       "      <th>50</th>\n",
       "      <td>BNInception</td>\n",
       "      <td>ourporting</td>\n",
       "      <td>73.522</td>\n",
       "      <td>91.560</td>\n",
       "      <td>bninception</td>\n",
       "    </tr>\n",
       "  </tbody>\n",
       "</table>\n",
       "</div>"
      ],
      "text/plain": [
       "                  model    platform    acc1    acc5           modelname\n",
       "27            ResNet152     Pytorch  78.428  94.110           resnet152\n",
       "34          DenseNet161     Pytorch  77.560  93.798         densenet161\n",
       "35            ResNet101     Pytorch  77.438  93.672           resnet101\n",
       "37          InceptionV3     Pytorch  77.294  93.454         inceptionv3\n",
       "38          DenseNet201     Pytorch  77.152  93.548         densenet201\n",
       "42          DenseNet169     Pytorch  76.026  92.992         densenet169\n",
       "43             ResNet50     Pytorch  76.002  92.980            resnet50\n",
       "45          DenseNet121     Pytorch  74.646  92.136         densenet121\n",
       "46             VGG19_BN     Pytorch  74.266  92.066            vgg19_bn\n",
       "49             ResNet34     Pytorch  73.554  91.456            resnet34\n",
       "51             VGG16_BN     Pytorch  73.518  91.608            vgg16_bn\n",
       "52                VGG19     Pytorch  72.080  90.822               vgg19\n",
       "53                VGG16     Pytorch  71.636  90.354               vgg16\n",
       "54             VGG13_BN     Pytorch  71.508  90.494            vgg13_bn\n",
       "55             VGG11_BN     Pytorch  70.452  89.818            vgg11_bn\n",
       "56             ResNet18     Pytorch  70.142  89.274            resnet18\n",
       "57                VGG13     Pytorch  69.662  89.264               vgg13\n",
       "58                VGG11     Pytorch  68.970  88.746               vgg11\n",
       "59        SqueezeNet1_1     Pytorch  58.250  80.800       squeezenet1_1\n",
       "60        SqueezeNet1_0     Pytorch  58.108  80.428       squeezenet1_0\n",
       "61              Alexnet     Pytorch  56.432  79.194             alexnet\n",
       "1       PNASNet-5-Large  ourporting  82.736  95.992       pnasnet5large\n",
       "3        NASNet-A-Large  ourporting  82.566  96.086        nasnetalarge\n",
       "5              SENet154  ourporting  81.304  95.498            senet154\n",
       "7               PolyNet  ourporting  81.002  95.624             polynet\n",
       "10  SE-ResNeXt101_32x4d  ourporting  80.236  95.028  seresnext101_32x4d\n",
       "12    InceptionResNetV2  ourporting  80.170  95.234   inceptionresnetv2\n",
       "13          InceptionV4  ourporting  80.062  94.926         inceptionv4\n",
       "14    DualPathNet107_5k  ourporting  79.746  94.684   dualpathnet107_5k\n",
       "16       DualPathNet131  ourporting  79.432  94.574      dualpathnet131\n",
       "17     DualPathNet92_5k  ourporting  79.400  94.620    dualpathnet92_5k\n",
       "18        DualPathNet98  ourporting  79.224  94.488       dualpathnet98\n",
       "19   SE-ResNeXt50_32x4d  ourporting  79.076  94.434   seresnext50_32x4d\n",
       "22     ResNeXt101_64x4d  ourporting  78.956  94.252    resnext101_64x4d\n",
       "23             Xception  ourporting  78.888  94.292            xception\n",
       "26         SE-ResNet152  ourporting  78.658  94.374         seresnet152\n",
       "28         SE-ResNet101  ourporting  78.396  94.258         seresnet101\n",
       "30     ResNeXt101_32x4d  ourporting  78.188  93.886    resnext101_32x4d\n",
       "33          SE-ResNet50  ourporting  77.636  93.752          seresnet50\n",
       "36          FBResNet152  ourporting  77.386  93.594         fbresnet152\n",
       "39    DualPathNet68b_5k  ourporting  77.034  93.590   dualpathnet68b_5k\n",
       "41       CaffeResnet101  ourporting  76.200  92.766      cafferesnet101\n",
       "44        DualPathNet68  ourporting  75.868  92.774       dualpathnet68\n",
       "48      NASNet-A-Mobile  ourporting  74.080  91.740       nasnetamobile\n",
       "50          BNInception  ourporting  73.522  91.560         bninception"
      ]
     },
     "execution_count": 18,
     "metadata": {},
     "output_type": "execute_result"
    }
   ],
   "source": [
    "df['modelname'] = df['model'].apply(lambda x: x.lower().replace('-',''))\n",
    "df"
   ]
  },
  {
   "cell_type": "code",
   "execution_count": 19,
   "metadata": {
    "ExecuteTime": {
     "end_time": "2018-10-22T21:32:52.793310Z",
     "start_time": "2018-10-22T21:32:52.769740Z"
    }
   },
   "outputs": [
    {
     "data": {
      "text/plain": [
       "27             resnet152\n",
       "34           densenet161\n",
       "35             resnet101\n",
       "37           inceptionv3\n",
       "38           densenet201\n",
       "42           densenet169\n",
       "43              resnet50\n",
       "45           densenet121\n",
       "46              vgg19_bn\n",
       "49              resnet34\n",
       "51              vgg16_bn\n",
       "52                 vgg19\n",
       "53                 vgg16\n",
       "54              vgg13_bn\n",
       "55              vgg11_bn\n",
       "56              resnet18\n",
       "57                 vgg13\n",
       "58                 vgg11\n",
       "59         squeezenet1_1\n",
       "60         squeezenet1_0\n",
       "61               alexnet\n",
       "1          pnasnet5large\n",
       "3           nasnetalarge\n",
       "5               senet154\n",
       "7                polynet\n",
       "10    seresnext101_32x4d\n",
       "12     inceptionresnetv2\n",
       "13           inceptionv4\n",
       "14     dualpathnet107_5k\n",
       "16        dualpathnet131\n",
       "17      dualpathnet92_5k\n",
       "18         dualpathnet98\n",
       "19     seresnext50_32x4d\n",
       "22      resnext101_64x4d\n",
       "23              xception\n",
       "26           seresnet152\n",
       "28           seresnet101\n",
       "30      resnext101_32x4d\n",
       "33            seresnet50\n",
       "36           fbresnet152\n",
       "39     dualpathnet68b_5k\n",
       "41        cafferesnet101\n",
       "44         dualpathnet68\n",
       "48         nasnetamobile\n",
       "50           bninception\n",
       "Name: modelname, dtype: object"
      ]
     },
     "execution_count": 19,
     "metadata": {},
     "output_type": "execute_result"
    }
   ],
   "source": [
    "df['modelname']"
   ]
  },
  {
   "cell_type": "code",
   "execution_count": 23,
   "metadata": {
    "ExecuteTime": {
     "end_time": "2018-10-22T21:32:54.226821Z",
     "start_time": "2018-10-22T21:32:54.201505Z"
    }
   },
   "outputs": [],
   "source": [
    "avg_w_alphas = {}\n",
    "len_w_alphas = {}\n",
    "\n",
    "for model_name in df['modelname'].values:\n",
    "    avg_w_alphas[model_name] = 0.0\n",
    "    len_w_alphas[model_name] = 0.0\n",
    "    \n",
    "    if(model_name in w_alphas_4model):\n",
    "        avg_w_alphas[model_name] = np.average(w_alphas_4model[model_name])\n",
    "        len_w_alphas[model_name] = len(w_alphas_4model[model_name])"
   ]
  },
  {
   "cell_type": "code",
   "execution_count": 24,
   "metadata": {
    "ExecuteTime": {
     "end_time": "2018-10-22T21:33:28.433606Z",
     "start_time": "2018-10-22T21:33:28.410000Z"
    }
   },
   "outputs": [],
   "source": [
    "df['avg_w_alphas'] = df['modelname'].apply(lambda x: avg_w_alphas[x] )\n",
    "df['num_layers'] = df['modelname'].apply(lambda x: int(len_w_alphas[x]) )"
   ]
  },
  {
   "cell_type": "code",
   "execution_count": 25,
   "metadata": {
    "ExecuteTime": {
     "end_time": "2018-10-22T21:33:30.176440Z",
     "start_time": "2018-10-22T21:33:30.058643Z"
    }
   },
   "outputs": [
    {
     "data": {
      "text/html": [
       "<div>\n",
       "<style scoped>\n",
       "    .dataframe tbody tr th:only-of-type {\n",
       "        vertical-align: middle;\n",
       "    }\n",
       "\n",
       "    .dataframe tbody tr th {\n",
       "        vertical-align: top;\n",
       "    }\n",
       "\n",
       "    .dataframe thead th {\n",
       "        text-align: right;\n",
       "    }\n",
       "</style>\n",
       "<table border=\"1\" class=\"dataframe\">\n",
       "  <thead>\n",
       "    <tr style=\"text-align: right;\">\n",
       "      <th></th>\n",
       "      <th>model</th>\n",
       "      <th>platform</th>\n",
       "      <th>acc1</th>\n",
       "      <th>acc5</th>\n",
       "      <th>modelname</th>\n",
       "      <th>avg_w_alphas</th>\n",
       "      <th>num_layers</th>\n",
       "    </tr>\n",
       "  </thead>\n",
       "  <tbody>\n",
       "    <tr>\n",
       "      <th>61</th>\n",
       "      <td>Alexnet</td>\n",
       "      <td>Pytorch</td>\n",
       "      <td>56.432</td>\n",
       "      <td>79.194</td>\n",
       "      <td>alexnet</td>\n",
       "      <td>0.000000</td>\n",
       "      <td>0</td>\n",
       "    </tr>\n",
       "    <tr>\n",
       "      <th>50</th>\n",
       "      <td>BNInception</td>\n",
       "      <td>ourporting</td>\n",
       "      <td>73.522</td>\n",
       "      <td>91.560</td>\n",
       "      <td>bninception</td>\n",
       "      <td>0.000000</td>\n",
       "      <td>0</td>\n",
       "    </tr>\n",
       "    <tr>\n",
       "      <th>41</th>\n",
       "      <td>CaffeResnet101</td>\n",
       "      <td>ourporting</td>\n",
       "      <td>76.200</td>\n",
       "      <td>92.766</td>\n",
       "      <td>cafferesnet101</td>\n",
       "      <td>0.000000</td>\n",
       "      <td>0</td>\n",
       "    </tr>\n",
       "    <tr>\n",
       "      <th>45</th>\n",
       "      <td>DenseNet121</td>\n",
       "      <td>Pytorch</td>\n",
       "      <td>74.646</td>\n",
       "      <td>92.136</td>\n",
       "      <td>densenet121</td>\n",
       "      <td>1.248708</td>\n",
       "      <td>62</td>\n",
       "    </tr>\n",
       "    <tr>\n",
       "      <th>34</th>\n",
       "      <td>DenseNet161</td>\n",
       "      <td>Pytorch</td>\n",
       "      <td>77.560</td>\n",
       "      <td>93.798</td>\n",
       "      <td>densenet161</td>\n",
       "      <td>0.838195</td>\n",
       "      <td>82</td>\n",
       "    </tr>\n",
       "    <tr>\n",
       "      <th>42</th>\n",
       "      <td>DenseNet169</td>\n",
       "      <td>Pytorch</td>\n",
       "      <td>76.026</td>\n",
       "      <td>92.992</td>\n",
       "      <td>densenet169</td>\n",
       "      <td>0.678617</td>\n",
       "      <td>86</td>\n",
       "    </tr>\n",
       "    <tr>\n",
       "      <th>38</th>\n",
       "      <td>DenseNet201</td>\n",
       "      <td>Pytorch</td>\n",
       "      <td>77.152</td>\n",
       "      <td>93.548</td>\n",
       "      <td>densenet201</td>\n",
       "      <td>0.501668</td>\n",
       "      <td>102</td>\n",
       "    </tr>\n",
       "    <tr>\n",
       "      <th>14</th>\n",
       "      <td>DualPathNet107_5k</td>\n",
       "      <td>ourporting</td>\n",
       "      <td>79.746</td>\n",
       "      <td>94.684</td>\n",
       "      <td>dualpathnet107_5k</td>\n",
       "      <td>0.000000</td>\n",
       "      <td>0</td>\n",
       "    </tr>\n",
       "    <tr>\n",
       "      <th>16</th>\n",
       "      <td>DualPathNet131</td>\n",
       "      <td>ourporting</td>\n",
       "      <td>79.432</td>\n",
       "      <td>94.574</td>\n",
       "      <td>dualpathnet131</td>\n",
       "      <td>0.000000</td>\n",
       "      <td>0</td>\n",
       "    </tr>\n",
       "    <tr>\n",
       "      <th>44</th>\n",
       "      <td>DualPathNet68</td>\n",
       "      <td>ourporting</td>\n",
       "      <td>75.868</td>\n",
       "      <td>92.774</td>\n",
       "      <td>dualpathnet68</td>\n",
       "      <td>0.000000</td>\n",
       "      <td>0</td>\n",
       "    </tr>\n",
       "    <tr>\n",
       "      <th>39</th>\n",
       "      <td>DualPathNet68b_5k</td>\n",
       "      <td>ourporting</td>\n",
       "      <td>77.034</td>\n",
       "      <td>93.590</td>\n",
       "      <td>dualpathnet68b_5k</td>\n",
       "      <td>0.000000</td>\n",
       "      <td>0</td>\n",
       "    </tr>\n",
       "    <tr>\n",
       "      <th>17</th>\n",
       "      <td>DualPathNet92_5k</td>\n",
       "      <td>ourporting</td>\n",
       "      <td>79.400</td>\n",
       "      <td>94.620</td>\n",
       "      <td>dualpathnet92_5k</td>\n",
       "      <td>0.000000</td>\n",
       "      <td>0</td>\n",
       "    </tr>\n",
       "    <tr>\n",
       "      <th>18</th>\n",
       "      <td>DualPathNet98</td>\n",
       "      <td>ourporting</td>\n",
       "      <td>79.224</td>\n",
       "      <td>94.488</td>\n",
       "      <td>dualpathnet98</td>\n",
       "      <td>0.000000</td>\n",
       "      <td>0</td>\n",
       "    </tr>\n",
       "    <tr>\n",
       "      <th>36</th>\n",
       "      <td>FBResNet152</td>\n",
       "      <td>ourporting</td>\n",
       "      <td>77.386</td>\n",
       "      <td>93.594</td>\n",
       "      <td>fbresnet152</td>\n",
       "      <td>0.000000</td>\n",
       "      <td>0</td>\n",
       "    </tr>\n",
       "    <tr>\n",
       "      <th>12</th>\n",
       "      <td>InceptionResNetV2</td>\n",
       "      <td>ourporting</td>\n",
       "      <td>80.170</td>\n",
       "      <td>95.234</td>\n",
       "      <td>inceptionresnetv2</td>\n",
       "      <td>0.000000</td>\n",
       "      <td>0</td>\n",
       "    </tr>\n",
       "    <tr>\n",
       "      <th>37</th>\n",
       "      <td>InceptionV3</td>\n",
       "      <td>Pytorch</td>\n",
       "      <td>77.294</td>\n",
       "      <td>93.454</td>\n",
       "      <td>inceptionv3</td>\n",
       "      <td>0.000000</td>\n",
       "      <td>0</td>\n",
       "    </tr>\n",
       "    <tr>\n",
       "      <th>13</th>\n",
       "      <td>InceptionV4</td>\n",
       "      <td>ourporting</td>\n",
       "      <td>80.062</td>\n",
       "      <td>94.926</td>\n",
       "      <td>inceptionv4</td>\n",
       "      <td>0.000000</td>\n",
       "      <td>0</td>\n",
       "    </tr>\n",
       "    <tr>\n",
       "      <th>3</th>\n",
       "      <td>NASNet-A-Large</td>\n",
       "      <td>ourporting</td>\n",
       "      <td>82.566</td>\n",
       "      <td>96.086</td>\n",
       "      <td>nasnetalarge</td>\n",
       "      <td>0.000000</td>\n",
       "      <td>0</td>\n",
       "    </tr>\n",
       "    <tr>\n",
       "      <th>48</th>\n",
       "      <td>NASNet-A-Mobile</td>\n",
       "      <td>ourporting</td>\n",
       "      <td>74.080</td>\n",
       "      <td>91.740</td>\n",
       "      <td>nasnetamobile</td>\n",
       "      <td>0.000000</td>\n",
       "      <td>0</td>\n",
       "    </tr>\n",
       "    <tr>\n",
       "      <th>1</th>\n",
       "      <td>PNASNet-5-Large</td>\n",
       "      <td>ourporting</td>\n",
       "      <td>82.736</td>\n",
       "      <td>95.992</td>\n",
       "      <td>pnasnet5large</td>\n",
       "      <td>0.000000</td>\n",
       "      <td>0</td>\n",
       "    </tr>\n",
       "    <tr>\n",
       "      <th>7</th>\n",
       "      <td>PolyNet</td>\n",
       "      <td>ourporting</td>\n",
       "      <td>81.002</td>\n",
       "      <td>95.624</td>\n",
       "      <td>polynet</td>\n",
       "      <td>0.000000</td>\n",
       "      <td>0</td>\n",
       "    </tr>\n",
       "    <tr>\n",
       "      <th>30</th>\n",
       "      <td>ResNeXt101_32x4d</td>\n",
       "      <td>ourporting</td>\n",
       "      <td>78.188</td>\n",
       "      <td>93.886</td>\n",
       "      <td>resnext101_32x4d</td>\n",
       "      <td>0.000000</td>\n",
       "      <td>0</td>\n",
       "    </tr>\n",
       "    <tr>\n",
       "      <th>22</th>\n",
       "      <td>ResNeXt101_64x4d</td>\n",
       "      <td>ourporting</td>\n",
       "      <td>78.956</td>\n",
       "      <td>94.252</td>\n",
       "      <td>resnext101_64x4d</td>\n",
       "      <td>0.000000</td>\n",
       "      <td>0</td>\n",
       "    </tr>\n",
       "    <tr>\n",
       "      <th>35</th>\n",
       "      <td>ResNet101</td>\n",
       "      <td>Pytorch</td>\n",
       "      <td>77.438</td>\n",
       "      <td>93.672</td>\n",
       "      <td>resnet101</td>\n",
       "      <td>-0.616471</td>\n",
       "      <td>368</td>\n",
       "    </tr>\n",
       "    <tr>\n",
       "      <th>27</th>\n",
       "      <td>ResNet152</td>\n",
       "      <td>Pytorch</td>\n",
       "      <td>78.428</td>\n",
       "      <td>94.110</td>\n",
       "      <td>resnet152</td>\n",
       "      <td>-0.789808</td>\n",
       "      <td>555</td>\n",
       "    </tr>\n",
       "    <tr>\n",
       "      <th>56</th>\n",
       "      <td>ResNet18</td>\n",
       "      <td>Pytorch</td>\n",
       "      <td>70.142</td>\n",
       "      <td>89.274</td>\n",
       "      <td>resnet18</td>\n",
       "      <td>0.610676</td>\n",
       "      <td>148</td>\n",
       "    </tr>\n",
       "    <tr>\n",
       "      <th>49</th>\n",
       "      <td>ResNet34</td>\n",
       "      <td>Pytorch</td>\n",
       "      <td>73.554</td>\n",
       "      <td>91.456</td>\n",
       "      <td>resnet34</td>\n",
       "      <td>-0.393656</td>\n",
       "      <td>292</td>\n",
       "    </tr>\n",
       "    <tr>\n",
       "      <th>43</th>\n",
       "      <td>ResNet50</td>\n",
       "      <td>Pytorch</td>\n",
       "      <td>76.002</td>\n",
       "      <td>92.980</td>\n",
       "      <td>resnet50</td>\n",
       "      <td>0.140391</td>\n",
       "      <td>181</td>\n",
       "    </tr>\n",
       "    <tr>\n",
       "      <th>10</th>\n",
       "      <td>SE-ResNeXt101_32x4d</td>\n",
       "      <td>ourporting</td>\n",
       "      <td>80.236</td>\n",
       "      <td>95.028</td>\n",
       "      <td>seresnext101_32x4d</td>\n",
       "      <td>0.000000</td>\n",
       "      <td>0</td>\n",
       "    </tr>\n",
       "    <tr>\n",
       "      <th>19</th>\n",
       "      <td>SE-ResNeXt50_32x4d</td>\n",
       "      <td>ourporting</td>\n",
       "      <td>79.076</td>\n",
       "      <td>94.434</td>\n",
       "      <td>seresnext50_32x4d</td>\n",
       "      <td>0.000000</td>\n",
       "      <td>0</td>\n",
       "    </tr>\n",
       "    <tr>\n",
       "      <th>28</th>\n",
       "      <td>SE-ResNet101</td>\n",
       "      <td>ourporting</td>\n",
       "      <td>78.396</td>\n",
       "      <td>94.258</td>\n",
       "      <td>seresnet101</td>\n",
       "      <td>0.000000</td>\n",
       "      <td>0</td>\n",
       "    </tr>\n",
       "    <tr>\n",
       "      <th>26</th>\n",
       "      <td>SE-ResNet152</td>\n",
       "      <td>ourporting</td>\n",
       "      <td>78.658</td>\n",
       "      <td>94.374</td>\n",
       "      <td>seresnet152</td>\n",
       "      <td>0.000000</td>\n",
       "      <td>0</td>\n",
       "    </tr>\n",
       "    <tr>\n",
       "      <th>33</th>\n",
       "      <td>SE-ResNet50</td>\n",
       "      <td>ourporting</td>\n",
       "      <td>77.636</td>\n",
       "      <td>93.752</td>\n",
       "      <td>seresnet50</td>\n",
       "      <td>0.000000</td>\n",
       "      <td>0</td>\n",
       "    </tr>\n",
       "    <tr>\n",
       "      <th>5</th>\n",
       "      <td>SENet154</td>\n",
       "      <td>ourporting</td>\n",
       "      <td>81.304</td>\n",
       "      <td>95.498</td>\n",
       "      <td>senet154</td>\n",
       "      <td>0.000000</td>\n",
       "      <td>0</td>\n",
       "    </tr>\n",
       "    <tr>\n",
       "      <th>60</th>\n",
       "      <td>SqueezeNet1_0</td>\n",
       "      <td>Pytorch</td>\n",
       "      <td>58.108</td>\n",
       "      <td>80.428</td>\n",
       "      <td>squeezenet1_0</td>\n",
       "      <td>1.942516</td>\n",
       "      <td>23</td>\n",
       "    </tr>\n",
       "    <tr>\n",
       "      <th>59</th>\n",
       "      <td>SqueezeNet1_1</td>\n",
       "      <td>Pytorch</td>\n",
       "      <td>58.250</td>\n",
       "      <td>80.800</td>\n",
       "      <td>squeezenet1_1</td>\n",
       "      <td>1.560409</td>\n",
       "      <td>23</td>\n",
       "    </tr>\n",
       "    <tr>\n",
       "      <th>58</th>\n",
       "      <td>VGG11</td>\n",
       "      <td>Pytorch</td>\n",
       "      <td>68.970</td>\n",
       "      <td>88.746</td>\n",
       "      <td>vgg11</td>\n",
       "      <td>1.843995</td>\n",
       "      <td>66</td>\n",
       "    </tr>\n",
       "    <tr>\n",
       "      <th>55</th>\n",
       "      <td>VGG11_BN</td>\n",
       "      <td>Pytorch</td>\n",
       "      <td>70.452</td>\n",
       "      <td>89.818</td>\n",
       "      <td>vgg11_bn</td>\n",
       "      <td>1.597647</td>\n",
       "      <td>66</td>\n",
       "    </tr>\n",
       "    <tr>\n",
       "      <th>57</th>\n",
       "      <td>VGG13</td>\n",
       "      <td>Pytorch</td>\n",
       "      <td>69.662</td>\n",
       "      <td>89.264</td>\n",
       "      <td>vgg13</td>\n",
       "      <td>1.645383</td>\n",
       "      <td>84</td>\n",
       "    </tr>\n",
       "    <tr>\n",
       "      <th>54</th>\n",
       "      <td>VGG13_BN</td>\n",
       "      <td>Pytorch</td>\n",
       "      <td>71.508</td>\n",
       "      <td>90.494</td>\n",
       "      <td>vgg13_bn</td>\n",
       "      <td>1.355124</td>\n",
       "      <td>84</td>\n",
       "    </tr>\n",
       "    <tr>\n",
       "      <th>53</th>\n",
       "      <td>VGG16</td>\n",
       "      <td>Pytorch</td>\n",
       "      <td>71.636</td>\n",
       "      <td>90.354</td>\n",
       "      <td>vgg16</td>\n",
       "      <td>1.405073</td>\n",
       "      <td>111</td>\n",
       "    </tr>\n",
       "    <tr>\n",
       "      <th>51</th>\n",
       "      <td>VGG16_BN</td>\n",
       "      <td>Pytorch</td>\n",
       "      <td>73.518</td>\n",
       "      <td>91.608</td>\n",
       "      <td>vgg16_bn</td>\n",
       "      <td>1.082041</td>\n",
       "      <td>111</td>\n",
       "    </tr>\n",
       "    <tr>\n",
       "      <th>52</th>\n",
       "      <td>VGG19</td>\n",
       "      <td>Pytorch</td>\n",
       "      <td>72.080</td>\n",
       "      <td>90.822</td>\n",
       "      <td>vgg19</td>\n",
       "      <td>1.158888</td>\n",
       "      <td>138</td>\n",
       "    </tr>\n",
       "    <tr>\n",
       "      <th>46</th>\n",
       "      <td>VGG19_BN</td>\n",
       "      <td>Pytorch</td>\n",
       "      <td>74.266</td>\n",
       "      <td>92.066</td>\n",
       "      <td>vgg19_bn</td>\n",
       "      <td>0.811058</td>\n",
       "      <td>138</td>\n",
       "    </tr>\n",
       "    <tr>\n",
       "      <th>23</th>\n",
       "      <td>Xception</td>\n",
       "      <td>ourporting</td>\n",
       "      <td>78.888</td>\n",
       "      <td>94.292</td>\n",
       "      <td>xception</td>\n",
       "      <td>0.000000</td>\n",
       "      <td>0</td>\n",
       "    </tr>\n",
       "  </tbody>\n",
       "</table>\n",
       "</div>"
      ],
      "text/plain": [
       "                  model    platform    acc1    acc5           modelname  \\\n",
       "61              Alexnet     Pytorch  56.432  79.194             alexnet   \n",
       "50          BNInception  ourporting  73.522  91.560         bninception   \n",
       "41       CaffeResnet101  ourporting  76.200  92.766      cafferesnet101   \n",
       "45          DenseNet121     Pytorch  74.646  92.136         densenet121   \n",
       "34          DenseNet161     Pytorch  77.560  93.798         densenet161   \n",
       "42          DenseNet169     Pytorch  76.026  92.992         densenet169   \n",
       "38          DenseNet201     Pytorch  77.152  93.548         densenet201   \n",
       "14    DualPathNet107_5k  ourporting  79.746  94.684   dualpathnet107_5k   \n",
       "16       DualPathNet131  ourporting  79.432  94.574      dualpathnet131   \n",
       "44        DualPathNet68  ourporting  75.868  92.774       dualpathnet68   \n",
       "39    DualPathNet68b_5k  ourporting  77.034  93.590   dualpathnet68b_5k   \n",
       "17     DualPathNet92_5k  ourporting  79.400  94.620    dualpathnet92_5k   \n",
       "18        DualPathNet98  ourporting  79.224  94.488       dualpathnet98   \n",
       "36          FBResNet152  ourporting  77.386  93.594         fbresnet152   \n",
       "12    InceptionResNetV2  ourporting  80.170  95.234   inceptionresnetv2   \n",
       "37          InceptionV3     Pytorch  77.294  93.454         inceptionv3   \n",
       "13          InceptionV4  ourporting  80.062  94.926         inceptionv4   \n",
       "3        NASNet-A-Large  ourporting  82.566  96.086        nasnetalarge   \n",
       "48      NASNet-A-Mobile  ourporting  74.080  91.740       nasnetamobile   \n",
       "1       PNASNet-5-Large  ourporting  82.736  95.992       pnasnet5large   \n",
       "7               PolyNet  ourporting  81.002  95.624             polynet   \n",
       "30     ResNeXt101_32x4d  ourporting  78.188  93.886    resnext101_32x4d   \n",
       "22     ResNeXt101_64x4d  ourporting  78.956  94.252    resnext101_64x4d   \n",
       "35            ResNet101     Pytorch  77.438  93.672           resnet101   \n",
       "27            ResNet152     Pytorch  78.428  94.110           resnet152   \n",
       "56             ResNet18     Pytorch  70.142  89.274            resnet18   \n",
       "49             ResNet34     Pytorch  73.554  91.456            resnet34   \n",
       "43             ResNet50     Pytorch  76.002  92.980            resnet50   \n",
       "10  SE-ResNeXt101_32x4d  ourporting  80.236  95.028  seresnext101_32x4d   \n",
       "19   SE-ResNeXt50_32x4d  ourporting  79.076  94.434   seresnext50_32x4d   \n",
       "28         SE-ResNet101  ourporting  78.396  94.258         seresnet101   \n",
       "26         SE-ResNet152  ourporting  78.658  94.374         seresnet152   \n",
       "33          SE-ResNet50  ourporting  77.636  93.752          seresnet50   \n",
       "5              SENet154  ourporting  81.304  95.498            senet154   \n",
       "60        SqueezeNet1_0     Pytorch  58.108  80.428       squeezenet1_0   \n",
       "59        SqueezeNet1_1     Pytorch  58.250  80.800       squeezenet1_1   \n",
       "58                VGG11     Pytorch  68.970  88.746               vgg11   \n",
       "55             VGG11_BN     Pytorch  70.452  89.818            vgg11_bn   \n",
       "57                VGG13     Pytorch  69.662  89.264               vgg13   \n",
       "54             VGG13_BN     Pytorch  71.508  90.494            vgg13_bn   \n",
       "53                VGG16     Pytorch  71.636  90.354               vgg16   \n",
       "51             VGG16_BN     Pytorch  73.518  91.608            vgg16_bn   \n",
       "52                VGG19     Pytorch  72.080  90.822               vgg19   \n",
       "46             VGG19_BN     Pytorch  74.266  92.066            vgg19_bn   \n",
       "23             Xception  ourporting  78.888  94.292            xception   \n",
       "\n",
       "    avg_w_alphas  num_layers  \n",
       "61      0.000000           0  \n",
       "50      0.000000           0  \n",
       "41      0.000000           0  \n",
       "45      1.248708          62  \n",
       "34      0.838195          82  \n",
       "42      0.678617          86  \n",
       "38      0.501668         102  \n",
       "14      0.000000           0  \n",
       "16      0.000000           0  \n",
       "44      0.000000           0  \n",
       "39      0.000000           0  \n",
       "17      0.000000           0  \n",
       "18      0.000000           0  \n",
       "36      0.000000           0  \n",
       "12      0.000000           0  \n",
       "37      0.000000           0  \n",
       "13      0.000000           0  \n",
       "3       0.000000           0  \n",
       "48      0.000000           0  \n",
       "1       0.000000           0  \n",
       "7       0.000000           0  \n",
       "30      0.000000           0  \n",
       "22      0.000000           0  \n",
       "35     -0.616471         368  \n",
       "27     -0.789808         555  \n",
       "56      0.610676         148  \n",
       "49     -0.393656         292  \n",
       "43      0.140391         181  \n",
       "10      0.000000           0  \n",
       "19      0.000000           0  \n",
       "28      0.000000           0  \n",
       "26      0.000000           0  \n",
       "33      0.000000           0  \n",
       "5       0.000000           0  \n",
       "60      1.942516          23  \n",
       "59      1.560409          23  \n",
       "58      1.843995          66  \n",
       "55      1.597647          66  \n",
       "57      1.645383          84  \n",
       "54      1.355124          84  \n",
       "53      1.405073         111  \n",
       "51      1.082041         111  \n",
       "52      1.158888         138  \n",
       "46      0.811058         138  \n",
       "23      0.000000           0  "
      ]
     },
     "execution_count": 25,
     "metadata": {},
     "output_type": "execute_result"
    }
   ],
   "source": [
    "df.sort_values('model')"
   ]
  },
  {
   "cell_type": "code",
   "execution_count": 26,
   "metadata": {
    "ExecuteTime": {
     "end_time": "2018-10-22T21:33:33.710273Z",
     "start_time": "2018-10-22T21:33:32.844105Z"
    }
   },
   "outputs": [
    {
     "name": "stderr",
     "output_type": "stream",
     "text": [
      "/Users/charleshmartin/anaconda3/lib/python3.6/site-packages/ipykernel_launcher.py:2: SettingWithCopyWarning: \n",
      "A value is trying to be set on a copy of a slice from a DataFrame.\n",
      "Try using .loc[row_indexer,col_indexer] = value instead\n",
      "\n",
      "See the caveats in the documentation: http://pandas.pydata.org/pandas-docs/stable/indexing.html#indexing-view-versus-copy\n",
      "  \n",
      "/Users/charleshmartin/anaconda3/lib/python3.6/site-packages/ipykernel_launcher.py:5: SettingWithCopyWarning: \n",
      "A value is trying to be set on a copy of a slice from a DataFrame.\n",
      "Try using .loc[row_indexer,col_indexer] = value instead\n",
      "\n",
      "See the caveats in the documentation: http://pandas.pydata.org/pandas-docs/stable/indexing.html#indexing-view-versus-copy\n",
      "  \"\"\"\n",
      "/Users/charleshmartin/anaconda3/lib/python3.6/site-packages/ipykernel_launcher.py:8: SettingWithCopyWarning: \n",
      "A value is trying to be set on a copy of a slice from a DataFrame.\n",
      "Try using .loc[row_indexer,col_indexer] = value instead\n",
      "\n",
      "See the caveats in the documentation: http://pandas.pydata.org/pandas-docs/stable/indexing.html#indexing-view-versus-copy\n",
      "  \n",
      "/Users/charleshmartin/anaconda3/lib/python3.6/site-packages/ipykernel_launcher.py:11: SettingWithCopyWarning: \n",
      "A value is trying to be set on a copy of a slice from a DataFrame.\n",
      "Try using .loc[row_indexer,col_indexer] = value instead\n",
      "\n",
      "See the caveats in the documentation: http://pandas.pydata.org/pandas-docs/stable/indexing.html#indexing-view-versus-copy\n",
      "  # This is added back by InteractiveShellApp.init_path()\n",
      "/Users/charleshmartin/anaconda3/lib/python3.6/site-packages/ipykernel_launcher.py:14: SettingWithCopyWarning: \n",
      "A value is trying to be set on a copy of a slice from a DataFrame.\n",
      "Try using .loc[row_indexer,col_indexer] = value instead\n",
      "\n",
      "See the caveats in the documentation: http://pandas.pydata.org/pandas-docs/stable/indexing.html#indexing-view-versus-copy\n",
      "  \n",
      "/Users/charleshmartin/anaconda3/lib/python3.6/site-packages/ipykernel_launcher.py:17: SettingWithCopyWarning: \n",
      "A value is trying to be set on a copy of a slice from a DataFrame.\n",
      "Try using .loc[row_indexer,col_indexer] = value instead\n",
      "\n",
      "See the caveats in the documentation: http://pandas.pydata.org/pandas-docs/stable/indexing.html#indexing-view-versus-copy\n"
     ]
    }
   ],
   "source": [
    "df_vgg11 = df[(df['model']=='VGG11')| (df['model']=='VGG11_BN')]\n",
    "df_vgg11['legend']='VGG11'\n",
    "\n",
    "df_vgg13 = df[(df['model']=='VGG13')| (df['model']=='VGG13_BN')]\n",
    "df_vgg13['legend']='VGG13'\n",
    "\n",
    "df_vgg16 = df[(df['model']=='VGG16')| (df['model']=='VGG16_BN')]\n",
    "df_vgg16['legend']='VGG16'\n",
    "\n",
    "df_vgg19 = df[(df['model']=='VGG19')| (df['model']=='VGG19_BN')]\n",
    "df_vgg19['legend']='VGG19'\n",
    "\n",
    "df_squeezenet = df[(df['model']=='SqueezeNet1_0')| (df['model']=='SqueezeNet1_1')]\n",
    "df_squeezenet['legend']='SqueezeNet'\n",
    "\n",
    "df_resnxt = df[(df['model']=='ResNeXt101_32x4d')| (df['model']=='ResNeXt101_64x4d')]\n",
    "df_resnxt['legend']='ResNeXT101'\n"
   ]
  },
  {
   "cell_type": "code",
   "execution_count": 63,
   "metadata": {},
   "outputs": [],
   "source": [
    "import matplotlib.pyplot as plt\n",
    "plt.rcParams['figure.figsize'] = [10,10]\n",
    "matplotlib.rcParams.update({'font.size': 24})\n",
    "marker_size = 75\n",
    "\n",
    "title = r\"Test Accuracy vs. $\\hat{\\alpha}\\;\\log_{10}\\lambda^{max}$\"+\"\\nPretrained \""
   ]
  },
  {
   "cell_type": "code",
   "execution_count": 64,
   "metadata": {
    "ExecuteTime": {
     "end_time": "2018-10-22T21:34:58.599857Z",
     "start_time": "2018-10-22T21:34:57.583864Z"
    }
   },
   "outputs": [
    {
     "data": {
      "image/png": "[encoded data removed]",
      "text/plain": [
       "<Figure size 720x720 with 1 Axes>"
      ]
     },
     "metadata": {},
     "output_type": "display_data"
    }
   ],
   "source": [
    "\n",
    "\n",
    "for mf in [df_vgg11, df_vgg13, df_vgg16, df_vgg19]:\n",
    "#for mf in [df_vgg11, df_vgg13]:\n",
    "    x = mf['acc5'].values\n",
    "    y = mf['avg_w_alphas'].values\n",
    "    label = mf['legend'].values[0]\n",
    "    plt.scatter(x,y,label=label, s=marker_size)\n",
    "\n",
    "plt.legend()\n",
    "plt.title(title+\"VGG and VGG_BN Models\")\n",
    "plt.xlabel(r\"Test Accuracy\")\n",
    "plt.ylabel(r\"$\\hat{\\alpha}$\")\n",
    "plt.savefig(\"img/vgg-w_alphas.png\")"
   ]
  },
  {
   "cell_type": "markdown",
   "metadata": {},
   "source": [
    "### ResNet\n",
    "\n",
    "Only exception is InceptionResNetv2"
   ]
  },
  {
   "cell_type": "code",
   "execution_count": null,
   "metadata": {},
   "outputs": [],
   "source": []
  },
  {
   "cell_type": "code",
   "execution_count": 70,
   "metadata": {
    "ExecuteTime": {
     "end_time": "2018-10-22T21:35:06.389243Z",
     "start_time": "2018-10-22T21:35:05.094966Z"
    }
   },
   "outputs": [
    {
     "name": "stdout",
     "output_type": "stream",
     "text": [
      "[89.274] [0.61067626]\n",
      "[91.456] [-0.39365554]\n",
      "[92.98] [0.1403913]\n",
      "[93.672] [-0.61647061]\n",
      "[94.11] [-0.78980838]\n"
     ]
    },
    {
     "data": {
      "image/png": "[encoded data removed]",
      "text/plain": [
       "<Figure size 576x576 with 1 Axes>"
      ]
     },
     "metadata": {},
     "output_type": "display_data"
    }
   ],
   "source": [
    "\n",
    "x, y = [], []\n",
    "\n",
    "modelnames = ['resnet18', 'resnet34', 'resnet50', 'resnet101', 'resnet152']\n",
    "\n",
    "for name in modelnames:\n",
    "    if 'resnet' in name:\n",
    "        mf = df[df.modelname==name]\n",
    "        x = mf['acc5'].values\n",
    "        y = mf['avg_w_alphas'].values\n",
    "        print(x,y)\n",
    "\n",
    "        if np.abs(y) > 0:\n",
    "            plt.scatter(x,y, label=name, s=marker_size)\n",
    "        \n",
    "plt.title(title+\" ResNet Models\")\n",
    "plt.xlabel(r\"Test Accuracy\")\n",
    "plt.ylabel(r\"$\\hat{\\alpha}$\")\n",
    "plt.legend()\n",
    "plt.savefig(\"img/resnet-pytorch-w_alphas.png\")"
   ]
  },
  {
   "cell_type": "code",
   "execution_count": 68,
   "metadata": {
    "ExecuteTime": {
     "end_time": "2018-10-22T21:35:25.148462Z",
     "start_time": "2018-10-22T21:35:24.032914Z"
    }
   },
   "outputs": [
    {
     "data": {
      "image/png": "[encoded data removed]",
      "text/plain": [
       "<Figure size 576x576 with 1 Axes>"
      ]
     },
     "metadata": {},
     "output_type": "display_data"
    }
   ],
   "source": [
    "plt.rcParams['figure.figsize'] = [8,8]\n",
    "\n",
    "x, y = [], []\n",
    "\n",
    "for name in df.modelname: \n",
    "    if 'densenet' in name and 'resnet' not in name:\n",
    "        #print(name)\n",
    "        mf = df[df.modelname==name]\n",
    "        x = mf['acc5'].values\n",
    "        y = mf['avg_w_alphas'].values\n",
    "        if np.abs(y) > 0:\n",
    "            plt.scatter(x,y, label=name, s=marker_size)\n",
    "        \n",
    "plt.title(title+\"DenseNet  Models\")\n",
    "plt.xlabel(r\"Test Accuracy\")\n",
    "plt.ylabel(r\"$\\hat{\\alpha}$\")\n",
    "plt.legend()\n",
    "plt.savefig(\"img/densenet-pytorch-w_alphas.png\")"
   ]
  },
  {
   "cell_type": "markdown",
   "metadata": {},
   "source": [
    "### ResNeXt, SqueezeNet"
   ]
  },
  {
   "cell_type": "code",
   "execution_count": 69,
   "metadata": {
    "ExecuteTime": {
     "end_time": "2018-10-22T21:35:31.084991Z",
     "start_time": "2018-10-22T21:35:29.394671Z"
    }
   },
   "outputs": [
    {
     "name": "stdout",
     "output_type": "stream",
     "text": [
      "squeezenet1_0\n",
      "squeezenet1_1\n"
     ]
    },
    {
     "data": {
      "image/png": "[encoded data removed]",
      "text/plain": [
       "<Figure size 576x576 with 1 Axes>"
      ]
     },
     "metadata": {},
     "output_type": "display_data"
    }
   ],
   "source": [
    "for mf in [df_squeezenet]:\n",
    "    for ix in [1,0]:\n",
    "        x = mf['acc5'].values[ix]\n",
    "        y = mf['avg_w_alphas'].values[ix]\n",
    "        label = mf.modelname.values[ix] # mf['legend'].values[ix]\n",
    "        print(label)\n",
    "        color =  'red' if ix==0  else 'orange' \n",
    "        plt.scatter(x,y,label=label, color=color,s=marker_size)\n",
    "        \n",
    "plt.legend()\n",
    "plt.title(title+\"SqueezeNet Models\")\n",
    "plt.xlabel(r\"Test Accuracy\")\n",
    "plt.ylabel(r\"$\\hat{\\alpha}$\")\n",
    "plt.savefig(\"img/squeezenet-pytorch-w_alphas.png\")"
   ]
  },
  {
   "cell_type": "code",
   "execution_count": null,
   "metadata": {},
   "outputs": [],
   "source": []
  },
  {
   "cell_type": "code",
   "execution_count": null,
   "metadata": {},
   "outputs": [],
   "source": []
  },
  {
   "cell_type": "code",
   "execution_count": null,
   "metadata": {},
   "outputs": [],
   "source": []
  }
 ],
 "metadata": {
  "kernelspec": {
   "display_name": "Python 3",
   "language": "python",
   "name": "python3"
  },
  "language_info": {
   "codemirror_mode": {
    "name": "ipython",
    "version": 3
   },
   "file_extension": ".py",
   "mimetype": "text/x-python",
   "name": "python",
   "nbconvert_exporter": "python",
   "pygments_lexer": "ipython3",
   "version": "3.6.5"
  },
  "widgets": {
   "state": {
    "52ecdae62c394a67868cd3ee83e19861": {
     "views": [
      {
       "cell_index": 14
      }
     ]
    },
    "e232317699e24554b5ed09fa6c78c662": {
     "views": [
      {
       "cell_index": 8
      }
     ]
    }
   },
   "version": "1.2.0"
  }
 },
 "nbformat": 4,
 "nbformat_minor": 2
}
