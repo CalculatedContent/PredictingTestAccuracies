{
 "cells": [
  {
   "cell_type": "markdown",
   "metadata": {},
   "source": [
    "## Even More pretrained models in PyTorch from OSMR using LogNorm\n",
    "\n",
    "https://github.com/osmr/imgclsmob\n"
   ]
  },
  {
   "cell_type": "code",
   "execution_count": 1,
   "metadata": {
    "ExecuteTime": {
     "end_time": "2018-10-15T23:07:27.516429Z",
     "start_time": "2018-10-15T23:07:22.449981Z"
    }
   },
   "outputs": [],
   "source": [
    "import torch\n",
    "import torchvision.models as models\n",
    "import torchvision.transforms as transforms\n",
    "import torch.nn as nn\n",
    "\n",
    "import re\n",
    "import pandas as pd\n",
    "\n",
    "import numpy as np\n",
    "import powerlaw\n",
    "\n",
    "from tqdm import tqdm_notebook as tqdm\n",
    "\n",
    "import matplotlib\n",
    "import numpy as np\n",
    "import matplotlib.pyplot as plt\n",
    "%matplotlib inline  "
   ]
  },
  {
   "cell_type": "code",
   "execution_count": 2,
   "metadata": {
    "ExecuteTime": {
     "end_time": "2018-10-15T23:07:39.093486Z",
     "start_time": "2018-10-15T23:07:39.077014Z"
    }
   },
   "outputs": [],
   "source": [
    "import matplotlib.pyplot as plt\n",
    "plt.rcParams['figure.figsize'] = [5,5]"
   ]
  },
  {
   "cell_type": "code",
   "execution_count": 3,
   "metadata": {
    "ExecuteTime": {
     "end_time": "2018-10-15T23:08:56.821400Z",
     "start_time": "2018-10-15T23:08:56.801810Z"
    }
   },
   "outputs": [],
   "source": [
    "import pytorchcv"
   ]
  },
  {
   "cell_type": "code",
   "execution_count": 4,
   "metadata": {
    "ExecuteTime": {
     "end_time": "2018-10-15T23:09:11.756212Z",
     "start_time": "2018-10-15T23:09:02.106460Z"
    }
   },
   "outputs": [],
   "source": [
    "from pytorchcv.model_provider import get_model as ptcv_get_model\n",
    "import torch\n",
    "from torch.autograd import Variable\n",
    "\n",
    "net = ptcv_get_model(\"resnet18\", pretrained=True)\n"
   ]
  },
  {
   "cell_type": "code",
   "execution_count": 5,
   "metadata": {
    "ExecuteTime": {
     "end_time": "2018-10-15T23:11:28.315021Z",
     "start_time": "2018-10-15T23:11:28.293029Z"
    }
   },
   "outputs": [
    {
     "data": {
      "text/plain": [
       "<bound method Module.modules of ResNet(\n",
       "  (features): Sequential(\n",
       "    (init_block): ResInitBlock(\n",
       "      (conv): ResConv(\n",
       "        (conv): Conv2d(3, 64, kernel_size=(7, 7), stride=(2, 2), padding=(3, 3), bias=False)\n",
       "        (bn): BatchNorm2d(64, eps=1e-05, momentum=0.1, affine=True, track_running_stats=True)\n",
       "        (activ): ReLU(inplace)\n",
       "      )\n",
       "      (pool): MaxPool2d(kernel_size=3, stride=2, padding=1, dilation=1, ceil_mode=False)\n",
       "    )\n",
       "    (stage1): Sequential(\n",
       "      (unit1): ResUnit(\n",
       "        (body): ResBlock(\n",
       "          (conv1): ResConv(\n",
       "            (conv): Conv2d(64, 64, kernel_size=(3, 3), stride=(1, 1), padding=(1, 1), bias=False)\n",
       "            (bn): BatchNorm2d(64, eps=1e-05, momentum=0.1, affine=True, track_running_stats=True)\n",
       "            (activ): ReLU(inplace)\n",
       "          )\n",
       "          (conv2): ResConv(\n",
       "            (conv): Conv2d(64, 64, kernel_size=(3, 3), stride=(1, 1), padding=(1, 1), bias=False)\n",
       "            (bn): BatchNorm2d(64, eps=1e-05, momentum=0.1, affine=True, track_running_stats=True)\n",
       "          )\n",
       "        )\n",
       "        (activ): ReLU(inplace)\n",
       "      )\n",
       "      (unit2): ResUnit(\n",
       "        (body): ResBlock(\n",
       "          (conv1): ResConv(\n",
       "            (conv): Conv2d(64, 64, kernel_size=(3, 3), stride=(1, 1), padding=(1, 1), bias=False)\n",
       "            (bn): BatchNorm2d(64, eps=1e-05, momentum=0.1, affine=True, track_running_stats=True)\n",
       "            (activ): ReLU(inplace)\n",
       "          )\n",
       "          (conv2): ResConv(\n",
       "            (conv): Conv2d(64, 64, kernel_size=(3, 3), stride=(1, 1), padding=(1, 1), bias=False)\n",
       "            (bn): BatchNorm2d(64, eps=1e-05, momentum=0.1, affine=True, track_running_stats=True)\n",
       "          )\n",
       "        )\n",
       "        (activ): ReLU(inplace)\n",
       "      )\n",
       "    )\n",
       "    (stage2): Sequential(\n",
       "      (unit1): ResUnit(\n",
       "        (body): ResBlock(\n",
       "          (conv1): ResConv(\n",
       "            (conv): Conv2d(64, 128, kernel_size=(3, 3), stride=(2, 2), padding=(1, 1), bias=False)\n",
       "            (bn): BatchNorm2d(128, eps=1e-05, momentum=0.1, affine=True, track_running_stats=True)\n",
       "            (activ): ReLU(inplace)\n",
       "          )\n",
       "          (conv2): ResConv(\n",
       "            (conv): Conv2d(128, 128, kernel_size=(3, 3), stride=(1, 1), padding=(1, 1), bias=False)\n",
       "            (bn): BatchNorm2d(128, eps=1e-05, momentum=0.1, affine=True, track_running_stats=True)\n",
       "          )\n",
       "        )\n",
       "        (identity_conv): ResConv(\n",
       "          (conv): Conv2d(64, 128, kernel_size=(1, 1), stride=(2, 2), bias=False)\n",
       "          (bn): BatchNorm2d(128, eps=1e-05, momentum=0.1, affine=True, track_running_stats=True)\n",
       "        )\n",
       "        (activ): ReLU(inplace)\n",
       "      )\n",
       "      (unit2): ResUnit(\n",
       "        (body): ResBlock(\n",
       "          (conv1): ResConv(\n",
       "            (conv): Conv2d(128, 128, kernel_size=(3, 3), stride=(1, 1), padding=(1, 1), bias=False)\n",
       "            (bn): BatchNorm2d(128, eps=1e-05, momentum=0.1, affine=True, track_running_stats=True)\n",
       "            (activ): ReLU(inplace)\n",
       "          )\n",
       "          (conv2): ResConv(\n",
       "            (conv): Conv2d(128, 128, kernel_size=(3, 3), stride=(1, 1), padding=(1, 1), bias=False)\n",
       "            (bn): BatchNorm2d(128, eps=1e-05, momentum=0.1, affine=True, track_running_stats=True)\n",
       "          )\n",
       "        )\n",
       "        (activ): ReLU(inplace)\n",
       "      )\n",
       "    )\n",
       "    (stage3): Sequential(\n",
       "      (unit1): ResUnit(\n",
       "        (body): ResBlock(\n",
       "          (conv1): ResConv(\n",
       "            (conv): Conv2d(128, 256, kernel_size=(3, 3), stride=(2, 2), padding=(1, 1), bias=False)\n",
       "            (bn): BatchNorm2d(256, eps=1e-05, momentum=0.1, affine=True, track_running_stats=True)\n",
       "            (activ): ReLU(inplace)\n",
       "          )\n",
       "          (conv2): ResConv(\n",
       "            (conv): Conv2d(256, 256, kernel_size=(3, 3), stride=(1, 1), padding=(1, 1), bias=False)\n",
       "            (bn): BatchNorm2d(256, eps=1e-05, momentum=0.1, affine=True, track_running_stats=True)\n",
       "          )\n",
       "        )\n",
       "        (identity_conv): ResConv(\n",
       "          (conv): Conv2d(128, 256, kernel_size=(1, 1), stride=(2, 2), bias=False)\n",
       "          (bn): BatchNorm2d(256, eps=1e-05, momentum=0.1, affine=True, track_running_stats=True)\n",
       "        )\n",
       "        (activ): ReLU(inplace)\n",
       "      )\n",
       "      (unit2): ResUnit(\n",
       "        (body): ResBlock(\n",
       "          (conv1): ResConv(\n",
       "            (conv): Conv2d(256, 256, kernel_size=(3, 3), stride=(1, 1), padding=(1, 1), bias=False)\n",
       "            (bn): BatchNorm2d(256, eps=1e-05, momentum=0.1, affine=True, track_running_stats=True)\n",
       "            (activ): ReLU(inplace)\n",
       "          )\n",
       "          (conv2): ResConv(\n",
       "            (conv): Conv2d(256, 256, kernel_size=(3, 3), stride=(1, 1), padding=(1, 1), bias=False)\n",
       "            (bn): BatchNorm2d(256, eps=1e-05, momentum=0.1, affine=True, track_running_stats=True)\n",
       "          )\n",
       "        )\n",
       "        (activ): ReLU(inplace)\n",
       "      )\n",
       "    )\n",
       "    (stage4): Sequential(\n",
       "      (unit1): ResUnit(\n",
       "        (body): ResBlock(\n",
       "          (conv1): ResConv(\n",
       "            (conv): Conv2d(256, 512, kernel_size=(3, 3), stride=(2, 2), padding=(1, 1), bias=False)\n",
       "            (bn): BatchNorm2d(512, eps=1e-05, momentum=0.1, affine=True, track_running_stats=True)\n",
       "            (activ): ReLU(inplace)\n",
       "          )\n",
       "          (conv2): ResConv(\n",
       "            (conv): Conv2d(512, 512, kernel_size=(3, 3), stride=(1, 1), padding=(1, 1), bias=False)\n",
       "            (bn): BatchNorm2d(512, eps=1e-05, momentum=0.1, affine=True, track_running_stats=True)\n",
       "          )\n",
       "        )\n",
       "        (identity_conv): ResConv(\n",
       "          (conv): Conv2d(256, 512, kernel_size=(1, 1), stride=(2, 2), bias=False)\n",
       "          (bn): BatchNorm2d(512, eps=1e-05, momentum=0.1, affine=True, track_running_stats=True)\n",
       "        )\n",
       "        (activ): ReLU(inplace)\n",
       "      )\n",
       "      (unit2): ResUnit(\n",
       "        (body): ResBlock(\n",
       "          (conv1): ResConv(\n",
       "            (conv): Conv2d(512, 512, kernel_size=(3, 3), stride=(1, 1), padding=(1, 1), bias=False)\n",
       "            (bn): BatchNorm2d(512, eps=1e-05, momentum=0.1, affine=True, track_running_stats=True)\n",
       "            (activ): ReLU(inplace)\n",
       "          )\n",
       "          (conv2): ResConv(\n",
       "            (conv): Conv2d(512, 512, kernel_size=(3, 3), stride=(1, 1), padding=(1, 1), bias=False)\n",
       "            (bn): BatchNorm2d(512, eps=1e-05, momentum=0.1, affine=True, track_running_stats=True)\n",
       "          )\n",
       "        )\n",
       "        (activ): ReLU(inplace)\n",
       "      )\n",
       "    )\n",
       "    (final_pool): AvgPool2d(kernel_size=7, stride=1, padding=0)\n",
       "  )\n",
       "  (output): Linear(in_features=512, out_features=1000, bias=True)\n",
       ")>"
      ]
     },
     "execution_count": 5,
     "metadata": {},
     "output_type": "execute_result"
    }
   ],
   "source": [
    "net.modules"
   ]
  },
  {
   "cell_type": "code",
   "execution_count": 6,
   "metadata": {
    "ExecuteTime": {
     "end_time": "2018-10-15T23:59:58.621449Z",
     "start_time": "2018-10-15T23:59:58.603150Z"
    }
   },
   "outputs": [
    {
     "data": {
      "text/plain": [
       "pytorchcv.models.resnet.ResNet"
      ]
     },
     "execution_count": 6,
     "metadata": {},
     "output_type": "execute_result"
    }
   ],
   "source": [
    "type(net)"
   ]
  },
  {
   "cell_type": "code",
   "execution_count": 7,
   "metadata": {
    "ExecuteTime": {
     "end_time": "2018-10-16T00:09:35.638512Z",
     "start_time": "2018-10-16T00:09:33.907000Z"
    }
   },
   "outputs": [
    {
     "data": {
      "text/plain": [
       "<generator object Module.modules at 0x105761eb8>"
      ]
     },
     "execution_count": 7,
     "metadata": {},
     "output_type": "execute_result"
    }
   ],
   "source": [
    "model = models.resnet18(True)\n",
    "model.modules()"
   ]
  },
  {
   "cell_type": "code",
   "execution_count": 8,
   "metadata": {},
   "outputs": [],
   "source": [
    "def get_conv2D_Wmats(Wtensor):\n",
    "    \"\"\"Extract W slices from a 4 index conv2D tensor of shape: (N,M,i,j) or (M,N,i,j).  Return ij (N x M) matrices\"\"\"\n",
    "    Wmats = []\n",
    "    s = Wtensor.shape\n",
    "    N, M, imax, jmax = s[0],s[1],s[2],s[3]\n",
    "    #print(\"tensor shape\", N,M,imax,jmax)\n",
    "    for i in range(imax):\n",
    "        for j in range(jmax):\n",
    "            W = Wtensor[:,:,i,j]\n",
    "            if N < M:\n",
    "                W = W.T\n",
    "            Wmats.append(W)\n",
    "    return Wmats"
   ]
  },
  {
   "cell_type": "code",
   "execution_count": 18,
   "metadata": {
    "ExecuteTime": {
     "end_time": "2018-10-15T23:45:10.955212Z",
     "start_time": "2018-10-15T23:45:10.821512Z"
    }
   },
   "outputs": [],
   "source": [
    "MIN_DIM = 10\n",
    "\n",
    "def iter_pytorch_layers(model, min_dim=MIN_DIM):\n",
    "    \"\"\"Iterate over a pytorch layers and  weight matrix.  \n",
    "    Supports linear, conv2d, and conv2d-slices\"\"\"\n",
    "    \n",
    "    nlayers = 0\n",
    "    for im, m in enumerate(model.modules()):\n",
    "        #print(\"######## {}\".format(im))\n",
    "        #print(m)\n",
    "        if isinstance(m, nn.Linear):\n",
    "            nlayers += 1\n",
    "            #$print(\"  ===> Linear\")\n",
    "            W = np.array(m.weight.data.clone().cpu())\n",
    "            if W is not None:\n",
    "                yield W\n",
    "        elif isinstance(m, nn.Conv2d):\n",
    "            nlayers += 1\n",
    "            #$print(\"  ===> Conv2D\")\n",
    "            Wtensor = np.array(m.weight.data.clone().cpu())\n",
    "            Wmats = get_conv2D_Wmats(Wtensor)\n",
    "            for W in Wmats:\n",
    "                if (np.min(W.shape) >= min_dim):\n",
    "                    yield W\n",
    "                    \n",
    "    print(\"nlayers {}\".format(nlayers))"
   ]
  },
  {
   "cell_type": "code",
   "execution_count": 19,
   "metadata": {
    "ExecuteTime": {
     "end_time": "2018-10-15T23:12:51.434077Z",
     "start_time": "2018-10-15T23:12:51.417183Z"
    }
   },
   "outputs": [],
   "source": [
    "def num_layers(net):\n",
    "    cnt = 0\n",
    "    for W in iter_pytorch_layers(net):\n",
    "        cnt+=1\n",
    "    return cnt"
   ]
  },
  {
   "cell_type": "code",
   "execution_count": 20,
   "metadata": {},
   "outputs": [
    {
     "name": "stdout",
     "output_type": "stream",
     "text": [
      "../imgclsmob/osmr_modelnames\r\n"
     ]
    }
   ],
   "source": [
    "!ls  ../imgclsmob/osmr_modelnames "
   ]
  },
  {
   "cell_type": "code",
   "execution_count": 21,
   "metadata": {},
   "outputs": [],
   "source": [
    "osmr = pd.read_csv(\"osmr_modelnames\", delimiter=\"\\t\")"
   ]
  },
  {
   "cell_type": "code",
   "execution_count": 22,
   "metadata": {},
   "outputs": [],
   "source": [
    "def fixname(modelname):\n",
    "    fixedname = modelname\n",
    "    # condensenet\n",
    "    fixedname = fixedname.replace(' (C=G=4)','_c4_g4')\n",
    "    fixedname = fixedname.replace(' (C=G=8)','_c8_g8')\n",
    "    # resnet , mobilenetv2, shuffleney\n",
    "    fixedname = fixedname.replace(' x0.25','_wd4')\n",
    "    fixedname = fixedname.replace(' x0.5','_wd2')\n",
    "    fixedname = fixedname.replace(' x0.75','_w3d4')\n",
    "    fixedname = fixedname.replace(' x1.0','_w1')\n",
    "    fixedname = fixedname.replace(' x1.5','_w3d2')\n",
    "\n",
    "    \n",
    "    # menet TODO: FIX\n",
    "    fixedname = fixedname.replace(' (g=','_g')\n",
    "    # darkent\n",
    "    fixedname = fixedname.replace(' Ref','_ref')\n",
    "    fixedname = fixedname.replace(' Tiny','_tiny')\n",
    "    # squeezenet\n",
    "    fixedname = fixedname.replace(' v1.','_v1_')\n",
    "    fixedname = fixedname.replace(' V1.','_v1_')\n",
    "    fixedname = fixedname.replace(' V2.','_v2_')\n",
    "\n",
    "\n",
    "    fixedname = fixedname.replace('-','').replace(' ','')\n",
    "    fixedname = fixedname.replace('(','_').replace(')','')\n",
    "    fixedname = fixedname.lower()\n",
    "\n",
    "    if 'menet' in fixedname:\n",
    "        fixedname = \"menet\"+(fixedname.replace('menet','_'))\n",
    "    \n",
    "    return fixedname"
   ]
  },
  {
   "cell_type": "code",
   "execution_count": 23,
   "metadata": {},
   "outputs": [
    {
     "name": "stdout",
     "output_type": "stream",
     "text": [
      "ResNet-10 -->   resnet10\n",
      "nlayers 13\n",
      "76\n",
      "ResNet-12 -->   resnet12\n",
      "nlayers 15\n",
      "94\n",
      "ResNet-14 -->   resnet14\n",
      "nlayers 17\n",
      "112\n",
      "ResNet-16 -->   resnet16\n",
      "nlayers 19\n",
      "130\n",
      "ResNet-18 x0.25 -->   resnet18_wd4\n",
      "nlayers 21\n",
      "148\n",
      "ResNet-18 x0.5 -->   resnet18_wd2\n",
      "nlayers 21\n",
      "148\n",
      "ResNet-18 x0.75 -->   resnet18_w3d4\n",
      "nlayers 21\n",
      "148\n",
      "ResNet-18 -->   resnet18\n",
      "nlayers 21\n",
      "148\n",
      "ResNet-34 -->   resnet34\n",
      "nlayers 37\n",
      "292\n",
      "ResNet-50 -->   resnet50\n",
      "nlayers 54\n",
      "181\n",
      "ResNet-50b -->   resnet50b\n",
      "nlayers 54\n",
      "181\n",
      "ResNet-101 -->   resnet101\n",
      "nlayers 105\n",
      "368\n",
      "ResNet-101b -->   resnet101b\n",
      "nlayers 105\n",
      "368\n",
      "ResNet-152 -->   resnet152\n",
      "nlayers 156\n",
      "555\n",
      "ResNet-152b -->   resnet152b\n",
      "nlayers 156\n",
      "555\n",
      "PreResNet-18 -->   preresnet18\n",
      "nlayers 21\n",
      "148\n",
      "PreResNet-34 -->   preresnet34\n",
      "nlayers 37\n",
      "292\n",
      "PreResNet-50 -->   preresnet50\n",
      "nlayers 54\n",
      "181\n",
      "PreResNet-50b -->   preresnet50b\n",
      "nlayers 54\n",
      "181\n",
      "PreResNet-101 -->   preresnet101\n",
      "nlayers 105\n",
      "368\n",
      "PreResNet-101b -->   preresnet101b\n",
      "nlayers 105\n",
      "368\n",
      "PreResNet-152 -->   preresnet152\n",
      "nlayers 156\n",
      "555\n",
      "PreResNet-152b -->   preresnet152b\n",
      "nlayers 156\n",
      "555\n",
      "PreResNet-200b -->   preresnet200b\n",
      "nlayers 204\n",
      "731\n",
      "ResNeXt-101 (32x4d) -->   resnext101_32x4d\n",
      "nlayers 105\n",
      "305\n",
      "ResNeXt-101 (64x4d) -->   resnext101_64x4d\n",
      "nlayers 105\n",
      "305\n",
      "SE-ResNet-50 -->   seresnet50\n",
      "nlayers 86\n",
      "213\n",
      "SE-ResNet-101 -->   seresnet101\n",
      "nlayers 171\n",
      "434\n",
      "SE-ResNet-152 -->   seresnet152\n",
      "nlayers 256\n",
      "655\n",
      "SE-ResNeXt-50 (32x4d) -->   seresnext50_32x4d\n",
      "nlayers 86\n",
      "150\n",
      "SE-ResNeXt-101 (32x4d) -->   seresnext101_32x4d\n",
      "nlayers 171\n",
      "371\n",
      "SENet-154 -->   senet154\n",
      "nlayers 258\n",
      "274\n",
      "DenseNet-121 -->   densenet121\n",
      "nlayers 121\n",
      "584\n",
      "DenseNet-161 -->   densenet161\n",
      "nlayers 161\n",
      "784\n",
      "DenseNet-169 -->   densenet169\n",
      "nlayers 169\n",
      "824\n",
      "DenseNet-201 -->   densenet201\n",
      "nlayers 201\n",
      "984\n",
      "CondenseNet-74 (C=G=4) -->   condensenet74_c4_g4\n",
      "nlayers 74\n",
      "322\n",
      "CondenseNet-74 (C=G=8) -->   condensenet74_c8_g8\n",
      "nlayers 74\n",
      "265\n",
      "DPN-68 -->   dpn68\n",
      "nlayers 72\n",
      "184\n",
      "DPN-98 -->   dpn98\n",
      "nlayers 102\n",
      "276\n",
      "DPN-131 -->   dpn131\n",
      "nlayers 135\n",
      "370\n",
      "DarkNet Tiny -->   darknet_tiny\n",
      "nlayers 16\n",
      "71\n",
      "DarkNet Ref -->   darknet_ref\n",
      "Pretrained model for darknet_ref is not available.\n",
      "SqueezeNet v1.0 -->   squeezenet_v1_0\n",
      "nlayers 26\n",
      "89\n",
      "SqueezeNet v1.1 -->   squeezenet_v1_1\n",
      "nlayers 26\n",
      "89\n",
      "ShuffleNetV2 x0.5 -->   shufflenetv2_wd2\n",
      "nlayers 57\n",
      "37\n",
      "ShuffleNetV2 x1.0 -->   shufflenetv2_w1\n",
      "nlayers 57\n",
      "37\n",
      "ShuffleNetV2 x1.5 -->   shufflenetv2_w3d2\n",
      "Pretrained model for shufflenetv2_w3d2 is not available.\n",
      "108-MENet-8x1 (g=3) -->   menet108_8x1_g3\n",
      "nlayers 98\n",
      "29\n",
      "128-MENet-8x1 (g=4) -->   menet128_8x1_g4\n",
      "nlayers 98\n",
      "29\n",
      "228-MENet-12x1 (g=3) -->   menet228_12x1_g3\n",
      "nlayers 98\n",
      "209\n",
      "256-MENet-12x1 (g=4) -->   menet256_12x1_g4\n",
      "nlayers 98\n",
      "209\n",
      "348-MENet-12x1 (g=3) -->   menet348_12x1_g3\n",
      "nlayers 98\n",
      "209\n",
      "352-MENet-12x1 (g=8) -->   menet352_12x1_g8\n",
      "nlayers 98\n",
      "209\n",
      "456-MENet-24x1 (g=3) -->   menet456_24x1_g3\n",
      "nlayers 98\n",
      "209\n",
      "MobileNet x0.25 -->   mobilenet_wd4\n",
      "nlayers 28\n",
      "13\n",
      "MobileNet x0.5 -->   mobilenet_wd2\n",
      "nlayers 28\n",
      "14\n",
      "MobileNet x0.75 -->   mobilenet_w3d4\n",
      "nlayers 28\n",
      "14\n",
      "MobileNet x1.0 -->   mobilenet_w1\n",
      "nlayers 28\n",
      "14\n",
      "FD-MobileNet x0.25 -->   fdmobilenet_wd4\n",
      "nlayers 24\n",
      "11\n",
      "FD-MobileNet x0.5 -->   fdmobilenet_wd2\n",
      "nlayers 24\n",
      "12\n",
      "FD-MobileNet x1.0 -->   fdmobilenet_w1\n",
      "nlayers 24\n",
      "12\n",
      "MobileNetV2 x0.25 -->   mobilenetv2_wd4\n",
      "nlayers 54\n",
      "23\n",
      "MobileNetV2 x0.5 -->   mobilenetv2_wd2\n",
      "nlayers 54\n",
      "34\n",
      "MobileNetV2 x0.75 -->   mobilenetv2_w3d4\n",
      "nlayers 54\n",
      "36\n",
      "MobileNetV2 x1.0 -->   mobilenetv2_w1\n",
      "nlayers 54\n",
      "36\n",
      "SNet-A-Mobile -->   snetamobile\n",
      "Unsupported model: snetamobile\n"
     ]
    }
   ],
   "source": [
    "unsupported = []\n",
    "for modelname in osmr['model'].values:\n",
    "    \n",
    "    fixedname = fixname(modelname)\n",
    "    print(modelname, \"-->  \", fixedname)\n",
    "    try:\n",
    "        net = ptcv_get_model(fixedname, pretrained=True)\n",
    "        print(num_layers(net))\n",
    "    except Exception as e:\n",
    "        print(e)\n",
    "        unsupported.append(fixedname)\n",
    "        "
   ]
  },
  {
   "cell_type": "code",
   "execution_count": 15,
   "metadata": {},
   "outputs": [
    {
     "data": {
      "text/plain": [
       "['darknet_ref', 'shufflenetv2_w3d2', 'snetamobile']"
      ]
     },
     "execution_count": 15,
     "metadata": {},
     "output_type": "execute_result"
    }
   ],
   "source": [
    "unsupported"
   ]
  },
  {
   "cell_type": "code",
   "execution_count": 31,
   "metadata": {},
   "outputs": [],
   "source": [
    "osmr['fixedname'] = osmr['model'].apply(lambda x: fixname(x))"
   ]
  },
  {
   "cell_type": "code",
   "execution_count": 32,
   "metadata": {},
   "outputs": [
    {
     "data": {
      "text/html": [
       "<div>\n",
       "<style scoped>\n",
       "    .dataframe tbody tr th:only-of-type {\n",
       "        vertical-align: middle;\n",
       "    }\n",
       "\n",
       "    .dataframe tbody tr th {\n",
       "        vertical-align: top;\n",
       "    }\n",
       "\n",
       "    .dataframe thead th {\n",
       "        text-align: right;\n",
       "    }\n",
       "</style>\n",
       "<table border=\"1\" class=\"dataframe\">\n",
       "  <thead>\n",
       "    <tr style=\"text-align: right;\">\n",
       "      <th></th>\n",
       "      <th>model</th>\n",
       "      <th>top1</th>\n",
       "      <th>top5</th>\n",
       "      <th>params</th>\n",
       "      <th>flops</th>\n",
       "      <th>fixedname</th>\n",
       "    </tr>\n",
       "  </thead>\n",
       "  <tbody>\n",
       "    <tr>\n",
       "      <th>0</th>\n",
       "      <td>ResNet-10</td>\n",
       "      <td>37.46</td>\n",
       "      <td>15.85</td>\n",
       "      <td>5,418,792</td>\n",
       "      <td>892.62M</td>\n",
       "      <td>resnet10</td>\n",
       "    </tr>\n",
       "    <tr>\n",
       "      <th>1</th>\n",
       "      <td>ResNet-12</td>\n",
       "      <td>36.18</td>\n",
       "      <td>14.80</td>\n",
       "      <td>5,492,776</td>\n",
       "      <td>1,124.23M</td>\n",
       "      <td>resnet12</td>\n",
       "    </tr>\n",
       "    <tr>\n",
       "      <th>2</th>\n",
       "      <td>ResNet-14</td>\n",
       "      <td>33.17</td>\n",
       "      <td>12.71</td>\n",
       "      <td>5,788,200</td>\n",
       "      <td>1,355.64M</td>\n",
       "      <td>resnet14</td>\n",
       "    </tr>\n",
       "    <tr>\n",
       "      <th>3</th>\n",
       "      <td>ResNet-16</td>\n",
       "      <td>30.90</td>\n",
       "      <td>11.38</td>\n",
       "      <td>6,968,872</td>\n",
       "      <td>1,586.95M</td>\n",
       "      <td>resnet16</td>\n",
       "    </tr>\n",
       "    <tr>\n",
       "      <th>4</th>\n",
       "      <td>ResNet-18 x0.25</td>\n",
       "      <td>49.50</td>\n",
       "      <td>24.83</td>\n",
       "      <td>831,096</td>\n",
       "      <td>136.64M</td>\n",
       "      <td>resnet18_wd4</td>\n",
       "    </tr>\n",
       "    <tr>\n",
       "      <th>5</th>\n",
       "      <td>ResNet-18 x0.5</td>\n",
       "      <td>37.04</td>\n",
       "      <td>15.38</td>\n",
       "      <td>3,055,880</td>\n",
       "      <td>485.22M</td>\n",
       "      <td>resnet18_wd2</td>\n",
       "    </tr>\n",
       "    <tr>\n",
       "      <th>6</th>\n",
       "      <td>ResNet-18 x0.75</td>\n",
       "      <td>33.61</td>\n",
       "      <td>12.85</td>\n",
       "      <td>6,675,352</td>\n",
       "      <td>1,045.75M</td>\n",
       "      <td>resnet18_w3d4</td>\n",
       "    </tr>\n",
       "    <tr>\n",
       "      <th>7</th>\n",
       "      <td>ResNet-18</td>\n",
       "      <td>29.52</td>\n",
       "      <td>10.21</td>\n",
       "      <td>11,689,512</td>\n",
       "      <td>1,818.21M</td>\n",
       "      <td>resnet18</td>\n",
       "    </tr>\n",
       "    <tr>\n",
       "      <th>8</th>\n",
       "      <td>ResNet-34</td>\n",
       "      <td>25.66</td>\n",
       "      <td>8.18</td>\n",
       "      <td>21,797,672</td>\n",
       "      <td>3,669.16M</td>\n",
       "      <td>resnet34</td>\n",
       "    </tr>\n",
       "    <tr>\n",
       "      <th>9</th>\n",
       "      <td>ResNet-50</td>\n",
       "      <td>23.79</td>\n",
       "      <td>7.05</td>\n",
       "      <td>25,557,032</td>\n",
       "      <td>3,868.96M</td>\n",
       "      <td>resnet50</td>\n",
       "    </tr>\n",
       "    <tr>\n",
       "      <th>10</th>\n",
       "      <td>ResNet-50b</td>\n",
       "      <td>23.05</td>\n",
       "      <td>6.65</td>\n",
       "      <td>25,557,032</td>\n",
       "      <td>4,100.70M</td>\n",
       "      <td>resnet50b</td>\n",
       "    </tr>\n",
       "    <tr>\n",
       "      <th>11</th>\n",
       "      <td>ResNet-101</td>\n",
       "      <td>21.90</td>\n",
       "      <td>6.22</td>\n",
       "      <td>44,549,160</td>\n",
       "      <td>7,586.30M</td>\n",
       "      <td>resnet101</td>\n",
       "    </tr>\n",
       "    <tr>\n",
       "      <th>12</th>\n",
       "      <td>ResNet-101b</td>\n",
       "      <td>21.45</td>\n",
       "      <td>5.81</td>\n",
       "      <td>44,549,160</td>\n",
       "      <td>7,818.04M</td>\n",
       "      <td>resnet101b</td>\n",
       "    </tr>\n",
       "    <tr>\n",
       "      <th>13</th>\n",
       "      <td>ResNet-152</td>\n",
       "      <td>21.26</td>\n",
       "      <td>5.82</td>\n",
       "      <td>60,192,808</td>\n",
       "      <td>11,304.85M</td>\n",
       "      <td>resnet152</td>\n",
       "    </tr>\n",
       "    <tr>\n",
       "      <th>14</th>\n",
       "      <td>ResNet-152b</td>\n",
       "      <td>20.74</td>\n",
       "      <td>5.50</td>\n",
       "      <td>60,192,808</td>\n",
       "      <td>11,536.58M</td>\n",
       "      <td>resnet152b</td>\n",
       "    </tr>\n",
       "    <tr>\n",
       "      <th>15</th>\n",
       "      <td>PreResNet-18</td>\n",
       "      <td>29.09</td>\n",
       "      <td>10.18</td>\n",
       "      <td>11,687,848</td>\n",
       "      <td>1,818.41M</td>\n",
       "      <td>preresnet18</td>\n",
       "    </tr>\n",
       "    <tr>\n",
       "      <th>16</th>\n",
       "      <td>PreResNet-34</td>\n",
       "      <td>26.23</td>\n",
       "      <td>8.41</td>\n",
       "      <td>21,796,008</td>\n",
       "      <td>3,669.36M</td>\n",
       "      <td>preresnet34</td>\n",
       "    </tr>\n",
       "    <tr>\n",
       "      <th>17</th>\n",
       "      <td>PreResNet-50</td>\n",
       "      <td>23.70</td>\n",
       "      <td>6.85</td>\n",
       "      <td>25,549,480</td>\n",
       "      <td>3,869.16M</td>\n",
       "      <td>preresnet50</td>\n",
       "    </tr>\n",
       "    <tr>\n",
       "      <th>18</th>\n",
       "      <td>PreResNet-50b</td>\n",
       "      <td>23.33</td>\n",
       "      <td>6.87</td>\n",
       "      <td>25,549,480</td>\n",
       "      <td>4,100.90M</td>\n",
       "      <td>preresnet50b</td>\n",
       "    </tr>\n",
       "    <tr>\n",
       "      <th>19</th>\n",
       "      <td>PreResNet-101</td>\n",
       "      <td>21.74</td>\n",
       "      <td>5.91</td>\n",
       "      <td>44,541,608</td>\n",
       "      <td>7,586.50M</td>\n",
       "      <td>preresnet101</td>\n",
       "    </tr>\n",
       "    <tr>\n",
       "      <th>20</th>\n",
       "      <td>PreResNet-101b</td>\n",
       "      <td>21.95</td>\n",
       "      <td>6.03</td>\n",
       "      <td>44,541,608</td>\n",
       "      <td>7,818.24M</td>\n",
       "      <td>preresnet101b</td>\n",
       "    </tr>\n",
       "    <tr>\n",
       "      <th>21</th>\n",
       "      <td>PreResNet-152</td>\n",
       "      <td>20.94</td>\n",
       "      <td>5.55</td>\n",
       "      <td>60,185,256</td>\n",
       "      <td>11,305.05M</td>\n",
       "      <td>preresnet152</td>\n",
       "    </tr>\n",
       "    <tr>\n",
       "      <th>22</th>\n",
       "      <td>PreResNet-152b</td>\n",
       "      <td>21.34</td>\n",
       "      <td>5.91</td>\n",
       "      <td>60,185,256</td>\n",
       "      <td>11,536.78M</td>\n",
       "      <td>preresnet152b</td>\n",
       "    </tr>\n",
       "    <tr>\n",
       "      <th>23</th>\n",
       "      <td>PreResNet-200b</td>\n",
       "      <td>21.33</td>\n",
       "      <td>5.88</td>\n",
       "      <td>64,666,280</td>\n",
       "      <td>15,040.27M</td>\n",
       "      <td>preresnet200b</td>\n",
       "    </tr>\n",
       "    <tr>\n",
       "      <th>24</th>\n",
       "      <td>ResNeXt-101 (32x4d)</td>\n",
       "      <td>21.81</td>\n",
       "      <td>6.11</td>\n",
       "      <td>44,177,704</td>\n",
       "      <td>7,991.62M</td>\n",
       "      <td>resnext101_32x4d</td>\n",
       "    </tr>\n",
       "    <tr>\n",
       "      <th>25</th>\n",
       "      <td>ResNeXt-101 (64x4d)</td>\n",
       "      <td>21.04</td>\n",
       "      <td>5.75</td>\n",
       "      <td>83,455,272</td>\n",
       "      <td>15,491.88M</td>\n",
       "      <td>resnext101_64x4d</td>\n",
       "    </tr>\n",
       "    <tr>\n",
       "      <th>26</th>\n",
       "      <td>SE-ResNet-50</td>\n",
       "      <td>22.47</td>\n",
       "      <td>6.40</td>\n",
       "      <td>28,088,024</td>\n",
       "      <td>3,877.01M</td>\n",
       "      <td>seresnet50</td>\n",
       "    </tr>\n",
       "    <tr>\n",
       "      <th>27</th>\n",
       "      <td>SE-ResNet-101</td>\n",
       "      <td>21.88</td>\n",
       "      <td>5.89</td>\n",
       "      <td>49,326,872</td>\n",
       "      <td>7,600.01M</td>\n",
       "      <td>seresnet101</td>\n",
       "    </tr>\n",
       "    <tr>\n",
       "      <th>28</th>\n",
       "      <td>SE-ResNet-152</td>\n",
       "      <td>21.48</td>\n",
       "      <td>5.76</td>\n",
       "      <td>66,821,848</td>\n",
       "      <td>11,324.62M</td>\n",
       "      <td>seresnet152</td>\n",
       "    </tr>\n",
       "    <tr>\n",
       "      <th>29</th>\n",
       "      <td>SE-ResNeXt-50 (32x4d)</td>\n",
       "      <td>21.00</td>\n",
       "      <td>5.54</td>\n",
       "      <td>27,559,896</td>\n",
       "      <td>4,253.33M</td>\n",
       "      <td>seresnext50_32x4d</td>\n",
       "    </tr>\n",
       "    <tr>\n",
       "      <th>...</th>\n",
       "      <td>...</td>\n",
       "      <td>...</td>\n",
       "      <td>...</td>\n",
       "      <td>...</td>\n",
       "      <td>...</td>\n",
       "      <td>...</td>\n",
       "    </tr>\n",
       "    <tr>\n",
       "      <th>37</th>\n",
       "      <td>CondenseNet-74 (C=G=8)</td>\n",
       "      <td>28.93</td>\n",
       "      <td>10.06</td>\n",
       "      <td>2,935,416</td>\n",
       "      <td>278.55M</td>\n",
       "      <td>condensenet74_c8_g8</td>\n",
       "    </tr>\n",
       "    <tr>\n",
       "      <th>38</th>\n",
       "      <td>DPN-68</td>\n",
       "      <td>24.17</td>\n",
       "      <td>7.27</td>\n",
       "      <td>12,611,602</td>\n",
       "      <td>2,338.71M</td>\n",
       "      <td>dpn68</td>\n",
       "    </tr>\n",
       "    <tr>\n",
       "      <th>39</th>\n",
       "      <td>DPN-98</td>\n",
       "      <td>20.81</td>\n",
       "      <td>5.53</td>\n",
       "      <td>61,570,728</td>\n",
       "      <td>11,702.80M</td>\n",
       "      <td>dpn98</td>\n",
       "    </tr>\n",
       "    <tr>\n",
       "      <th>40</th>\n",
       "      <td>DPN-131</td>\n",
       "      <td>20.54</td>\n",
       "      <td>5.48</td>\n",
       "      <td>79,254,504</td>\n",
       "      <td>16,056.22M</td>\n",
       "      <td>dpn131</td>\n",
       "    </tr>\n",
       "    <tr>\n",
       "      <th>41</th>\n",
       "      <td>DarkNet Tiny</td>\n",
       "      <td>43.65</td>\n",
       "      <td>19.80</td>\n",
       "      <td>1,042,104</td>\n",
       "      <td>496.34M</td>\n",
       "      <td>darknet_tiny</td>\n",
       "    </tr>\n",
       "    <tr>\n",
       "      <th>42</th>\n",
       "      <td>DarkNet Ref</td>\n",
       "      <td>38.58</td>\n",
       "      <td>17.18</td>\n",
       "      <td>7,319,416</td>\n",
       "      <td>365.55M</td>\n",
       "      <td>darknet_ref</td>\n",
       "    </tr>\n",
       "    <tr>\n",
       "      <th>43</th>\n",
       "      <td>SqueezeNet v1.0</td>\n",
       "      <td>41.31</td>\n",
       "      <td>19.32</td>\n",
       "      <td>1,248,424</td>\n",
       "      <td>828.30M</td>\n",
       "      <td>squeezenet_v1_0</td>\n",
       "    </tr>\n",
       "    <tr>\n",
       "      <th>44</th>\n",
       "      <td>SqueezeNet v1.1</td>\n",
       "      <td>41.82</td>\n",
       "      <td>19.38</td>\n",
       "      <td>1,235,496</td>\n",
       "      <td>354.88M</td>\n",
       "      <td>squeezenet_v1_1</td>\n",
       "    </tr>\n",
       "    <tr>\n",
       "      <th>45</th>\n",
       "      <td>ShuffleNetV2 x0.5</td>\n",
       "      <td>41.48</td>\n",
       "      <td>19.02</td>\n",
       "      <td>1,366,792</td>\n",
       "      <td>42.34M</td>\n",
       "      <td>shufflenetv2_wd2</td>\n",
       "    </tr>\n",
       "    <tr>\n",
       "      <th>46</th>\n",
       "      <td>ShuffleNetV2 x1.0</td>\n",
       "      <td>34.39</td>\n",
       "      <td>13.78</td>\n",
       "      <td>2,278,604</td>\n",
       "      <td>147.92M</td>\n",
       "      <td>shufflenetv2_w1</td>\n",
       "    </tr>\n",
       "    <tr>\n",
       "      <th>47</th>\n",
       "      <td>ShuffleNetV2 x1.5</td>\n",
       "      <td>32.82</td>\n",
       "      <td>12.69</td>\n",
       "      <td>4,406,098</td>\n",
       "      <td>318.61M</td>\n",
       "      <td>shufflenetv2_w3d2</td>\n",
       "    </tr>\n",
       "    <tr>\n",
       "      <th>48</th>\n",
       "      <td>108-MENet-8x1 (g=3)</td>\n",
       "      <td>43.92</td>\n",
       "      <td>20.76</td>\n",
       "      <td>654,516</td>\n",
       "      <td>40.64M</td>\n",
       "      <td>menet108_8x1_g3</td>\n",
       "    </tr>\n",
       "    <tr>\n",
       "      <th>49</th>\n",
       "      <td>128-MENet-8x1 (g=4)</td>\n",
       "      <td>43.95</td>\n",
       "      <td>20.62</td>\n",
       "      <td>750,796</td>\n",
       "      <td>43.58M</td>\n",
       "      <td>menet128_8x1_g4</td>\n",
       "    </tr>\n",
       "    <tr>\n",
       "      <th>50</th>\n",
       "      <td>228-MENet-12x1 (g=3)</td>\n",
       "      <td>33.57</td>\n",
       "      <td>13.28</td>\n",
       "      <td>1,806,568</td>\n",
       "      <td>148.93M</td>\n",
       "      <td>menet228_12x1_g3</td>\n",
       "    </tr>\n",
       "    <tr>\n",
       "      <th>51</th>\n",
       "      <td>256-MENet-12x1 (g=4)</td>\n",
       "      <td>33.41</td>\n",
       "      <td>13.26</td>\n",
       "      <td>1,888,240</td>\n",
       "      <td>146.11M</td>\n",
       "      <td>menet256_12x1_g4</td>\n",
       "    </tr>\n",
       "    <tr>\n",
       "      <th>52</th>\n",
       "      <td>348-MENet-12x1 (g=3)</td>\n",
       "      <td>30.10</td>\n",
       "      <td>10.92</td>\n",
       "      <td>3,368,128</td>\n",
       "      <td>306.31M</td>\n",
       "      <td>menet348_12x1_g3</td>\n",
       "    </tr>\n",
       "    <tr>\n",
       "      <th>53</th>\n",
       "      <td>352-MENet-12x1 (g=8)</td>\n",
       "      <td>33.31</td>\n",
       "      <td>13.08</td>\n",
       "      <td>2,272,872</td>\n",
       "      <td>151.03M</td>\n",
       "      <td>menet352_12x1_g8</td>\n",
       "    </tr>\n",
       "    <tr>\n",
       "      <th>54</th>\n",
       "      <td>456-MENet-24x1 (g=3)</td>\n",
       "      <td>28.40</td>\n",
       "      <td>9.93</td>\n",
       "      <td>5,304,784</td>\n",
       "      <td>560.72M</td>\n",
       "      <td>menet456_24x1_g3</td>\n",
       "    </tr>\n",
       "    <tr>\n",
       "      <th>55</th>\n",
       "      <td>MobileNet x0.25</td>\n",
       "      <td>46.26</td>\n",
       "      <td>22.49</td>\n",
       "      <td>470,072</td>\n",
       "      <td>42.30M</td>\n",
       "      <td>mobilenet_wd4</td>\n",
       "    </tr>\n",
       "    <tr>\n",
       "      <th>56</th>\n",
       "      <td>MobileNet x0.5</td>\n",
       "      <td>36.30</td>\n",
       "      <td>15.14</td>\n",
       "      <td>1,331,592</td>\n",
       "      <td>152.04M</td>\n",
       "      <td>mobilenet_wd2</td>\n",
       "    </tr>\n",
       "    <tr>\n",
       "      <th>57</th>\n",
       "      <td>MobileNet x0.75</td>\n",
       "      <td>33.54</td>\n",
       "      <td>12.85</td>\n",
       "      <td>2,585,560</td>\n",
       "      <td>329.22M</td>\n",
       "      <td>mobilenet_w3d4</td>\n",
       "    </tr>\n",
       "    <tr>\n",
       "      <th>58</th>\n",
       "      <td>MobileNet x1.0</td>\n",
       "      <td>29.86</td>\n",
       "      <td>10.36</td>\n",
       "      <td>4,231,976</td>\n",
       "      <td>573.83M</td>\n",
       "      <td>mobilenet_w1</td>\n",
       "    </tr>\n",
       "    <tr>\n",
       "      <th>59</th>\n",
       "      <td>FD-MobileNet x0.25</td>\n",
       "      <td>55.77</td>\n",
       "      <td>31.32</td>\n",
       "      <td>383,160</td>\n",
       "      <td>12.44M</td>\n",
       "      <td>fdmobilenet_wd4</td>\n",
       "    </tr>\n",
       "    <tr>\n",
       "      <th>60</th>\n",
       "      <td>FD-MobileNet x0.5</td>\n",
       "      <td>43.85</td>\n",
       "      <td>20.72</td>\n",
       "      <td>993,928</td>\n",
       "      <td>40.93M</td>\n",
       "      <td>fdmobilenet_wd2</td>\n",
       "    </tr>\n",
       "    <tr>\n",
       "      <th>61</th>\n",
       "      <td>FD-MobileNet x1.0</td>\n",
       "      <td>34.70</td>\n",
       "      <td>14.05</td>\n",
       "      <td>2,901,288</td>\n",
       "      <td>146.08M</td>\n",
       "      <td>fdmobilenet_w1</td>\n",
       "    </tr>\n",
       "    <tr>\n",
       "      <th>62</th>\n",
       "      <td>MobileNetV2 x0.25</td>\n",
       "      <td>49.72</td>\n",
       "      <td>25.87</td>\n",
       "      <td>1,516,392</td>\n",
       "      <td>32.22M</td>\n",
       "      <td>mobilenetv2_wd4</td>\n",
       "    </tr>\n",
       "    <tr>\n",
       "      <th>63</th>\n",
       "      <td>MobileNetV2 x0.5</td>\n",
       "      <td>36.54</td>\n",
       "      <td>15.19</td>\n",
       "      <td>1,964,736</td>\n",
       "      <td>95.62M</td>\n",
       "      <td>mobilenetv2_wd2</td>\n",
       "    </tr>\n",
       "    <tr>\n",
       "      <th>64</th>\n",
       "      <td>MobileNetV2 x0.75</td>\n",
       "      <td>31.89</td>\n",
       "      <td>11.76</td>\n",
       "      <td>2,627,592</td>\n",
       "      <td>191.61M</td>\n",
       "      <td>mobilenetv2_w3d4</td>\n",
       "    </tr>\n",
       "    <tr>\n",
       "      <th>65</th>\n",
       "      <td>MobileNetV2 x1.0</td>\n",
       "      <td>29.31</td>\n",
       "      <td>10.39</td>\n",
       "      <td>3,504,960</td>\n",
       "      <td>320.19M</td>\n",
       "      <td>mobilenetv2_w1</td>\n",
       "    </tr>\n",
       "    <tr>\n",
       "      <th>66</th>\n",
       "      <td>SNet-A-Mobile</td>\n",
       "      <td>25.68</td>\n",
       "      <td>8.16</td>\n",
       "      <td>5,289,978</td>\n",
       "      <td>587.29M</td>\n",
       "      <td>snetamobile</td>\n",
       "    </tr>\n",
       "  </tbody>\n",
       "</table>\n",
       "<p>67 rows × 6 columns</p>\n",
       "</div>"
      ],
      "text/plain": [
       "                     model   top1   top5      params       flops  \\\n",
       "0                ResNet-10  37.46  15.85   5,418,792     892.62M   \n",
       "1                ResNet-12  36.18  14.80   5,492,776   1,124.23M   \n",
       "2                ResNet-14  33.17  12.71   5,788,200   1,355.64M   \n",
       "3                ResNet-16  30.90  11.38   6,968,872   1,586.95M   \n",
       "4          ResNet-18 x0.25  49.50  24.83     831,096     136.64M   \n",
       "5           ResNet-18 x0.5  37.04  15.38   3,055,880     485.22M   \n",
       "6          ResNet-18 x0.75  33.61  12.85   6,675,352   1,045.75M   \n",
       "7                ResNet-18  29.52  10.21  11,689,512   1,818.21M   \n",
       "8                ResNet-34  25.66   8.18  21,797,672   3,669.16M   \n",
       "9                ResNet-50  23.79   7.05  25,557,032   3,868.96M   \n",
       "10              ResNet-50b  23.05   6.65  25,557,032   4,100.70M   \n",
       "11              ResNet-101  21.90   6.22  44,549,160   7,586.30M   \n",
       "12             ResNet-101b  21.45   5.81  44,549,160   7,818.04M   \n",
       "13              ResNet-152  21.26   5.82  60,192,808  11,304.85M   \n",
       "14             ResNet-152b  20.74   5.50  60,192,808  11,536.58M   \n",
       "15            PreResNet-18  29.09  10.18  11,687,848   1,818.41M   \n",
       "16            PreResNet-34  26.23   8.41  21,796,008   3,669.36M   \n",
       "17            PreResNet-50  23.70   6.85  25,549,480   3,869.16M   \n",
       "18           PreResNet-50b  23.33   6.87  25,549,480   4,100.90M   \n",
       "19           PreResNet-101  21.74   5.91  44,541,608   7,586.50M   \n",
       "20          PreResNet-101b  21.95   6.03  44,541,608   7,818.24M   \n",
       "21           PreResNet-152  20.94   5.55  60,185,256  11,305.05M   \n",
       "22          PreResNet-152b  21.34   5.91  60,185,256  11,536.78M   \n",
       "23          PreResNet-200b  21.33   5.88  64,666,280  15,040.27M   \n",
       "24     ResNeXt-101 (32x4d)  21.81   6.11  44,177,704   7,991.62M   \n",
       "25     ResNeXt-101 (64x4d)  21.04   5.75  83,455,272  15,491.88M   \n",
       "26            SE-ResNet-50  22.47   6.40  28,088,024   3,877.01M   \n",
       "27           SE-ResNet-101  21.88   5.89  49,326,872   7,600.01M   \n",
       "28           SE-ResNet-152  21.48   5.76  66,821,848  11,324.62M   \n",
       "29   SE-ResNeXt-50 (32x4d)  21.00   5.54  27,559,896   4,253.33M   \n",
       "..                     ...    ...    ...         ...         ...   \n",
       "37  CondenseNet-74 (C=G=8)  28.93  10.06   2,935,416     278.55M   \n",
       "38                  DPN-68  24.17   7.27  12,611,602   2,338.71M   \n",
       "39                  DPN-98  20.81   5.53  61,570,728  11,702.80M   \n",
       "40                 DPN-131  20.54   5.48  79,254,504  16,056.22M   \n",
       "41            DarkNet Tiny  43.65  19.80   1,042,104     496.34M   \n",
       "42             DarkNet Ref  38.58  17.18   7,319,416     365.55M   \n",
       "43         SqueezeNet v1.0  41.31  19.32   1,248,424     828.30M   \n",
       "44         SqueezeNet v1.1  41.82  19.38   1,235,496     354.88M   \n",
       "45       ShuffleNetV2 x0.5  41.48  19.02   1,366,792      42.34M   \n",
       "46       ShuffleNetV2 x1.0  34.39  13.78   2,278,604     147.92M   \n",
       "47       ShuffleNetV2 x1.5  32.82  12.69   4,406,098     318.61M   \n",
       "48     108-MENet-8x1 (g=3)  43.92  20.76     654,516      40.64M   \n",
       "49     128-MENet-8x1 (g=4)  43.95  20.62     750,796      43.58M   \n",
       "50    228-MENet-12x1 (g=3)  33.57  13.28   1,806,568     148.93M   \n",
       "51    256-MENet-12x1 (g=4)  33.41  13.26   1,888,240     146.11M   \n",
       "52    348-MENet-12x1 (g=3)  30.10  10.92   3,368,128     306.31M   \n",
       "53    352-MENet-12x1 (g=8)  33.31  13.08   2,272,872     151.03M   \n",
       "54    456-MENet-24x1 (g=3)  28.40   9.93   5,304,784     560.72M   \n",
       "55         MobileNet x0.25  46.26  22.49     470,072      42.30M   \n",
       "56          MobileNet x0.5  36.30  15.14   1,331,592     152.04M   \n",
       "57         MobileNet x0.75  33.54  12.85   2,585,560     329.22M   \n",
       "58          MobileNet x1.0  29.86  10.36   4,231,976     573.83M   \n",
       "59      FD-MobileNet x0.25  55.77  31.32     383,160      12.44M   \n",
       "60       FD-MobileNet x0.5  43.85  20.72     993,928      40.93M   \n",
       "61       FD-MobileNet x1.0  34.70  14.05   2,901,288     146.08M   \n",
       "62       MobileNetV2 x0.25  49.72  25.87   1,516,392      32.22M   \n",
       "63        MobileNetV2 x0.5  36.54  15.19   1,964,736      95.62M   \n",
       "64       MobileNetV2 x0.75  31.89  11.76   2,627,592     191.61M   \n",
       "65        MobileNetV2 x1.0  29.31  10.39   3,504,960     320.19M   \n",
       "66           SNet-A-Mobile  25.68   8.16   5,289,978     587.29M   \n",
       "\n",
       "              fixedname  \n",
       "0              resnet10  \n",
       "1              resnet12  \n",
       "2              resnet14  \n",
       "3              resnet16  \n",
       "4          resnet18_wd4  \n",
       "5          resnet18_wd2  \n",
       "6         resnet18_w3d4  \n",
       "7              resnet18  \n",
       "8              resnet34  \n",
       "9              resnet50  \n",
       "10            resnet50b  \n",
       "11            resnet101  \n",
       "12           resnet101b  \n",
       "13            resnet152  \n",
       "14           resnet152b  \n",
       "15          preresnet18  \n",
       "16          preresnet34  \n",
       "17          preresnet50  \n",
       "18         preresnet50b  \n",
       "19         preresnet101  \n",
       "20        preresnet101b  \n",
       "21         preresnet152  \n",
       "22        preresnet152b  \n",
       "23        preresnet200b  \n",
       "24     resnext101_32x4d  \n",
       "25     resnext101_64x4d  \n",
       "26           seresnet50  \n",
       "27          seresnet101  \n",
       "28          seresnet152  \n",
       "29    seresnext50_32x4d  \n",
       "..                  ...  \n",
       "37  condensenet74_c8_g8  \n",
       "38                dpn68  \n",
       "39                dpn98  \n",
       "40               dpn131  \n",
       "41         darknet_tiny  \n",
       "42          darknet_ref  \n",
       "43      squeezenet_v1_0  \n",
       "44      squeezenet_v1_1  \n",
       "45     shufflenetv2_wd2  \n",
       "46      shufflenetv2_w1  \n",
       "47    shufflenetv2_w3d2  \n",
       "48      menet108_8x1_g3  \n",
       "49      menet128_8x1_g4  \n",
       "50     menet228_12x1_g3  \n",
       "51     menet256_12x1_g4  \n",
       "52     menet348_12x1_g3  \n",
       "53     menet352_12x1_g8  \n",
       "54     menet456_24x1_g3  \n",
       "55        mobilenet_wd4  \n",
       "56        mobilenet_wd2  \n",
       "57       mobilenet_w3d4  \n",
       "58         mobilenet_w1  \n",
       "59      fdmobilenet_wd4  \n",
       "60      fdmobilenet_wd2  \n",
       "61       fdmobilenet_w1  \n",
       "62      mobilenetv2_wd4  \n",
       "63      mobilenetv2_wd2  \n",
       "64     mobilenetv2_w3d4  \n",
       "65       mobilenetv2_w1  \n",
       "66          snetamobile  \n",
       "\n",
       "[67 rows x 6 columns]"
      ]
     },
     "execution_count": 32,
     "metadata": {},
     "output_type": "execute_result"
    }
   ],
   "source": [
    "osmr"
   ]
  },
  {
   "cell_type": "code",
   "execution_count": 33,
   "metadata": {},
   "outputs": [],
   "source": [
    "def calc_model_lognorms(model):\n",
    "    try:\n",
    "        lognorms, min_svs, Qs = [], [], []\n",
    "\n",
    "        for W in tqdm(iter_pytorch_layers(model)):\n",
    "            M, N = np.min(W.shape), np.max(W.shape)\n",
    "            Q = N/M\n",
    "            Qs.append(Q)\n",
    "\n",
    "            lognorm = np.log10(np.linalg.norm(W))\n",
    "            lognorms.append(lognorm)\n",
    "\n",
    "    except Exception as e:\n",
    "        print(\"skipping ...\")\n",
    "        print(e)\n",
    "        pass\n",
    "    \n",
    "    return lognorms, min_svs, Qs"
   ]
  },
  {
   "cell_type": "code",
   "execution_count": 34,
   "metadata": {},
   "outputs": [],
   "source": [
    "### Quick check the model loads"
   ]
  },
  {
   "cell_type": "code",
   "execution_count": 35,
   "metadata": {},
   "outputs": [
    {
     "data": {
      "application/vnd.jupyter.widget-view+json": {
       "model_id": "49e6a7f28e2d47a49c5f1b7ff7212bbe",
       "version_major": 2,
       "version_minor": 0
      },
      "text/plain": [
       "HBox(children=(IntProgress(value=1, bar_style='info', max=1), HTML(value='')))"
      ]
     },
     "metadata": {},
     "output_type": "display_data"
    },
    {
     "name": "stdout",
     "output_type": "stream",
     "text": [
      "(64, 64)\n",
      "\n"
     ]
    }
   ],
   "source": [
    "model = ptcv_get_model('resnet10', pretrained=True)\n",
    "for W in tqdm(iter_pytorch_layers(model)):\n",
    "    print(W.shape)\n",
    "    break"
   ]
  },
  {
   "cell_type": "code",
   "execution_count": 36,
   "metadata": {},
   "outputs": [
    {
     "data": {
      "text/html": [
       "<div>\n",
       "<style scoped>\n",
       "    .dataframe tbody tr th:only-of-type {\n",
       "        vertical-align: middle;\n",
       "    }\n",
       "\n",
       "    .dataframe tbody tr th {\n",
       "        vertical-align: top;\n",
       "    }\n",
       "\n",
       "    .dataframe thead th {\n",
       "        text-align: right;\n",
       "    }\n",
       "</style>\n",
       "<table border=\"1\" class=\"dataframe\">\n",
       "  <thead>\n",
       "    <tr style=\"text-align: right;\">\n",
       "      <th></th>\n",
       "      <th>model</th>\n",
       "      <th>top1</th>\n",
       "      <th>top5</th>\n",
       "      <th>params</th>\n",
       "      <th>flops</th>\n",
       "      <th>fixedname</th>\n",
       "    </tr>\n",
       "  </thead>\n",
       "  <tbody>\n",
       "    <tr>\n",
       "      <th>0</th>\n",
       "      <td>ResNet-10</td>\n",
       "      <td>37.46</td>\n",
       "      <td>15.85</td>\n",
       "      <td>5,418,792</td>\n",
       "      <td>892.62M</td>\n",
       "      <td>resnet10</td>\n",
       "    </tr>\n",
       "  </tbody>\n",
       "</table>\n",
       "</div>"
      ],
      "text/plain": [
       "       model   top1   top5     params    flops fixedname\n",
       "0  ResNet-10  37.46  15.85  5,418,792  892.62M  resnet10"
      ]
     },
     "execution_count": 36,
     "metadata": {},
     "output_type": "execute_result"
    }
   ],
   "source": [
    "osmr.head(1)"
   ]
  },
  {
   "cell_type": "code",
   "execution_count": 37,
   "metadata": {},
   "outputs": [
    {
     "name": "stdout",
     "output_type": "stream",
     "text": [
      "resnet10\n"
     ]
    },
    {
     "data": {
      "application/vnd.jupyter.widget-view+json": {
       "model_id": "bb35f2e6237c4baa8f96beb427652ff5",
       "version_major": 2,
       "version_minor": 0
      },
      "text/plain": [
       "HBox(children=(IntProgress(value=1, bar_style='info', max=1), HTML(value='')))"
      ]
     },
     "metadata": {},
     "output_type": "display_data"
    },
    {
     "name": "stdout",
     "output_type": "stream",
     "text": [
      "nlayers 13\n",
      "\n",
      "resnet12\n"
     ]
    },
    {
     "data": {
      "application/vnd.jupyter.widget-view+json": {
       "model_id": "0915dfc57269441ab1844aebda2471da",
       "version_major": 2,
       "version_minor": 0
      },
      "text/plain": [
       "HBox(children=(IntProgress(value=1, bar_style='info', max=1), HTML(value='')))"
      ]
     },
     "metadata": {},
     "output_type": "display_data"
    },
    {
     "name": "stdout",
     "output_type": "stream",
     "text": [
      "nlayers 15\n",
      "\n",
      "resnet14\n"
     ]
    },
    {
     "data": {
      "application/vnd.jupyter.widget-view+json": {
       "model_id": "4afc56753eb34c12a9ee8803ac87742f",
       "version_major": 2,
       "version_minor": 0
      },
      "text/plain": [
       "HBox(children=(IntProgress(value=1, bar_style='info', max=1), HTML(value='')))"
      ]
     },
     "metadata": {},
     "output_type": "display_data"
    },
    {
     "name": "stdout",
     "output_type": "stream",
     "text": [
      "nlayers 17\n",
      "\n",
      "resnet16\n"
     ]
    },
    {
     "data": {
      "application/vnd.jupyter.widget-view+json": {
       "model_id": "c4497e72b754409b8ceb38126bc29a9f",
       "version_major": 2,
       "version_minor": 0
      },
      "text/plain": [
       "HBox(children=(IntProgress(value=1, bar_style='info', max=1), HTML(value='')))"
      ]
     },
     "metadata": {},
     "output_type": "display_data"
    },
    {
     "name": "stdout",
     "output_type": "stream",
     "text": [
      "nlayers 19\n",
      "\n",
      "resnet18_wd4\n"
     ]
    },
    {
     "data": {
      "application/vnd.jupyter.widget-view+json": {
       "model_id": "45206a6e838047fc9a8d3d75d759b7cd",
       "version_major": 2,
       "version_minor": 0
      },
      "text/plain": [
       "HBox(children=(IntProgress(value=1, bar_style='info', max=1), HTML(value='')))"
      ]
     },
     "metadata": {},
     "output_type": "display_data"
    },
    {
     "name": "stdout",
     "output_type": "stream",
     "text": [
      "nlayers 21\n",
      "\n",
      "resnet18_wd2\n"
     ]
    },
    {
     "data": {
      "application/vnd.jupyter.widget-view+json": {
       "model_id": "e4f4ce6619e34e8985fba32aaf20ad43",
       "version_major": 2,
       "version_minor": 0
      },
      "text/plain": [
       "HBox(children=(IntProgress(value=1, bar_style='info', max=1), HTML(value='')))"
      ]
     },
     "metadata": {},
     "output_type": "display_data"
    },
    {
     "name": "stdout",
     "output_type": "stream",
     "text": [
      "nlayers 21\n",
      "\n",
      "resnet18_w3d4\n"
     ]
    },
    {
     "data": {
      "application/vnd.jupyter.widget-view+json": {
       "model_id": "2956367f49894fb8810f5b5e6b92989e",
       "version_major": 2,
       "version_minor": 0
      },
      "text/plain": [
       "HBox(children=(IntProgress(value=1, bar_style='info', max=1), HTML(value='')))"
      ]
     },
     "metadata": {},
     "output_type": "display_data"
    },
    {
     "name": "stdout",
     "output_type": "stream",
     "text": [
      "nlayers 21\n",
      "\n",
      "resnet18\n"
     ]
    },
    {
     "data": {
      "application/vnd.jupyter.widget-view+json": {
       "model_id": "7973ae1d3ae64936a9ff2b6468fcf070",
       "version_major": 2,
       "version_minor": 0
      },
      "text/plain": [
       "HBox(children=(IntProgress(value=1, bar_style='info', max=1), HTML(value='')))"
      ]
     },
     "metadata": {},
     "output_type": "display_data"
    },
    {
     "name": "stdout",
     "output_type": "stream",
     "text": [
      "nlayers 21\n",
      "\n",
      "resnet34\n"
     ]
    },
    {
     "data": {
      "application/vnd.jupyter.widget-view+json": {
       "model_id": "1805e72a9e0c474a861e210ed991e109",
       "version_major": 2,
       "version_minor": 0
      },
      "text/plain": [
       "HBox(children=(IntProgress(value=1, bar_style='info', max=1), HTML(value='')))"
      ]
     },
     "metadata": {},
     "output_type": "display_data"
    },
    {
     "name": "stdout",
     "output_type": "stream",
     "text": [
      "nlayers 37\n",
      "\n",
      "resnet50\n"
     ]
    },
    {
     "data": {
      "application/vnd.jupyter.widget-view+json": {
       "model_id": "ba405e146d3f4812b472f86a9cf3f1de",
       "version_major": 2,
       "version_minor": 0
      },
      "text/plain": [
       "HBox(children=(IntProgress(value=1, bar_style='info', max=1), HTML(value='')))"
      ]
     },
     "metadata": {},
     "output_type": "display_data"
    },
    {
     "name": "stdout",
     "output_type": "stream",
     "text": [
      "nlayers 54\n",
      "\n",
      "resnet50b\n"
     ]
    },
    {
     "data": {
      "application/vnd.jupyter.widget-view+json": {
       "model_id": "6b09386b10e34bd8a084ed280310c7ab",
       "version_major": 2,
       "version_minor": 0
      },
      "text/plain": [
       "HBox(children=(IntProgress(value=1, bar_style='info', max=1), HTML(value='')))"
      ]
     },
     "metadata": {},
     "output_type": "display_data"
    },
    {
     "name": "stdout",
     "output_type": "stream",
     "text": [
      "nlayers 54\n",
      "\n",
      "resnet101\n"
     ]
    },
    {
     "data": {
      "application/vnd.jupyter.widget-view+json": {
       "model_id": "fc209dd9a41e4da0b564089e4ba9676d",
       "version_major": 2,
       "version_minor": 0
      },
      "text/plain": [
       "HBox(children=(IntProgress(value=1, bar_style='info', max=1), HTML(value='')))"
      ]
     },
     "metadata": {},
     "output_type": "display_data"
    },
    {
     "name": "stdout",
     "output_type": "stream",
     "text": [
      "nlayers 105\n",
      "\n",
      "resnet101b\n"
     ]
    },
    {
     "data": {
      "application/vnd.jupyter.widget-view+json": {
       "model_id": "366cc529c648436583f4c669bcc16653",
       "version_major": 2,
       "version_minor": 0
      },
      "text/plain": [
       "HBox(children=(IntProgress(value=1, bar_style='info', max=1), HTML(value='')))"
      ]
     },
     "metadata": {},
     "output_type": "display_data"
    },
    {
     "name": "stdout",
     "output_type": "stream",
     "text": [
      "nlayers 105\n",
      "\n",
      "resnet152\n"
     ]
    },
    {
     "data": {
      "application/vnd.jupyter.widget-view+json": {
       "model_id": "c23f2a5911b841f1811f726eb67a2755",
       "version_major": 2,
       "version_minor": 0
      },
      "text/plain": [
       "HBox(children=(IntProgress(value=1, bar_style='info', max=1), HTML(value='')))"
      ]
     },
     "metadata": {},
     "output_type": "display_data"
    },
    {
     "name": "stdout",
     "output_type": "stream",
     "text": [
      "nlayers 156\n",
      "\n",
      "resnet152b\n"
     ]
    },
    {
     "data": {
      "application/vnd.jupyter.widget-view+json": {
       "model_id": "0b0a3494a42e4d3796b81b702fc339cc",
       "version_major": 2,
       "version_minor": 0
      },
      "text/plain": [
       "HBox(children=(IntProgress(value=1, bar_style='info', max=1), HTML(value='')))"
      ]
     },
     "metadata": {},
     "output_type": "display_data"
    },
    {
     "name": "stdout",
     "output_type": "stream",
     "text": [
      "nlayers 156\n",
      "\n",
      "preresnet18\n"
     ]
    },
    {
     "data": {
      "application/vnd.jupyter.widget-view+json": {
       "model_id": "ffbcde5d269042fb97264a99a2960a30",
       "version_major": 2,
       "version_minor": 0
      },
      "text/plain": [
       "HBox(children=(IntProgress(value=1, bar_style='info', max=1), HTML(value='')))"
      ]
     },
     "metadata": {},
     "output_type": "display_data"
    },
    {
     "name": "stdout",
     "output_type": "stream",
     "text": [
      "nlayers 21\n",
      "\n",
      "preresnet34\n"
     ]
    },
    {
     "data": {
      "application/vnd.jupyter.widget-view+json": {
       "model_id": "e15319d729034f5b9327f6fcb9de3c6a",
       "version_major": 2,
       "version_minor": 0
      },
      "text/plain": [
       "HBox(children=(IntProgress(value=1, bar_style='info', max=1), HTML(value='')))"
      ]
     },
     "metadata": {},
     "output_type": "display_data"
    },
    {
     "name": "stdout",
     "output_type": "stream",
     "text": [
      "nlayers 37\n",
      "\n",
      "preresnet50\n"
     ]
    },
    {
     "data": {
      "application/vnd.jupyter.widget-view+json": {
       "model_id": "f05b05227322490592d247604715d316",
       "version_major": 2,
       "version_minor": 0
      },
      "text/plain": [
       "HBox(children=(IntProgress(value=1, bar_style='info', max=1), HTML(value='')))"
      ]
     },
     "metadata": {},
     "output_type": "display_data"
    },
    {
     "name": "stdout",
     "output_type": "stream",
     "text": [
      "nlayers 54\n",
      "\n",
      "preresnet50b\n"
     ]
    },
    {
     "data": {
      "application/vnd.jupyter.widget-view+json": {
       "model_id": "600a1678cc3f4c69982b6a7d472e30f4",
       "version_major": 2,
       "version_minor": 0
      },
      "text/plain": [
       "HBox(children=(IntProgress(value=1, bar_style='info', max=1), HTML(value='')))"
      ]
     },
     "metadata": {},
     "output_type": "display_data"
    },
    {
     "name": "stdout",
     "output_type": "stream",
     "text": [
      "nlayers 54\n",
      "\n",
      "preresnet101\n"
     ]
    },
    {
     "data": {
      "application/vnd.jupyter.widget-view+json": {
       "model_id": "1e8ace4ffe3c47fb9a40e48b893a9e80",
       "version_major": 2,
       "version_minor": 0
      },
      "text/plain": [
       "HBox(children=(IntProgress(value=1, bar_style='info', max=1), HTML(value='')))"
      ]
     },
     "metadata": {},
     "output_type": "display_data"
    },
    {
     "name": "stdout",
     "output_type": "stream",
     "text": [
      "nlayers 105\n",
      "\n",
      "preresnet101b\n"
     ]
    },
    {
     "data": {
      "application/vnd.jupyter.widget-view+json": {
       "model_id": "04513889a93142e6836cc9a8fd552337",
       "version_major": 2,
       "version_minor": 0
      },
      "text/plain": [
       "HBox(children=(IntProgress(value=1, bar_style='info', max=1), HTML(value='')))"
      ]
     },
     "metadata": {},
     "output_type": "display_data"
    },
    {
     "name": "stdout",
     "output_type": "stream",
     "text": [
      "nlayers 105\n",
      "\n",
      "preresnet152\n"
     ]
    },
    {
     "data": {
      "application/vnd.jupyter.widget-view+json": {
       "model_id": "991217c20d9041c7afb405b345ec3119",
       "version_major": 2,
       "version_minor": 0
      },
      "text/plain": [
       "HBox(children=(IntProgress(value=1, bar_style='info', max=1), HTML(value='')))"
      ]
     },
     "metadata": {},
     "output_type": "display_data"
    },
    {
     "name": "stdout",
     "output_type": "stream",
     "text": [
      "nlayers 156\n",
      "\n",
      "preresnet152b\n"
     ]
    },
    {
     "data": {
      "application/vnd.jupyter.widget-view+json": {
       "model_id": "eaec30fac50c4856923e4367eb6bea7e",
       "version_major": 2,
       "version_minor": 0
      },
      "text/plain": [
       "HBox(children=(IntProgress(value=1, bar_style='info', max=1), HTML(value='')))"
      ]
     },
     "metadata": {},
     "output_type": "display_data"
    },
    {
     "name": "stdout",
     "output_type": "stream",
     "text": [
      "nlayers 156\n",
      "\n",
      "preresnet200b\n"
     ]
    },
    {
     "data": {
      "application/vnd.jupyter.widget-view+json": {
       "model_id": "27fd13599c8e4a7c99271b177b9b4f59",
       "version_major": 2,
       "version_minor": 0
      },
      "text/plain": [
       "HBox(children=(IntProgress(value=1, bar_style='info', max=1), HTML(value='')))"
      ]
     },
     "metadata": {},
     "output_type": "display_data"
    },
    {
     "name": "stdout",
     "output_type": "stream",
     "text": [
      "nlayers 204\n",
      "\n",
      "resnext101_32x4d\n"
     ]
    },
    {
     "data": {
      "application/vnd.jupyter.widget-view+json": {
       "model_id": "051a153f0159407898883d32e7e3fdbf",
       "version_major": 2,
       "version_minor": 0
      },
      "text/plain": [
       "HBox(children=(IntProgress(value=1, bar_style='info', max=1), HTML(value='')))"
      ]
     },
     "metadata": {},
     "output_type": "display_data"
    },
    {
     "name": "stdout",
     "output_type": "stream",
     "text": [
      "nlayers 105\n",
      "\n",
      "resnext101_64x4d\n"
     ]
    },
    {
     "data": {
      "application/vnd.jupyter.widget-view+json": {
       "model_id": "bddfdadb730e4ce1be194660a6f41614",
       "version_major": 2,
       "version_minor": 0
      },
      "text/plain": [
       "HBox(children=(IntProgress(value=1, bar_style='info', max=1), HTML(value='')))"
      ]
     },
     "metadata": {},
     "output_type": "display_data"
    },
    {
     "name": "stdout",
     "output_type": "stream",
     "text": [
      "nlayers 105\n",
      "\n",
      "seresnet50\n"
     ]
    },
    {
     "data": {
      "application/vnd.jupyter.widget-view+json": {
       "model_id": "0996eed1520f4141abbed210a68d851c",
       "version_major": 2,
       "version_minor": 0
      },
      "text/plain": [
       "HBox(children=(IntProgress(value=1, bar_style='info', max=1), HTML(value='')))"
      ]
     },
     "metadata": {},
     "output_type": "display_data"
    },
    {
     "name": "stdout",
     "output_type": "stream",
     "text": [
      "nlayers 86\n",
      "\n",
      "seresnet101\n"
     ]
    },
    {
     "data": {
      "application/vnd.jupyter.widget-view+json": {
       "model_id": "6e01f6116bf74248b95e1913f341a87d",
       "version_major": 2,
       "version_minor": 0
      },
      "text/plain": [
       "HBox(children=(IntProgress(value=1, bar_style='info', max=1), HTML(value='')))"
      ]
     },
     "metadata": {},
     "output_type": "display_data"
    },
    {
     "name": "stdout",
     "output_type": "stream",
     "text": [
      "nlayers 171\n",
      "\n",
      "seresnet152\n"
     ]
    },
    {
     "data": {
      "application/vnd.jupyter.widget-view+json": {
       "model_id": "8c4109df17e8417488dd9b59dac146f7",
       "version_major": 2,
       "version_minor": 0
      },
      "text/plain": [
       "HBox(children=(IntProgress(value=1, bar_style='info', max=1), HTML(value='')))"
      ]
     },
     "metadata": {},
     "output_type": "display_data"
    },
    {
     "name": "stdout",
     "output_type": "stream",
     "text": [
      "nlayers 256\n",
      "\n",
      "seresnext50_32x4d\n"
     ]
    },
    {
     "data": {
      "application/vnd.jupyter.widget-view+json": {
       "model_id": "c9579fe7995e418ea664422b1f69eb3d",
       "version_major": 2,
       "version_minor": 0
      },
      "text/plain": [
       "HBox(children=(IntProgress(value=1, bar_style='info', max=1), HTML(value='')))"
      ]
     },
     "metadata": {},
     "output_type": "display_data"
    },
    {
     "name": "stdout",
     "output_type": "stream",
     "text": [
      "nlayers 86\n",
      "\n",
      "seresnext101_32x4d\n"
     ]
    },
    {
     "data": {
      "application/vnd.jupyter.widget-view+json": {
       "model_id": "f63c26375dab4e7288810a0f086f1d6c",
       "version_major": 2,
       "version_minor": 0
      },
      "text/plain": [
       "HBox(children=(IntProgress(value=1, bar_style='info', max=1), HTML(value='')))"
      ]
     },
     "metadata": {},
     "output_type": "display_data"
    },
    {
     "name": "stdout",
     "output_type": "stream",
     "text": [
      "nlayers 171\n",
      "\n",
      "senet154\n"
     ]
    },
    {
     "data": {
      "application/vnd.jupyter.widget-view+json": {
       "model_id": "81868f60c6524deaa8c35580821ec43f",
       "version_major": 2,
       "version_minor": 0
      },
      "text/plain": [
       "HBox(children=(IntProgress(value=1, bar_style='info', max=1), HTML(value='')))"
      ]
     },
     "metadata": {},
     "output_type": "display_data"
    },
    {
     "name": "stdout",
     "output_type": "stream",
     "text": [
      "nlayers 258\n",
      "\n",
      "densenet121\n"
     ]
    },
    {
     "data": {
      "application/vnd.jupyter.widget-view+json": {
       "model_id": "eba9fa8473d64809b26da36b5b736110",
       "version_major": 2,
       "version_minor": 0
      },
      "text/plain": [
       "HBox(children=(IntProgress(value=1, bar_style='info', max=1), HTML(value='')))"
      ]
     },
     "metadata": {},
     "output_type": "display_data"
    },
    {
     "name": "stdout",
     "output_type": "stream",
     "text": [
      "nlayers 121\n",
      "\n",
      "densenet161\n"
     ]
    },
    {
     "data": {
      "application/vnd.jupyter.widget-view+json": {
       "model_id": "e324a49b7f7342d18481e3efe185ad75",
       "version_major": 2,
       "version_minor": 0
      },
      "text/plain": [
       "HBox(children=(IntProgress(value=1, bar_style='info', max=1), HTML(value='')))"
      ]
     },
     "metadata": {},
     "output_type": "display_data"
    },
    {
     "name": "stdout",
     "output_type": "stream",
     "text": [
      "nlayers 161\n",
      "\n",
      "densenet169\n"
     ]
    },
    {
     "data": {
      "application/vnd.jupyter.widget-view+json": {
       "model_id": "ebbe0389ec98496f8f0ce534a0ff1a2c",
       "version_major": 2,
       "version_minor": 0
      },
      "text/plain": [
       "HBox(children=(IntProgress(value=1, bar_style='info', max=1), HTML(value='')))"
      ]
     },
     "metadata": {},
     "output_type": "display_data"
    },
    {
     "name": "stdout",
     "output_type": "stream",
     "text": [
      "nlayers 169\n",
      "\n",
      "densenet201\n"
     ]
    },
    {
     "data": {
      "application/vnd.jupyter.widget-view+json": {
       "model_id": "280a970ae35143c28f4f78a571e4afe2",
       "version_major": 2,
       "version_minor": 0
      },
      "text/plain": [
       "HBox(children=(IntProgress(value=1, bar_style='info', max=1), HTML(value='')))"
      ]
     },
     "metadata": {},
     "output_type": "display_data"
    },
    {
     "name": "stdout",
     "output_type": "stream",
     "text": [
      "nlayers 201\n",
      "\n",
      "condensenet74_c4_g4\n"
     ]
    },
    {
     "data": {
      "application/vnd.jupyter.widget-view+json": {
       "model_id": "91e1bf22e4ab42fc9aabe2a599e17ddc",
       "version_major": 2,
       "version_minor": 0
      },
      "text/plain": [
       "HBox(children=(IntProgress(value=1, bar_style='info', max=1), HTML(value='')))"
      ]
     },
     "metadata": {},
     "output_type": "display_data"
    },
    {
     "name": "stdout",
     "output_type": "stream",
     "text": [
      "nlayers 74\n",
      "\n",
      "condensenet74_c8_g8\n"
     ]
    },
    {
     "data": {
      "application/vnd.jupyter.widget-view+json": {
       "model_id": "4e9d7d3cb0174b7e8c9d3be12aceae7c",
       "version_major": 2,
       "version_minor": 0
      },
      "text/plain": [
       "HBox(children=(IntProgress(value=1, bar_style='info', max=1), HTML(value='')))"
      ]
     },
     "metadata": {},
     "output_type": "display_data"
    },
    {
     "name": "stdout",
     "output_type": "stream",
     "text": [
      "nlayers 74\n",
      "\n",
      "dpn68\n"
     ]
    },
    {
     "data": {
      "application/vnd.jupyter.widget-view+json": {
       "model_id": "d104926b4f88407da330b85a42134476",
       "version_major": 2,
       "version_minor": 0
      },
      "text/plain": [
       "HBox(children=(IntProgress(value=1, bar_style='info', max=1), HTML(value='')))"
      ]
     },
     "metadata": {},
     "output_type": "display_data"
    },
    {
     "name": "stdout",
     "output_type": "stream",
     "text": [
      "nlayers 72\n",
      "\n",
      "dpn98\n"
     ]
    },
    {
     "data": {
      "application/vnd.jupyter.widget-view+json": {
       "model_id": "2fcbcccc297845b9a9d2f347b10bdccf",
       "version_major": 2,
       "version_minor": 0
      },
      "text/plain": [
       "HBox(children=(IntProgress(value=1, bar_style='info', max=1), HTML(value='')))"
      ]
     },
     "metadata": {},
     "output_type": "display_data"
    },
    {
     "name": "stdout",
     "output_type": "stream",
     "text": [
      "nlayers 102\n",
      "\n",
      "dpn131\n"
     ]
    },
    {
     "data": {
      "application/vnd.jupyter.widget-view+json": {
       "model_id": "a26453b07e7941aaa89350e36dd11935",
       "version_major": 2,
       "version_minor": 0
      },
      "text/plain": [
       "HBox(children=(IntProgress(value=1, bar_style='info', max=1), HTML(value='')))"
      ]
     },
     "metadata": {},
     "output_type": "display_data"
    },
    {
     "name": "stdout",
     "output_type": "stream",
     "text": [
      "nlayers 135\n",
      "\n",
      "darknet_tiny\n"
     ]
    },
    {
     "data": {
      "application/vnd.jupyter.widget-view+json": {
       "model_id": "ce9a834f14e94be492f751da86d02893",
       "version_major": 2,
       "version_minor": 0
      },
      "text/plain": [
       "HBox(children=(IntProgress(value=1, bar_style='info', max=1), HTML(value='')))"
      ]
     },
     "metadata": {},
     "output_type": "display_data"
    },
    {
     "name": "stdout",
     "output_type": "stream",
     "text": [
      "nlayers 16\n",
      "\n",
      "darknet_ref\n",
      "Pretrained model for darknet_ref is not available.\n",
      "squeezenet_v1_0\n"
     ]
    },
    {
     "data": {
      "application/vnd.jupyter.widget-view+json": {
       "model_id": "356dcbe0fc6f450c95ade90f3c26c6ef",
       "version_major": 2,
       "version_minor": 0
      },
      "text/plain": [
       "HBox(children=(IntProgress(value=1, bar_style='info', max=1), HTML(value='')))"
      ]
     },
     "metadata": {},
     "output_type": "display_data"
    },
    {
     "name": "stdout",
     "output_type": "stream",
     "text": [
      "nlayers 26\n",
      "\n",
      "squeezenet_v1_1\n"
     ]
    },
    {
     "data": {
      "application/vnd.jupyter.widget-view+json": {
       "model_id": "8979b4699bf04783b9682298ae99c3b0",
       "version_major": 2,
       "version_minor": 0
      },
      "text/plain": [
       "HBox(children=(IntProgress(value=1, bar_style='info', max=1), HTML(value='')))"
      ]
     },
     "metadata": {},
     "output_type": "display_data"
    },
    {
     "name": "stdout",
     "output_type": "stream",
     "text": [
      "nlayers 26\n",
      "\n",
      "shufflenetv2_wd2\n"
     ]
    },
    {
     "data": {
      "application/vnd.jupyter.widget-view+json": {
       "model_id": "e9ae4cd6d1734c5ab41b23c108b54eb8",
       "version_major": 2,
       "version_minor": 0
      },
      "text/plain": [
       "HBox(children=(IntProgress(value=1, bar_style='info', max=1), HTML(value='')))"
      ]
     },
     "metadata": {},
     "output_type": "display_data"
    },
    {
     "name": "stdout",
     "output_type": "stream",
     "text": [
      "nlayers 57\n",
      "\n",
      "shufflenetv2_w1\n"
     ]
    },
    {
     "data": {
      "application/vnd.jupyter.widget-view+json": {
       "model_id": "cc1ca04e207a470c97ac41cdba6a15be",
       "version_major": 2,
       "version_minor": 0
      },
      "text/plain": [
       "HBox(children=(IntProgress(value=1, bar_style='info', max=1), HTML(value='')))"
      ]
     },
     "metadata": {},
     "output_type": "display_data"
    },
    {
     "name": "stdout",
     "output_type": "stream",
     "text": [
      "nlayers 57\n",
      "\n",
      "shufflenetv2_w3d2\n",
      "Pretrained model for shufflenetv2_w3d2 is not available.\n",
      "menet108_8x1_g3\n"
     ]
    },
    {
     "data": {
      "application/vnd.jupyter.widget-view+json": {
       "model_id": "46736437eecb4c4785f4c658ede9233d",
       "version_major": 2,
       "version_minor": 0
      },
      "text/plain": [
       "HBox(children=(IntProgress(value=1, bar_style='info', max=1), HTML(value='')))"
      ]
     },
     "metadata": {},
     "output_type": "display_data"
    },
    {
     "name": "stdout",
     "output_type": "stream",
     "text": [
      "nlayers 98\n",
      "\n",
      "menet128_8x1_g4\n"
     ]
    },
    {
     "data": {
      "application/vnd.jupyter.widget-view+json": {
       "model_id": "1ec4c10e404d4256a0b65ca6cce439ce",
       "version_major": 2,
       "version_minor": 0
      },
      "text/plain": [
       "HBox(children=(IntProgress(value=1, bar_style='info', max=1), HTML(value='')))"
      ]
     },
     "metadata": {},
     "output_type": "display_data"
    },
    {
     "name": "stdout",
     "output_type": "stream",
     "text": [
      "nlayers 98\n",
      "\n",
      "menet228_12x1_g3\n"
     ]
    },
    {
     "data": {
      "application/vnd.jupyter.widget-view+json": {
       "model_id": "fe75badc9d454f4bbffa15d5c3efbbe7",
       "version_major": 2,
       "version_minor": 0
      },
      "text/plain": [
       "HBox(children=(IntProgress(value=1, bar_style='info', max=1), HTML(value='')))"
      ]
     },
     "metadata": {},
     "output_type": "display_data"
    },
    {
     "name": "stdout",
     "output_type": "stream",
     "text": [
      "nlayers 98\n",
      "\n",
      "menet256_12x1_g4\n"
     ]
    },
    {
     "data": {
      "application/vnd.jupyter.widget-view+json": {
       "model_id": "6a99bcdd89e5446295d877c1ee7777d0",
       "version_major": 2,
       "version_minor": 0
      },
      "text/plain": [
       "HBox(children=(IntProgress(value=1, bar_style='info', max=1), HTML(value='')))"
      ]
     },
     "metadata": {},
     "output_type": "display_data"
    },
    {
     "name": "stdout",
     "output_type": "stream",
     "text": [
      "nlayers 98\n",
      "\n",
      "menet348_12x1_g3\n"
     ]
    },
    {
     "data": {
      "application/vnd.jupyter.widget-view+json": {
       "model_id": "82986fb020ff4c23baac2ac14a045f99",
       "version_major": 2,
       "version_minor": 0
      },
      "text/plain": [
       "HBox(children=(IntProgress(value=1, bar_style='info', max=1), HTML(value='')))"
      ]
     },
     "metadata": {},
     "output_type": "display_data"
    },
    {
     "name": "stdout",
     "output_type": "stream",
     "text": [
      "nlayers 98\n",
      "\n",
      "menet352_12x1_g8\n"
     ]
    },
    {
     "data": {
      "application/vnd.jupyter.widget-view+json": {
       "model_id": "62e65a07932e4b96a59c4728c953bd2c",
       "version_major": 2,
       "version_minor": 0
      },
      "text/plain": [
       "HBox(children=(IntProgress(value=1, bar_style='info', max=1), HTML(value='')))"
      ]
     },
     "metadata": {},
     "output_type": "display_data"
    },
    {
     "name": "stdout",
     "output_type": "stream",
     "text": [
      "nlayers 98\n",
      "\n",
      "menet456_24x1_g3\n"
     ]
    },
    {
     "data": {
      "application/vnd.jupyter.widget-view+json": {
       "model_id": "f8d5fcff96e347e681d00c374cf84ac1",
       "version_major": 2,
       "version_minor": 0
      },
      "text/plain": [
       "HBox(children=(IntProgress(value=1, bar_style='info', max=1), HTML(value='')))"
      ]
     },
     "metadata": {},
     "output_type": "display_data"
    },
    {
     "name": "stdout",
     "output_type": "stream",
     "text": [
      "nlayers 98\n",
      "\n",
      "mobilenet_wd4\n"
     ]
    },
    {
     "data": {
      "application/vnd.jupyter.widget-view+json": {
       "model_id": "c4a5a43397a44e1d8c1933d729666438",
       "version_major": 2,
       "version_minor": 0
      },
      "text/plain": [
       "HBox(children=(IntProgress(value=1, bar_style='info', max=1), HTML(value='')))"
      ]
     },
     "metadata": {},
     "output_type": "display_data"
    },
    {
     "name": "stdout",
     "output_type": "stream",
     "text": [
      "nlayers 28\n",
      "\n",
      "mobilenet_wd2\n"
     ]
    },
    {
     "data": {
      "application/vnd.jupyter.widget-view+json": {
       "model_id": "07f04dcda92c4a40bfc74ca6f1bcc232",
       "version_major": 2,
       "version_minor": 0
      },
      "text/plain": [
       "HBox(children=(IntProgress(value=1, bar_style='info', max=1), HTML(value='')))"
      ]
     },
     "metadata": {},
     "output_type": "display_data"
    },
    {
     "name": "stdout",
     "output_type": "stream",
     "text": [
      "nlayers 28\n",
      "\n",
      "mobilenet_w3d4\n"
     ]
    },
    {
     "data": {
      "application/vnd.jupyter.widget-view+json": {
       "model_id": "0fa8587b47af41838abeb64bdce29ae8",
       "version_major": 2,
       "version_minor": 0
      },
      "text/plain": [
       "HBox(children=(IntProgress(value=1, bar_style='info', max=1), HTML(value='')))"
      ]
     },
     "metadata": {},
     "output_type": "display_data"
    },
    {
     "name": "stdout",
     "output_type": "stream",
     "text": [
      "nlayers 28\n",
      "\n",
      "mobilenet_w1\n"
     ]
    },
    {
     "data": {
      "application/vnd.jupyter.widget-view+json": {
       "model_id": "d03ee5a606c54ef599db4c09875b0cb8",
       "version_major": 2,
       "version_minor": 0
      },
      "text/plain": [
       "HBox(children=(IntProgress(value=1, bar_style='info', max=1), HTML(value='')))"
      ]
     },
     "metadata": {},
     "output_type": "display_data"
    },
    {
     "name": "stdout",
     "output_type": "stream",
     "text": [
      "nlayers 28\n",
      "\n",
      "fdmobilenet_wd4\n"
     ]
    },
    {
     "data": {
      "application/vnd.jupyter.widget-view+json": {
       "model_id": "c9d9ec15a26e4520adf7f11017566a7b",
       "version_major": 2,
       "version_minor": 0
      },
      "text/plain": [
       "HBox(children=(IntProgress(value=1, bar_style='info', max=1), HTML(value='')))"
      ]
     },
     "metadata": {},
     "output_type": "display_data"
    },
    {
     "name": "stdout",
     "output_type": "stream",
     "text": [
      "nlayers 24\n",
      "\n",
      "fdmobilenet_wd2\n"
     ]
    },
    {
     "data": {
      "application/vnd.jupyter.widget-view+json": {
       "model_id": "640e02d5952f4ac9a8d52ddc6f2e499b",
       "version_major": 2,
       "version_minor": 0
      },
      "text/plain": [
       "HBox(children=(IntProgress(value=1, bar_style='info', max=1), HTML(value='')))"
      ]
     },
     "metadata": {},
     "output_type": "display_data"
    },
    {
     "name": "stdout",
     "output_type": "stream",
     "text": [
      "nlayers 24\n",
      "\n",
      "fdmobilenet_w1\n"
     ]
    },
    {
     "data": {
      "application/vnd.jupyter.widget-view+json": {
       "model_id": "f8eba824939e4715ae567c33942dd8ff",
       "version_major": 2,
       "version_minor": 0
      },
      "text/plain": [
       "HBox(children=(IntProgress(value=1, bar_style='info', max=1), HTML(value='')))"
      ]
     },
     "metadata": {},
     "output_type": "display_data"
    },
    {
     "name": "stdout",
     "output_type": "stream",
     "text": [
      "nlayers 24\n",
      "\n",
      "mobilenetv2_wd4\n"
     ]
    },
    {
     "data": {
      "application/vnd.jupyter.widget-view+json": {
       "model_id": "9cdf7d14536442e88e96d0f7a3804a70",
       "version_major": 2,
       "version_minor": 0
      },
      "text/plain": [
       "HBox(children=(IntProgress(value=1, bar_style='info', max=1), HTML(value='')))"
      ]
     },
     "metadata": {},
     "output_type": "display_data"
    },
    {
     "name": "stdout",
     "output_type": "stream",
     "text": [
      "nlayers 54\n",
      "\n",
      "mobilenetv2_wd2\n"
     ]
    },
    {
     "data": {
      "application/vnd.jupyter.widget-view+json": {
       "model_id": "417c513ac45e4100aad62aba3c5cc5c5",
       "version_major": 2,
       "version_minor": 0
      },
      "text/plain": [
       "HBox(children=(IntProgress(value=1, bar_style='info', max=1), HTML(value='')))"
      ]
     },
     "metadata": {},
     "output_type": "display_data"
    },
    {
     "name": "stdout",
     "output_type": "stream",
     "text": [
      "nlayers 54\n",
      "\n",
      "mobilenetv2_w3d4\n"
     ]
    },
    {
     "data": {
      "application/vnd.jupyter.widget-view+json": {
       "model_id": "036dbebd5a89438d82cad7bd96d633c8",
       "version_major": 2,
       "version_minor": 0
      },
      "text/plain": [
       "HBox(children=(IntProgress(value=1, bar_style='info', max=1), HTML(value='')))"
      ]
     },
     "metadata": {},
     "output_type": "display_data"
    },
    {
     "name": "stdout",
     "output_type": "stream",
     "text": [
      "nlayers 54\n",
      "\n",
      "mobilenetv2_w1\n"
     ]
    },
    {
     "data": {
      "application/vnd.jupyter.widget-view+json": {
       "model_id": "3327457174bd424c95084dbe95a2f942",
       "version_major": 2,
       "version_minor": 0
      },
      "text/plain": [
       "HBox(children=(IntProgress(value=1, bar_style='info', max=1), HTML(value='')))"
      ]
     },
     "metadata": {},
     "output_type": "display_data"
    },
    {
     "name": "stdout",
     "output_type": "stream",
     "text": [
      "nlayers 54\n",
      "\n",
      "snetamobile\n",
      "Unsupported model: snetamobile\n"
     ]
    }
   ],
   "source": [
    "lognorms4model = {}\n",
    "for fixedname in osmr['fixedname'].values:\n",
    "    \n",
    "    print(fixedname)\n",
    "    try:\n",
    "        model = ptcv_get_model(fixedname, pretrained=True)\n",
    "        lognorms, min_svs, Qs= calc_model_lognorms(model)\n",
    "        lognorms4model[fixedname]=lognorms\n",
    "    except Exception as e:\n",
    "        print(e)"
   ]
  },
  {
   "cell_type": "code",
   "execution_count": 69,
   "metadata": {
    "ExecuteTime": {
     "end_time": "2018-10-16T00:27:41.987680Z",
     "start_time": "2018-10-16T00:27:41.727075Z"
    }
   },
   "outputs": [],
   "source": [
    "\n",
    "\n",
    "def plot_top_errors(title, fixednames=None, tops=[\"top1\"]):\n",
    "    \n",
    "    matplotlib.rcParams.update({'font.size': 16})\n",
    "    plt.rcParams['figure.figsize'] = [10,10]\n",
    "\n",
    "\n",
    "    for top in tops:\n",
    "        \n",
    "        if fixednames is None:\n",
    "            fixednames = []\n",
    "            startstr = title.lower()\n",
    "\n",
    "            for fname in lognorms4model:\n",
    "                if fname.startswith(startstr):\n",
    "                    fixednames.append(fname)\n",
    "        \n",
    "        for fname in fixednames:\n",
    "                try:\n",
    "                    avga = np.average(lognorms4model[fname])\n",
    "                    top1 = osmr[osmr['fixedname']==fname][top].values[0]\n",
    "                    plt.scatter(top1, avga, label=fname)\n",
    "\n",
    "                    table_line = \"& {} & {} & \\\\\\\\\".format(fname.replace(\"_\",\"\\_\"), top1)\n",
    "                    print(table_line)\n",
    "                except:\n",
    "                    pass\n",
    "\n",
    "\n",
    "        plt.ylabel(\"{} errors\".format(top))\n",
    "        plt.title(r\"Top 1 Test Error vs  Average Log Norm $\\langle\\log\\Vert W\\Vert\\rangle$\"+\"\\n Pretrained {} Models\".format(title))\n",
    "        plt.ylabel(r'$\\langle\\log\\Vert W\\Vert\\rangle$')\n",
    "        plt.xlabel(\"{} errors\".format(top))\n",
    "        plt.gca().invert_yaxis()\n",
    "        plt.legend()\n",
    "        figname = \"img/{}_{}-lognorms.png\".format(title,top)\n",
    "        plt.savefig(figname)\n",
    "        print(\"saved \"+figname)\n",
    "        \n",
    "        plt.show()\n"
   ]
  },
  {
   "cell_type": "code",
   "execution_count": 70,
   "metadata": {},
   "outputs": [
    {
     "name": "stdout",
     "output_type": "stream",
     "text": [
      "& menet108\\_8x1\\_g3 & 43.92 & \\\\\n",
      "& menet128\\_8x1\\_g4 & 43.95 & \\\\\n",
      "& menet228\\_12x1\\_g3 & 33.57 & \\\\\n",
      "& menet256\\_12x1\\_g4 & 33.41 & \\\\\n",
      "& menet348\\_12x1\\_g3 & 30.1 & \\\\\n",
      "& menet352\\_12x1\\_g8 & 33.31 & \\\\\n",
      "& menet456\\_24x1\\_g3 & 28.4 & \\\\\n",
      "saved img/MeNet_top1-lognorms.png\n"
     ]
    },
    {
     "data": {
      "image/png": "[encoded data removed]",
      "text/plain": [
       "<Figure size 720x720 with 1 Axes>"
      ]
     },
     "metadata": {},
     "output_type": "display_data"
    }
   ],
   "source": [
    "plot_top_errors(title=\"MeNet\")"
   ]
  },
  {
   "cell_type": "markdown",
   "metadata": {},
   "source": [
    "### ResNet"
   ]
  },
  {
   "cell_type": "code",
   "execution_count": 71,
   "metadata": {},
   "outputs": [
    {
     "name": "stdout",
     "output_type": "stream",
     "text": [
      "& resnet10 & 37.46 & \\\\\n",
      "& resnet12 & 36.18 & \\\\\n",
      "& resnet14 & 33.17 & \\\\\n",
      "& resnet16 & 30.9 & \\\\\n",
      "& resnet18\\_wd4 & 49.5 & \\\\\n",
      "& resnet18\\_wd2 & 37.04 & \\\\\n",
      "& resnet18\\_w3d4 & 33.61 & \\\\\n",
      "& resnet18 & 29.52 & \\\\\n",
      "& resnet34 & 25.66 & \\\\\n",
      "& resnet50 & 23.79 & \\\\\n",
      "& resnet50b & 23.05 & \\\\\n",
      "& resnet101 & 21.9 & \\\\\n",
      "& resnet101b & 21.45 & \\\\\n",
      "& resnet152 & 21.26 & \\\\\n",
      "& resnet152b & 20.74 & \\\\\n",
      "saved img/ResNet_top1-lognorms.png\n"
     ]
    },
    {
     "data": {
      "image/png": "[encoded data removed]",
      "text/plain": [
       "<Figure size 720x720 with 1 Axes>"
      ]
     },
     "metadata": {},
     "output_type": "display_data"
    }
   ],
   "source": [
    "plt.rcParams['figure.figsize'] = [10,10]\n",
    "plot_top_errors(\"ResNet\")"
   ]
  },
  {
   "cell_type": "markdown",
   "metadata": {},
   "source": [
    "### DPN"
   ]
  },
  {
   "cell_type": "code",
   "execution_count": 72,
   "metadata": {},
   "outputs": [
    {
     "name": "stdout",
     "output_type": "stream",
     "text": [
      "& dpn68 & 24.17 & \\\\\n",
      "& dpn98 & 20.81 & \\\\\n",
      "& dpn131 & 20.54 & \\\\\n",
      "saved img/DPN_top1-lognorms.png\n"
     ]
    },
    {
     "data": {
      "image/png": "[encoded data removed]",
      "text/plain": [
       "<Figure size 720x720 with 1 Axes>"
      ]
     },
     "metadata": {},
     "output_type": "display_data"
    }
   ],
   "source": [
    "plot_top_errors(\"DPN\")"
   ]
  },
  {
   "cell_type": "markdown",
   "metadata": {},
   "source": [
    "### DenseNet"
   ]
  },
  {
   "cell_type": "code",
   "execution_count": 73,
   "metadata": {},
   "outputs": [
    {
     "name": "stdout",
     "output_type": "stream",
     "text": [
      "& densenet121 & 25.57 & \\\\\n",
      "& densenet161 & 22.86 & \\\\\n",
      "& densenet169 & 24.4 & \\\\\n",
      "& densenet201 & 23.1 & \\\\\n",
      "saved img/DenseNet_top1-lognorms.png\n"
     ]
    },
    {
     "data": {
      "image/png": "[encoded data removed]",
      "text/plain": [
       "<Figure size 720x720 with 1 Axes>"
      ]
     },
     "metadata": {},
     "output_type": "display_data"
    }
   ],
   "source": [
    "plot_top_errors(\"DenseNet\")\n"
   ]
  },
  {
   "cell_type": "markdown",
   "metadata": {},
   "source": [
    "### SeResNet"
   ]
  },
  {
   "cell_type": "code",
   "execution_count": 74,
   "metadata": {},
   "outputs": [
    {
     "name": "stdout",
     "output_type": "stream",
     "text": [
      "& seresnet50 & 22.47 & \\\\\n",
      "& seresnet101 & 21.88 & \\\\\n",
      "& seresnet152 & 21.48 & \\\\\n",
      "saved img/SeResNet_top1-lognorms.png\n"
     ]
    },
    {
     "data": {
      "image/png": "[encoded data removed]",
      "text/plain": [
       "<Figure size 720x720 with 1 Axes>"
      ]
     },
     "metadata": {},
     "output_type": "display_data"
    }
   ],
   "source": [
    "plot_top_errors(\"SeResNet\")"
   ]
  },
  {
   "cell_type": "markdown",
   "metadata": {},
   "source": [
    "### SeResNeXt"
   ]
  },
  {
   "cell_type": "code",
   "execution_count": 75,
   "metadata": {},
   "outputs": [
    {
     "name": "stdout",
     "output_type": "stream",
     "text": [
      "& seresnext50\\_32x4d & 21.0 & \\\\\n",
      "& seresnext101\\_32x4d & 19.96 & \\\\\n",
      "saved img/SeResNeXt_top1-lognorms.png\n"
     ]
    },
    {
     "data": {
      "image/png": "[encoded data removed]",
      "text/plain": [
       "<Figure size 720x720 with 1 Axes>"
      ]
     },
     "metadata": {},
     "output_type": "display_data"
    }
   ],
   "source": [
    "plot_top_errors(\"SeResNeXt\")"
   ]
  },
  {
   "cell_type": "code",
   "execution_count": null,
   "metadata": {},
   "outputs": [],
   "source": []
  },
  {
   "cell_type": "code",
   "execution_count": 76,
   "metadata": {},
   "outputs": [
    {
     "name": "stdout",
     "output_type": "stream",
     "text": [
      "& shufflenetv2\\_wd2 & 41.48 & \\\\\n",
      "& shufflenetv2\\_w1 & 34.39 & \\\\\n",
      "saved img/ShuffleNet_top1-lognorms.png\n"
     ]
    },
    {
     "data": {
      "image/png": "[encoded data removed]",
      "text/plain": [
       "<Figure size 720x720 with 1 Axes>"
      ]
     },
     "metadata": {},
     "output_type": "display_data"
    }
   ],
   "source": [
    "plot_top_errors(\"ShuffleNet\")"
   ]
  },
  {
   "cell_type": "markdown",
   "metadata": {},
   "source": []
  },
  {
   "cell_type": "markdown",
   "metadata": {},
   "source": [
    "## Counterexamples\n",
    "\n",
    "- All 3 MobileNet models, which we may be interpreting incorrectly\n",
    "\n",
    "- CondenseNet\n",
    "\n",
    "- SqueezeNet, which different from the Pytorch defaults *(the numbers may be off)"
   ]
  },
  {
   "cell_type": "code",
   "execution_count": 77,
   "metadata": {},
   "outputs": [
    {
     "name": "stdout",
     "output_type": "stream",
     "text": [
      "& mobilenet\\_wd4 & 46.26 & \\\\\n",
      "& mobilenet\\_wd2 & 36.3 & \\\\\n",
      "& mobilenet\\_w3d4 & 33.54 & \\\\\n",
      "& mobilenet\\_w1 & 29.86 & \\\\\n",
      "& mobilenetv2\\_wd4 & 49.72 & \\\\\n",
      "& mobilenetv2\\_wd2 & 36.54 & \\\\\n",
      "& mobilenetv2\\_w3d4 & 31.89 & \\\\\n",
      "& mobilenetv2\\_w1 & 29.31 & \\\\\n",
      "saved img/MobileNet_top1-lognorms.png\n"
     ]
    },
    {
     "data": {
      "image/png": "[encoded data removed]",
      "text/plain": [
       "<Figure size 720x720 with 1 Axes>"
      ]
     },
     "metadata": {},
     "output_type": "display_data"
    }
   ],
   "source": [
    "plot_top_errors(\"MobileNet\")"
   ]
  },
  {
   "cell_type": "code",
   "execution_count": 78,
   "metadata": {},
   "outputs": [
    {
     "name": "stdout",
     "output_type": "stream",
     "text": [
      "& fdmobilenet\\_wd4 & 55.77 & \\\\\n",
      "& fdmobilenet\\_wd2 & 43.85 & \\\\\n",
      "& fdmobilenet\\_w1 & 34.7 & \\\\\n",
      "saved img/FDMobileNet_top1-lognorms.png\n"
     ]
    },
    {
     "data": {
      "image/png": "[encoded data removed]",
      "text/plain": [
       "<Figure size 720x720 with 1 Axes>"
      ]
     },
     "metadata": {},
     "output_type": "display_data"
    }
   ],
   "source": [
    "plot_top_errors(\"FDMobileNet\")"
   ]
  },
  {
   "cell_type": "markdown",
   "metadata": {},
   "source": [
    "###  CondenseNet is an outlier"
   ]
  },
  {
   "cell_type": "code",
   "execution_count": 79,
   "metadata": {},
   "outputs": [
    {
     "name": "stdout",
     "output_type": "stream",
     "text": [
      "& condensenet74\\_c4\\_g4 & 26.25 & \\\\\n",
      "& condensenet74\\_c8\\_g8 & 28.93 & \\\\\n",
      "saved img/CondenseNet_top1-lognorms.png\n"
     ]
    },
    {
     "data": {
      "image/png": "[encoded data removed]",
      "text/plain": [
       "<Figure size 720x720 with 1 Axes>"
      ]
     },
     "metadata": {},
     "output_type": "display_data"
    }
   ],
   "source": [
    "plot_top_errors(title=\"CondenseNet\")"
   ]
  },
  {
   "cell_type": "markdown",
   "metadata": {},
   "source": [
    "### ResNeXt"
   ]
  },
  {
   "cell_type": "code",
   "execution_count": 80,
   "metadata": {},
   "outputs": [
    {
     "name": "stdout",
     "output_type": "stream",
     "text": [
      "& resnext101\\_32x4d & 21.81 & \\\\\n",
      "& resnext101\\_64x4d & 21.04 & \\\\\n",
      "saved img/ResNeXt_top1-lognorms.png\n"
     ]
    },
    {
     "data": {
      "image/png": "[encoded data removed]",
      "text/plain": [
       "<Figure size 720x720 with 1 Axes>"
      ]
     },
     "metadata": {},
     "output_type": "display_data"
    }
   ],
   "source": [
    "plot_top_errors(\"ResNeXt\")"
   ]
  },
  {
   "cell_type": "code",
   "execution_count": null,
   "metadata": {},
   "outputs": [],
   "source": []
  },
  {
   "cell_type": "markdown",
   "metadata": {},
   "source": [
    "### Where is Inception ?"
   ]
  },
  {
   "cell_type": "code",
   "execution_count": 81,
   "metadata": {},
   "outputs": [
    {
     "name": "stderr",
     "output_type": "stream",
     "text": [
      "No handles with labels found to put in legend.\n"
     ]
    },
    {
     "name": "stdout",
     "output_type": "stream",
     "text": [
      "saved img/Inception_top1-lognorms.png\n"
     ]
    },
    {
     "data": {
      "image/png": "[encoded data removed]",
      "text/plain": [
       "<Figure size 720x720 with 1 Axes>"
      ]
     },
     "metadata": {},
     "output_type": "display_data"
    }
   ],
   "source": [
    "plot_top_errors(\"Inception\")"
   ]
  },
  {
   "cell_type": "code",
   "execution_count": null,
   "metadata": {},
   "outputs": [],
   "source": []
  },
  {
   "cell_type": "code",
   "execution_count": null,
   "metadata": {},
   "outputs": [],
   "source": []
  },
  {
   "cell_type": "code",
   "execution_count": null,
   "metadata": {},
   "outputs": [],
   "source": []
  },
  {
   "cell_type": "code",
   "execution_count": null,
   "metadata": {},
   "outputs": [],
   "source": []
  }
 ],
 "metadata": {
  "kernelspec": {
   "display_name": "Python 3",
   "language": "python",
   "name": "python3"
  },
  "language_info": {
   "codemirror_mode": {
    "name": "ipython",
    "version": 3
   },
   "file_extension": ".py",
   "mimetype": "text/x-python",
   "name": "python",
   "nbconvert_exporter": "python",
   "pygments_lexer": "ipython3",
   "version": "3.6.5"
  },
  "widgets": {
   "state": {
    "4b03dcca1bc8453ba4c9b629ec9197b4": {
     "views": [
      {
       "cell_index": 24
      }
     ]
    }
   },
   "version": "1.2.0"
  }
 },
 "nbformat": 4,
 "nbformat_minor": 2
}
