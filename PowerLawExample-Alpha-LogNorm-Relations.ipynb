{
 "cells": [
  {
   "cell_type": "code",
   "execution_count": 7,
   "metadata": {
    "ExecuteTime": {
     "end_time": "2018-11-09T21:53:31.334410Z",
     "start_time": "2018-11-09T21:53:29.413713Z"
    }
   },
   "outputs": [],
   "source": [
    "import numpy as np\n",
    "from tqdm import tqdm_notebook as tqdm\n",
    "\n",
    "import powerlaw\n",
    "\n",
    "import matplotlib\n",
    "import numpy as np\n",
    "import matplotlib.pyplot as plt\n",
    "%matplotlib inline  "
   ]
  },
  {
   "cell_type": "code",
   "execution_count": null,
   "metadata": {},
   "outputs": [],
   "source": []
  },
  {
   "cell_type": "markdown",
   "metadata": {},
   "source": [
    "### Lets find numerically the relation between\n",
    "\n",
    "The Stable Rank (in log units) and the Power Law exponent (we fit) $\\alpha$\n",
    "\n",
    "$$\\dfrac{\\log\\Vert W\\Vert^{2}}{\\log\\lambda_{max}}\\;\\;\\;vs\\;\\;\\alpha$$"
   ]
  },
  {
   "cell_type": "code",
   "execution_count": 11,
   "metadata": {
    "ExecuteTime": {
     "end_time": "2018-11-09T22:54:39.475194Z",
     "start_time": "2018-11-09T22:42:38.351508Z"
    }
   },
   "outputs": [
    {
     "data": {
      "application/vnd.jupyter.widget-view+json": {
       "model_id": "b3f25f43c587484094142b30b5aeb19d",
       "version_major": 2,
       "version_minor": 0
      },
      "text/plain": [
       "HBox(children=(IntProgress(value=0, max=16), HTML(value='')))"
      ]
     },
     "metadata": {},
     "output_type": "display_data"
    },
    {
     "name": "stderr",
     "output_type": "stream",
     "text": [
      "Calculating best minimal value for power law fit\n",
      "/Users/charleshmartin/anaconda3/lib/python3.6/site-packages/powerlaw.py:700: RuntimeWarning: invalid value encountered in true_divide\n",
      "  (Theoretical_CDF * (1 - Theoretical_CDF))\n",
      "Calculating best minimal value for power law fit\n",
      "Calculating best minimal value for power law fit\n",
      "Calculating best minimal value for power law fit\n",
      "Calculating best minimal value for power law fit\n",
      "Calculating best minimal value for power law fit\n",
      "Calculating best minimal value for power law fit\n",
      "Calculating best minimal value for power law fit\n",
      "Calculating best minimal value for power law fit\n",
      "Calculating best minimal value for power law fit\n",
      "Calculating best minimal value for power law fit\n",
      "Calculating best minimal value for power law fit\n"
     ]
    },
    {
     "name": "stdout",
     "output_type": "stream",
     "text": [
      "\n"
     ]
    },
    {
     "name": "stderr",
     "output_type": "stream",
     "text": [
      "Calculating best minimal value for power law fit\n",
      "Calculating best minimal value for power law fit\n",
      "Calculating best minimal value for power law fit\n",
      "Calculating best minimal value for power law fit\n"
     ]
    },
    {
     "data": {
      "application/vnd.jupyter.widget-view+json": {
       "model_id": "d9733f4196824cbb8c6b305fefb63a2d",
       "version_major": 2,
       "version_minor": 0
      },
      "text/plain": [
       "HBox(children=(IntProgress(value=0, max=16), HTML(value='')))"
      ]
     },
     "metadata": {},
     "output_type": "display_data"
    },
    {
     "name": "stderr",
     "output_type": "stream",
     "text": [
      "Calculating best minimal value for power law fit\n",
      "Calculating best minimal value for power law fit\n",
      "Calculating best minimal value for power law fit\n",
      "Calculating best minimal value for power law fit\n",
      "Calculating best minimal value for power law fit\n",
      "Calculating best minimal value for power law fit\n",
      "Calculating best minimal value for power law fit\n",
      "Calculating best minimal value for power law fit\n",
      "Calculating best minimal value for power law fit\n",
      "Calculating best minimal value for power law fit\n",
      "Calculating best minimal value for power law fit\n",
      "Calculating best minimal value for power law fit\n",
      "Calculating best minimal value for power law fit\n",
      "Calculating best minimal value for power law fit\n",
      "Calculating best minimal value for power law fit\n"
     ]
    },
    {
     "name": "stdout",
     "output_type": "stream",
     "text": [
      "\n"
     ]
    },
    {
     "name": "stderr",
     "output_type": "stream",
     "text": [
      "Calculating best minimal value for power law fit\n"
     ]
    },
    {
     "data": {
      "application/vnd.jupyter.widget-view+json": {
       "model_id": "9383bebefaff429aad421e921a9d9211",
       "version_major": 2,
       "version_minor": 0
      },
      "text/plain": [
       "HBox(children=(IntProgress(value=0, max=16), HTML(value='')))"
      ]
     },
     "metadata": {},
     "output_type": "display_data"
    },
    {
     "name": "stderr",
     "output_type": "stream",
     "text": [
      "Calculating best minimal value for power law fit\n",
      "Calculating best minimal value for power law fit\n",
      "Calculating best minimal value for power law fit\n",
      "Calculating best minimal value for power law fit\n",
      "Calculating best minimal value for power law fit\n",
      "Calculating best minimal value for power law fit\n",
      "Calculating best minimal value for power law fit\n",
      "Calculating best minimal value for power law fit\n",
      "Calculating best minimal value for power law fit\n",
      "Calculating best minimal value for power law fit\n",
      "Calculating best minimal value for power law fit\n",
      "Calculating best minimal value for power law fit\n",
      "Calculating best minimal value for power law fit\n",
      "Calculating best minimal value for power law fit\n",
      "Calculating best minimal value for power law fit\n"
     ]
    },
    {
     "name": "stdout",
     "output_type": "stream",
     "text": [
      "\n"
     ]
    },
    {
     "name": "stderr",
     "output_type": "stream",
     "text": [
      "Calculating best minimal value for power law fit\n"
     ]
    },
    {
     "data": {
      "application/vnd.jupyter.widget-view+json": {
       "model_id": "ba738134c032484684e4b62b49d3f185",
       "version_major": 2,
       "version_minor": 0
      },
      "text/plain": [
       "HBox(children=(IntProgress(value=0, max=16), HTML(value='')))"
      ]
     },
     "metadata": {},
     "output_type": "display_data"
    },
    {
     "name": "stderr",
     "output_type": "stream",
     "text": [
      "/Users/charleshmartin/anaconda3/lib/python3.6/site-packages/numpy/core/numeric.py:501: ComplexWarning: Casting complex values to real discards the imaginary part\n",
      "  return array(a, dtype, copy=False, order=order)\n",
      "Calculating best minimal value for power law fit\n",
      "/Users/charleshmartin/anaconda3/lib/python3.6/site-packages/powerlaw.py:1141: RuntimeWarning: invalid value encountered in log\n",
      "  self.alpha = 1 + (self.n / sum(log(data/self.xmin)))\n",
      "/Users/charleshmartin/anaconda3/lib/python3.6/site-packages/powerlaw.py:1160: RuntimeWarning: invalid value encountered in log\n",
      "  return 1 + len(data)/sum(log(data / (self.xmin)))\n",
      "/Users/charleshmartin/anaconda3/lib/python3.6/site-packages/powerlaw.py:701: RuntimeWarning: overflow encountered in double_scalars\n",
      "  )[1:]\n",
      "/Users/charleshmartin/anaconda3/lib/python3.6/site-packages/powerlaw.py:700: RuntimeWarning: invalid value encountered in true_divide\n",
      "  (Theoretical_CDF * (1 - Theoretical_CDF))\n",
      "Calculating best minimal value for power law fit\n",
      "Calculating best minimal value for power law fit\n",
      "Calculating best minimal value for power law fit\n",
      "Calculating best minimal value for power law fit\n",
      "Calculating best minimal value for power law fit\n",
      "Calculating best minimal value for power law fit\n",
      "Calculating best minimal value for power law fit\n",
      "Calculating best minimal value for power law fit\n",
      "Calculating best minimal value for power law fit\n",
      "Calculating best minimal value for power law fit\n",
      "Calculating best minimal value for power law fit\n",
      "Calculating best minimal value for power law fit\n",
      "/Users/charleshmartin/anaconda3/lib/python3.6/site-packages/powerlaw.py:700: RuntimeWarning: divide by zero encountered in true_divide\n",
      "  (Theoretical_CDF * (1 - Theoretical_CDF))\n",
      "Calculating best minimal value for power law fit\n",
      "Calculating best minimal value for power law fit\n",
      "Calculating best minimal value for power law fit\n"
     ]
    },
    {
     "name": "stdout",
     "output_type": "stream",
     "text": [
      "\n"
     ]
    },
    {
     "data": {
      "application/vnd.jupyter.widget-view+json": {
       "model_id": "995d6f6a71f94c8f844c70492822ca46",
       "version_major": 2,
       "version_minor": 0
      },
      "text/plain": [
       "HBox(children=(IntProgress(value=0, max=16), HTML(value='')))"
      ]
     },
     "metadata": {},
     "output_type": "display_data"
    },
    {
     "name": "stderr",
     "output_type": "stream",
     "text": [
      "/Users/charleshmartin/anaconda3/lib/python3.6/site-packages/numpy/core/numeric.py:501: ComplexWarning: Casting complex values to real discards the imaginary part\n",
      "  return array(a, dtype, copy=False, order=order)\n",
      "Calculating best minimal value for power law fit\n",
      "/Users/charleshmartin/anaconda3/lib/python3.6/site-packages/powerlaw.py:1141: RuntimeWarning: invalid value encountered in log\n",
      "  self.alpha = 1 + (self.n / sum(log(data/self.xmin)))\n",
      "Calculating best minimal value for power law fit\n",
      "Calculating best minimal value for power law fit\n",
      "Calculating best minimal value for power law fit\n",
      "Calculating best minimal value for power law fit\n",
      "Calculating best minimal value for power law fit\n",
      "Calculating best minimal value for power law fit\n",
      "Calculating best minimal value for power law fit\n",
      "Calculating best minimal value for power law fit\n",
      "Calculating best minimal value for power law fit\n",
      "Calculating best minimal value for power law fit\n",
      "Calculating best minimal value for power law fit\n",
      "Calculating best minimal value for power law fit\n",
      "Calculating best minimal value for power law fit\n",
      "Calculating best minimal value for power law fit\n",
      "Calculating best minimal value for power law fit\n"
     ]
    },
    {
     "name": "stdout",
     "output_type": "stream",
     "text": [
      "\n"
     ]
    }
   ],
   "source": [
    "from IPython.core.display import display, HTML\n",
    "html = '<table><tr><th>mu</th><th>alpha</th><th>logNorm</th><th>formula</th><th>ratio</th></tr>'\n",
    "#mus, ratios, alphas =  [], [], []\n",
    "Mresults = {}\n",
    "l_maxs = {}\n",
    "for M in [100, 500, 1000, 5000, 10000]:        \n",
    "    ratios, alphas = [], []\n",
    "    l_maxs[M] = []\n",
    "\n",
    "    #N = (np.random.randint(3)+1)*M\n",
    "    N = M\n",
    "    for mu in tqdm([0.5, 0.75, 1.0, 1.25, 1.5, 1.75, 2.0, 2.25, 2.5, 2.75, 3.0, 3.25, 3.5, 4, 4.5, 5]):\n",
    "    # mu = 5 * np.random.random_sample() + 0.5\n",
    "\n",
    "        #print(\"N, M {}x{} mu: {}\".format(N, M, mu))\n",
    "\n",
    "        W = np.random.pareto(a=mu,size=(N,M))\n",
    "        normW = np.linalg.norm(W, ord='fro')#/np.sqrt(N)\n",
    "\n",
    "        logNorm2 = 2.0*np.log10(normW)\n",
    "\n",
    "        X=np.dot(W.T,W)/N\n",
    "        #print(X.shape)\n",
    "        evals = np.linalg.eigvals(X)\n",
    "\n",
    "        l_max, l_min = np.max(evals), np.min(evals)\n",
    "        fit =  powerlaw.Fit(evals)\n",
    "\n",
    "        a = fit.alpha\n",
    "        alphas.append(a)\n",
    "\n",
    "        ratio = logNorm2/np.log10(l_max)\n",
    "        ratios.append(ratio)\n",
    "\n",
    "        Mresults[M]=[ratios,alphas]\n",
    "        \n",
    "        l_maxs[M].append(l_max)\n",
    "\n",
    "            #print(\"mu= {} 1+mu/2 = {}, alpha= {:2f} logNorm2= {:2f}  formula= {:2f} ratio= {:2f}\"\n",
    "            #      .format(mu,(1+mu/2),fit.alpha, logNorm2, formula, ratio ))\n",
    "\n",
    "    #html += \"<tr><td>{:.3f}</td><td>{:.3f}</td><td>{:.3f}</td><td>{:.3f}</td><td>{:.3f}</td></tr>\".format(mu, fit.alpha, logNorm2, formula, ratio)\n",
    "\n",
    "#html += \"</table>\"\n",
    "#display(HTML(html))"
   ]
  },
  {
   "cell_type": "code",
   "execution_count": 13,
   "metadata": {},
   "outputs": [
    {
     "name": "stderr",
     "output_type": "stream",
     "text": [
      "/Users/charleshmartin/anaconda3/lib/python3.6/site-packages/numpy/core/numeric.py:553: ComplexWarning: Casting complex values to real discards the imaginary part\n",
      "  return array(a, dtype, copy=False, order=order, subok=True)\n"
     ]
    },
    {
     "data": {
      "image/png": "[encoded data removed]",
      "text/plain": [
       "<Figure size 720x720 with 1 Axes>"
      ]
     },
     "metadata": {},
     "output_type": "display_data"
    }
   ],
   "source": [
    "import matplotlib.pyplot as plt\n",
    "plt.rcParams['figure.figsize'] = [10,10]\n",
    "matplotlib.rcParams.update({'font.size': 16})\n",
    "\n",
    "plt.title(r\"$\\log\\Vert W\\Vert_{F}^{2} / \\log\\;\\lambda_{max}$ vs. $\\alpha\\;$\")\n",
    "plt.xlabel(r\"$\\alpha$\")\n",
    "plt.ylabel(r\"$\\log\\Vert W\\Vert_{F}^{2} / \\log\\;\\lambda_{max}$\")\n",
    "\n",
    "colors=['red','green', 'teal']\n",
    "\n",
    "M=100\n",
    "[ratios,alphas] = Mresults[M]\n",
    "plt.scatter(alphas, ratios, label=\"Q=1, M= {}\".format(M), color='blue')\n",
    "\n",
    "M=500\n",
    "[ratios,alphas] = Mresults[M]\n",
    "plt.scatter(alphas, ratios, label=\"Q=1, M= {}\".format(M), color='green')\n",
    "\n",
    "\n",
    "M=1000\n",
    "[ratios,alphas] = Mresults[M]\n",
    "plt.scatter(alphas, ratios, label=\"Q=1, M= {}\".format(M), color='teal')\n",
    "\n",
    "  \n",
    "M=5000\n",
    "[ratios,alphas] = Mresults[M]\n",
    "plt.scatter(alphas, ratios, label=\"Q=1, M= {}\".format(M), color='purple')\n",
    "\n",
    "M=10000\n",
    "[ratios,alphas] = Mresults[M]\n",
    "plt.scatter(alphas, ratios, label=\"Q=1, M= {}\".format(M), color='red')\n",
    "\n",
    "\n",
    "plt.legend()\n",
    "\n",
    "#plt.xlim([1,5])\n",
    "#plt.ylim([1,5])\n",
    "plt.savefig(\"img/Alpha-LogNorm-Relations.png\")"
   ]
  },
  {
   "cell_type": "markdown",
   "metadata": {},
   "source": [
    "### SIMPLE CHECK\n",
    "\n",
    "'Notice:  the norm squared is \n",
    "\n",
    "$$\\Vert W\\Vert^{2}_{F}=Tr[W^TW]=N\\sum_{i=1}^{M}\\lambda_{i}$$\n",
    "\n",
    "\n",
    "code:\n",
    "\n",
    "\n",
    "`np.log10(np.sum(evals)*N), 2*np.log10(np.linalg.norm(W))`\n",
    "            "
   ]
  },
  {
   "cell_type": "code",
   "execution_count": 16,
   "metadata": {},
   "outputs": [
    {
     "name": "stdout",
     "output_type": "stream",
     "text": [
      "N, M 200x200 mu: 1.9\n",
      "logNorm2:  5.925505946309282\n",
      "(200, 200)\n",
      "l max : 3.281745945255099\n",
      "alpha, D:  1.9619953413961713 0.05045714079069155\n",
      "Trace, Norm:  5.925505946309282 5.925505946309282\n"
     ]
    },
    {
     "name": "stderr",
     "output_type": "stream",
     "text": [
      "Calculating best minimal value for power law fit\n",
      "/Users/charleshmartin/anaconda3/lib/python3.6/site-packages/powerlaw.py:700: RuntimeWarning: invalid value encountered in true_divide\n",
      "  (Theoretical_CDF * (1 - Theoretical_CDF))\n"
     ]
    }
   ],
   "source": [
    "M=200   \n",
    "   \n",
    "#N = (np.random.randint(3)+1)*M\n",
    "N = M\n",
    "mu=1.9\n",
    "print(\"N, M {}x{} mu: {}\".format(N, M, mu))\n",
    "\n",
    "W = np.random.pareto(a=mu,size=(N,M))\n",
    "normW = np.linalg.norm(W, ord='fro')#/np.sqrt(N)\n",
    "\n",
    "logNorm2 = 2.0*np.log10(normW)\n",
    "print(\"logNorm2: \", logNorm2)\n",
    "\n",
    "X=np.dot(W.T,W)/N\n",
    "print(X.shape)\n",
    "evals = np.linalg.eigvals(X)\n",
    "\n",
    "l_max, l_min = np.max(evals), np.min(evals)\n",
    "print(\"l max :\", np.log10(l_max))\n",
    "\n",
    "fit =  powerlaw.Fit(evals)\n",
    "a = fit.alpha\n",
    "print(\"alpha, D: \",a, fit.D)\n",
    "\n",
    "print(\"Trace, Norm: \",np.log10(np.sum(evals)*N), 2*np.log10(np.linalg.norm(W)))"
   ]
  },
  {
   "cell_type": "code",
   "execution_count": 17,
   "metadata": {},
   "outputs": [
    {
     "data": {
      "image/png": "[encoded data removed]",
      "text/plain": [
       "<Figure size 360x360 with 1 Axes>"
      ]
     },
     "metadata": {},
     "output_type": "display_data"
    }
   ],
   "source": [
    "plt.rcParams['figure.figsize'] = [5,5]\n",
    "plt.hist(evals,bins=100);"
   ]
  },
  {
   "cell_type": "markdown",
   "metadata": {},
   "source": [
    "\n"
   ]
  },
  {
   "cell_type": "markdown",
   "metadata": {},
   "source": [
    "### Eigenvalue Distributions"
   ]
  },
  {
   "cell_type": "code",
   "execution_count": 46,
   "metadata": {},
   "outputs": [
    {
     "name": "stderr",
     "output_type": "stream",
     "text": [
      "/Users/charleshmartin/anaconda3/lib/python3.6/site-packages/numpy/lib/histograms.py:769: ComplexWarning: Casting complex values to real discards the imaginary part\n",
      "  indices = f_indices.astype(np.intp)\n",
      "/Users/charleshmartin/anaconda3/lib/python3.6/site-packages/matplotlib/transforms.py:841: ComplexWarning: Casting complex values to real discards the imaginary part\n",
      "  points = np.array(args, dtype=float).reshape(2, 2)\n",
      "/Users/charleshmartin/anaconda3/lib/python3.6/site-packages/matplotlib/transforms.py:2059: ComplexWarning: Casting complex values to real discards the imaginary part\n",
      "  x, y = float(x), float(y)\n"
     ]
    },
    {
     "data": {
      "image/png": "[encoded data removed]",
      "text/plain": [
       "<Figure size 720x720 with 1 Axes>"
      ]
     },
     "metadata": {},
     "output_type": "display_data"
    }
   ],
   "source": [
    "plt.rcParams['figure.figsize'] = [10,10]\n",
    "\n",
    "plt.hist(np.log10(l_maxs[10000]),alpha=0.5);\n",
    "plt.hist(np.log10(l_maxs[5000]),alpha=0.5);\n",
    "plt.hist(np.log10(l_maxs[1000]),alpha=0.5);\n",
    "plt.hist(np.log10(l_maxs[500]),alpha=0.5);\n",
    "plt.hist(np.log10(l_maxs[100]),alpha=0.5);"
   ]
  },
  {
   "cell_type": "code",
   "execution_count": 62,
   "metadata": {},
   "outputs": [
    {
     "name": "stderr",
     "output_type": "stream",
     "text": [
      "/Users/charleshmartin/anaconda3/lib/python3.6/site-packages/numpy/core/numeric.py:553: ComplexWarning: Casting complex values to real discards the imaginary part\n",
      "  return array(a, dtype, copy=False, order=order, subok=True)\n"
     ]
    },
    {
     "data": {
      "text/plain": [
       "<matplotlib.legend.Legend at 0x1276cd320>"
      ]
     },
     "execution_count": 62,
     "metadata": {},
     "output_type": "execute_result"
    },
    {
     "data": {
      "image/png": "[encoded data removed]",
      "text/plain": [
       "<Figure size 720x720 with 1 Axes>"
      ]
     },
     "metadata": {},
     "output_type": "display_data"
    }
   ],
   "source": [
    "plt.rcParams['figure.figsize'] = [10,10]\n",
    "\n",
    "mus = np.array([0.5, 0.75, 1.0, 1.25, 1.5, 1.75, 2.0, 2.25, 2.5, 2.75, 3.0, 3.25, 3.5, 4, 4.5, 5])\n",
    "    \n",
    "aas = 1+(mus/2)\n",
    "plt.scatter(1/aas,np.log10(l_maxs[10000]), label=\"10000\")\n",
    "plt.scatter(1/aas,np.log10(l_maxs[5000]), label=\"5000\")\n",
    "plt.scatter(1/aas,np.log10(l_maxs[1000]), label=\"1000\")\n",
    "plt.scatter(1/aas,np.log10(l_maxs[500]), label=\"500\")\n",
    "plt.scatter(1/aas,np.log10(l_maxs[100]), label=\"100\")\n",
    "\n",
    "\n",
    "plt.xlabel(r\"$(1+\\mu/2)^{-1}\\approx\\alpha^{-1}$\")\n",
    "plt.ylabel(r\"$\\log_{10}\\;\\lambda_{max}$\")\n",
    "plt.legend()"
   ]
  },
  {
   "cell_type": "code",
   "execution_count": 79,
   "metadata": {},
   "outputs": [
    {
     "name": "stderr",
     "output_type": "stream",
     "text": [
      "/Users/charleshmartin/anaconda3/lib/python3.6/site-packages/numpy/core/numeric.py:553: ComplexWarning: Casting complex values to real discards the imaginary part\n",
      "  return array(a, dtype, copy=False, order=order, subok=True)\n"
     ]
    },
    {
     "data": {
      "text/plain": [
       "Text(0.5,0,'$\\\\mu$')"
      ]
     },
     "execution_count": 79,
     "metadata": {},
     "output_type": "execute_result"
    },
    {
     "data": {
      "image/png": "[encoded data removed]",
      "text/plain": [
       "<Figure size 720x720 with 1 Axes>"
      ]
     },
     "metadata": {},
     "output_type": "display_data"
    }
   ],
   "source": [
    "for M in 100, 500, 1000, 5000, 10000:\n",
    "    alogL = np.multiply( np.log10(l_maxs[M]), aas) \n",
    "    x = np.arange(len(alogL))\n",
    "    plt.scatter(mus,alogL,label=\"{}\".format(M))\n",
    "plt.legend()\n",
    "plt.ylabel(r\"$\\alpha\\;\\log_{10}\\;\\lambda_{max}$\")\n",
    "plt.xlabel(r\"$\\mu$\")"
   ]
  },
  {
   "cell_type": "markdown",
   "metadata": {},
   "source": [
    "### So for $\\mu>2$, we have $\\lambda_{max}^{\\alpha}$ is approximately constant\n",
    "\n",
    "$$\\alpha\\;\\log_{10}\\;\\lambda_{max}\\approx C$$\n",
    "\n",
    "$$\\log_{10}\\;\\lambda_{max}^{\\alpha}\\approx C$$\n",
    "\n",
    "$$\\lambda_{max}^{\\alpha}\\approx K$$\n",
    "\n",
    "with some M finite size dependence\n",
    "\n",
    "#### OR\n",
    "\n",
    "$$\\log_{10}\\;\\lambda_{max}\\approx \\dfrac{1}{\\alpha}C$$\n"
   ]
  },
  {
   "cell_type": "code",
   "execution_count": 94,
   "metadata": {},
   "outputs": [
    {
     "name": "stdout",
     "output_type": "stream",
     "text": [
      "100 [3.60458825 3.59177432 3.52843148 3.40494625 3.23865471 2.95919269\n",
      " 2.90238236]\n",
      "500 [5.27929282 5.24948832 5.24547965 5.24085374 5.24384847 5.24387198\n",
      " 5.23264774]\n",
      "1000 [5.98012277 5.99985645 6.02735217 6.06519772 6.13491008 6.22132749\n",
      " 6.28623236]\n",
      "5000 [7.63219286+0.j 7.74504404+0.j 7.86229901+0.j 7.98413948+0.j\n",
      " 8.23503785+0.j 8.4864697 +0.j 8.73279735+0.j]\n",
      "10000 [8.34545092+0.j 8.49586591+0.j 8.65163745+0.j 8.81172305+0.j\n",
      " 9.13795931+0.j 9.46418303+0.j 9.78554187+0.j]\n"
     ]
    }
   ],
   "source": [
    "for M in 100, 500, 1000, 5000, 10000:\n",
    "    alogL = np.multiply( np.log10(l_maxs[M]), aas) \n",
    "    print(M, alogL[9:])"
   ]
  },
  {
   "cell_type": "code",
   "execution_count": null,
   "metadata": {},
   "outputs": [],
   "source": []
  }
 ],
 "metadata": {
  "kernelspec": {
   "display_name": "Python 3",
   "language": "python",
   "name": "python3"
  },
  "language_info": {
   "codemirror_mode": {
    "name": "ipython",
    "version": 3
   },
   "file_extension": ".py",
   "mimetype": "text/x-python",
   "name": "python",
   "nbconvert_exporter": "python",
   "pygments_lexer": "ipython3",
   "version": "3.6.5"
  }
 },
 "nbformat": 4,
 "nbformat_minor": 2
}
