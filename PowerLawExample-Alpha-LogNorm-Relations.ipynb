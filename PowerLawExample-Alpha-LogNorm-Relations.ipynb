{
 "cells": [
  {
   "cell_type": "markdown",
   "metadata": {},
   "source": [
    "## Find  the relation between\n",
    "\n",
    "The Stable Rank (in log units) and the Power Law exponent (we fit) $\\alpha$\n",
    "\n",
    "$$\\dfrac{\\log_{10}\\Vert W\\Vert^{2}}{\\log_{10}\\lambda_{max}}\\;\\;\\;vs\\;\\;\\alpha$$\n",
    "\n",
    "We do this by \n",
    "\n",
    "- generating a random ($N\\times M$) Pareto matrix $\\mathbf{W}(\\mu)$ for $\\mu\\in[1,5]$\n",
    "\n",
    "- computing the correlation matrix $\\mathbf{X}$ and its eigenvalues $\\lambda_{i}$\n",
    "\n",
    "- fitting the density  to a power law: $\\rho(\\lambda)\\sim\\dfrac{1}{\\lambda^{\\alpha}}$\n",
    "\n",
    "where $Q=N/M1=1$ and we normalize $\\mathbf{X}$ by $1/N$\n",
    "\n",
    "$$\\mathbf{X}=\\dfrac{1}{N}\\mathbf{W}^{T}\\mathbf{W}$$\n",
    "\n",
    "\n",
    "\n",
    "#### We also examine other normalizations\n",
    "\n",
    "- $\\dfrac{1}{N^{2/\\mu}}\\mathbf{X}$\n",
    "\n",
    "- $\\dfrac{1}{N^{1/\\mu}}\\mathbf{W}$\n",
    "\n",
    "- $\\dfrac{1}{\\max|\\mathbf{W}|}\\mathbf{W}$"
   ]
  },
  {
   "cell_type": "code",
   "execution_count": null,
   "metadata": {
    "ExecuteTime": {
     "end_time": "2018-11-09T21:53:31.334410Z",
     "start_time": "2018-11-09T21:53:29.413713Z"
    }
   },
   "outputs": [],
   "source": [
    "import numpy as np\n",
    "from tqdm import tqdm_notebook as tqdm\n",
    "\n",
    "import powerlaw\n",
    "\n",
    "import matplotlib\n",
    "import numpy as np\n",
    "import matplotlib.pyplot as plt\n",
    "%matplotlib inline  "
   ]
  },
  {
   "cell_type": "code",
   "execution_count": null,
   "metadata": {},
   "outputs": [],
   "source": [
    "mus = [0.5, 0.75, 1.0, 1.25, 1.5, 1.75, 2.0, 2.25, 2.5, 2.75, 3.0, 3.25, 3.5, 4, 4.5, 5]\n",
    "Ms = [100, 500, 1000, 5000]#, 10000]\n",
    "Mcolors=['blue','green', 'teal', 'purple', 'red']\n"
   ]
  },
  {
   "cell_type": "markdown",
   "metadata": {},
   "source": [
    "#### also create table for paper here"
   ]
  },
  {
   "cell_type": "code",
   "execution_count": null,
   "metadata": {
    "ExecuteTime": {
     "end_time": "2018-11-09T22:54:39.475194Z",
     "start_time": "2018-11-09T22:42:38.351508Z"
    }
   },
   "outputs": [],
   "source": [
    "from IPython.core.display import display, HTML\n",
    "html = '<table><tr><th>mu</th><th>alpha</th><th>logNorm</th><th>formula</th><th>ratio</th></tr>'\n",
    "Mresults = {}\n",
    "l_maxs = {}\n",
    "logNorm2s = {}\n",
    "\n",
    "for M in Ms:\n",
    "    ratios, alphas = [], []\n",
    "    l_maxs[M] = []\n",
    "    logNorm2s[M] = []\n",
    "    \n",
    "    N = M\n",
    "    for mu in tqdm(mus):\n",
    "\n",
    "        # NO W NORMALIZATION \n",
    "        W = np.random.pareto(a=mu,size=(N,M))\n",
    "        normW = np.linalg.norm(W)\n",
    "        logNorm2 = 2.0*np.log10(normW)\n",
    "        logNorm2s[M].append(logNorm2)\n",
    "\n",
    "        # STANDARD NORMALIZATION \n",
    "        X=np.dot(W.T,W)/N\n",
    "        evals = np.linalg.eigvals(X)\n",
    "\n",
    "        l_max, l_min = np.max(evals), np.min(evals)\n",
    "        fit =  powerlaw.Fit(evals)\n",
    "\n",
    "        a = fit.alpha\n",
    "        alphas.append(a)\n",
    "\n",
    "        ratio = logNorm2/np.log10(l_max)\n",
    "        ratios.append(ratio)\n",
    "\n",
    "        Mresults[M]=[ratios,alphas]\n",
    "        \n",
    "        l_maxs[M].append(l_max)\n",
    "\n",
    "            #print(\"mu= {} 1+mu/2 = {}, alpha= {:2f} logNorm2= {:2f}  formula= {:2f} ratio= {:2f}\"\n",
    "            #      .format(mu,(1+mu/2),fit.alpha, logNorm2, formula, ratio ))\n",
    "\n",
    "    #html += \"<tr><td>{:.3f}</td><td>{:.3f}</td><td>{:.3f}</td><td>{:.3f}</td><td>{:.3f}</td></tr>\".format(mu, fit.alpha, logNorm2, formula, ratio)\n",
    "\n",
    "#html += \"</table>\"\n",
    "#display(HTML(html))"
   ]
  },
  {
   "cell_type": "code",
   "execution_count": null,
   "metadata": {},
   "outputs": [],
   "source": [
    "import matplotlib.pyplot as plt\n",
    "plt.rcParams['figure.figsize'] = [10,10]\n",
    "matplotlib.rcParams.update({'font.size': 16})\n",
    "\n",
    "plt.title(r\"$\\log_{10}\\Vert W\\Vert_{F}^{2} / \\log_{10}\\;\\lambda_{max}$ vs. $\\alpha\\;$\")\n",
    "plt.xlabel(r\"$\\alpha$\")\n",
    "plt.ylabel(r\"$\\log_{10}\\Vert W\\Vert_{F}^{2} / \\log_{10}\\;\\lambda_{max}$\")\n",
    "\n",
    "for im, M in enumerate(Ms):\n",
    "    [ratios,alphas] = Mresults[M]\n",
    "    plt.scatter(alphas, ratios, label=\"Q=1, M= {}\".format(M), color=Mcolors[im])\n",
    "\n",
    "plt.plot(mus, mus,  color='orange')\n",
    "plt.legend()\n",
    "#plt.savefig(\"img/Alpha-LogNorm-Relations.png\")"
   ]
  },
  {
   "cell_type": "code",
   "execution_count": null,
   "metadata": {},
   "outputs": [],
   "source": [
    "import matplotlib.pyplot as plt\n",
    "plt.rcParams['figure.figsize'] = [10,10]\n",
    "matplotlib.rcParams.update({'font.size': 16})\n",
    "\n",
    "plt.title(r\"$\\log_{10}\\Vert W\\Vert_{F}^{2} / \\log_{10}\\;\\lambda_{max}$ vs. $\\alpha\\;$\")\n",
    "plt.xlabel(r\"$\\alpha$\")\n",
    "plt.ylabel(r\"$\\log_{10}\\Vert W\\Vert_{F}^{2} / \\log_{10}\\;\\lambda_{max}$\")\n",
    "\n",
    "M=1000\n",
    "im=4\n",
    "[ratios,alphas] = Mresults[M]\n",
    "plt.scatter(alphas, ratios, label=\"Q=1, M= {}\".format(M), color=Mcolors[im])\n",
    "\n",
    "plt.plot(mus, mus,  color='orange')\n",
    "plt.legend()\n",
    "#plt.savefig(\"img/Alpha-LogNorm-M1000.png\")"
   ]
  },
  {
   "cell_type": "code",
   "execution_count": null,
   "metadata": {},
   "outputs": [],
   "source": [
    "import matplotlib.pyplot as plt\n",
    "plt.rcParams['figure.figsize'] = [10,10]\n",
    "matplotlib.rcParams.update({'font.size': 16})\n",
    "\n",
    "plt.title(r\"$\\log\\Vert W\\Vert_{F}^{2} $ vs. $\\alpha\\;$\")\n",
    "plt.xlabel(r\"$\\alpha$\")\n",
    "plt.ylabel(r\"$\\log\\Vert W\\Vert_{F}^{2}$\")\n",
    "\n",
    "for im, M in enumerate(Ms):\n",
    "    [ratios,alphas] = Mresults[M]\n",
    "    plt.scatter(alphas, logNorm2s[M], label=\"Q=1, M= {}\".format(M), color=Mcolors[im])\n",
    "    \n",
    "plt.legend()"
   ]
  },
  {
   "cell_type": "markdown",
   "metadata": {},
   "source": [
    "## Heavy Tailed  normalization on X\n",
    "\n",
    "$$\\dfrac{1}{N^{2/\\mu}}X$$"
   ]
  },
  {
   "cell_type": "code",
   "execution_count": null,
   "metadata": {
    "ExecuteTime": {
     "end_time": "2018-11-09T22:54:39.475194Z",
     "start_time": "2018-11-09T22:42:38.351508Z"
    }
   },
   "outputs": [],
   "source": [
    "Mresults = {}\n",
    "l_maxs = {}\n",
    "logNorm2s = {}\n",
    "\n",
    "for M in Ms:\n",
    "    ratios, alphas = [], []\n",
    "    l_maxs[M] = []\n",
    "    logNorm2s[M] = []\n",
    "    \n",
    "    N = M\n",
    "    for mu in tqdm(mus):\n",
    "\n",
    "        W = np.random.pareto(a=mu,size=(N,M))\n",
    "        normW = np.linalg.norm(W)\n",
    "        logNorm2 = 2.0*np.log10(normW)\n",
    "        logNorm2s[M].append(logNorm2)\n",
    "\n",
    "        # CHANGED NORMALIZATION HERE\n",
    "        X=np.dot(W.T,W)/N**(2/mu)\n",
    "        evals = np.linalg.eigvals(X)\n",
    "\n",
    "        l_max, l_min = np.max(evals), np.min(evals)\n",
    "        fit =  powerlaw.Fit(evals)\n",
    "\n",
    "        a = fit.alpha\n",
    "        alphas.append(a)\n",
    "\n",
    "        ratio = logNorm2/np.log10(l_max)\n",
    "        ratios.append(ratio)\n",
    "\n",
    "        Mresults[M]=[ratios,alphas]\n",
    "        \n",
    "        l_maxs[M].append(l_max)\n"
   ]
  },
  {
   "cell_type": "code",
   "execution_count": null,
   "metadata": {},
   "outputs": [],
   "source": [
    "import matplotlib.pyplot as plt\n",
    "plt.rcParams['figure.figsize'] = [10,10]\n",
    "matplotlib.rcParams.update({'font.size': 16})\n",
    "\n",
    "plt.title(r\"$\\log\\Vert W\\Vert_{F}^{2} / \\log\\;\\tilde{\\lambda}_{max}$ vs. $\\mu;$\"+\"\\n\"+r\"$(1/N^{2/\\mu})\\mathbf{X}$ normalization\")\n",
    "plt.xlabel(r\"$\\mu$\")\n",
    "plt.ylabel(r\"$\\log\\Vert W\\Vert_{F}^{2} / \\log\\;\\tilde{\\lambda}_{max}$\")\n",
    "\n",
    "for im, M in enumerate(Ms):\n",
    "    [ratios,alphas] = Mresults[M]\n",
    "    plt.scatter(mus, ratios, label=\"Q=1, M= {}\".format(M), color=Mcolors[im])\n",
    "\n",
    "plt.legend()\n",
    "#plt.xlim(1,2)\n",
    "plt.ylim(0,5)\n",
    "\n",
    "plt.savefig(\"img/LogNorm-Lmax-Scaled.png\")"
   ]
  },
  {
   "cell_type": "code",
   "execution_count": null,
   "metadata": {},
   "outputs": [],
   "source": [
    "import matplotlib.pyplot as plt\n",
    "plt.rcParams['figure.figsize'] = [10,10]\n",
    "matplotlib.rcParams.update({'font.size': 16})\n",
    "\n",
    "plt.title(r\"$\\log\\Vert W\\Vert_{F}^{2} $ vs. $\\alpha\\;$\"+\"\\n\"+r\"$1/N^{2/\\mu}$ X normalization\")\n",
    "plt.xlabel(r\"$\\alpha$\")\n",
    "plt.ylabel(r\"$\\log\\Vert W\\Vert_{F}^{2}$\")\n",
    "\n",
    "for im, M in enumerate(Ms):\n",
    "    [ratios,alphas] = Mresults[M]\n",
    "    plt.scatter(alphas, logNorm2s[M], label=\"Q=1, M= {}\".format(M), color=Mcolors[im])\n",
    "    \n",
    "plt.legend()"
   ]
  },
  {
   "cell_type": "code",
   "execution_count": null,
   "metadata": {},
   "outputs": [],
   "source": []
  },
  {
   "cell_type": "code",
   "execution_count": null,
   "metadata": {},
   "outputs": [],
   "source": []
  },
  {
   "cell_type": "code",
   "execution_count": null,
   "metadata": {},
   "outputs": [],
   "source": []
  },
  {
   "cell_type": "code",
   "execution_count": null,
   "metadata": {},
   "outputs": [],
   "source": []
  },
  {
   "cell_type": "markdown",
   "metadata": {},
   "source": [
    "## Max Value  normalization on W\n",
    "\n",
    "$$\\dfrac{1}{N^{1/\\mu}}\\mathbf{W},\\;\\;\\;\\dfrac{1}{N}\\mathbf{X}$$"
   ]
  },
  {
   "cell_type": "code",
   "execution_count": null,
   "metadata": {},
   "outputs": [],
   "source": [
    "Mresults = {}\n",
    "l_maxs = {}\n",
    "logNorm2s = {}\n",
    "\n",
    "for M in Ms:\n",
    "    ratios, alphas = [], []\n",
    "    l_maxs[M] = []\n",
    "    logNorm2s[M] = []\n",
    "    \n",
    "    N = M\n",
    "    for mu in tqdm(mus):\n",
    "\n",
    "        # CHANGED NORMALIZATION HERE\n",
    "        W = np.random.pareto(a=mu,size=(N,M))\n",
    "        W = W/N**(1/mu)\n",
    "        \n",
    "        normW = np.linalg.norm(W)\n",
    "        logNorm2 = 2.0*np.log10(normW)\n",
    "        logNorm2s[M].append(logNorm2)\n",
    "\n",
    "        # STANDARD NORMALIZATION HERE\n",
    "        X=np.dot(W.T,W)/N\n",
    "        evals = np.linalg.eigvals(X)\n",
    "\n",
    "        l_max, l_min = np.max(evals), np.min(evals)\n",
    "        fit =  powerlaw.Fit(evals)\n",
    "\n",
    "        a = fit.alpha\n",
    "        alphas.append(a)\n",
    "\n",
    "        ratio = logNorm2/np.log10(l_max)\n",
    "        ratios.append(ratio)\n",
    "\n",
    "        Mresults[M]=[ratios,alphas]\n",
    "        \n",
    "        l_maxs[M].append(l_max)"
   ]
  },
  {
   "cell_type": "code",
   "execution_count": null,
   "metadata": {},
   "outputs": [],
   "source": [
    "import matplotlib.pyplot as plt\n",
    "plt.rcParams['figure.figsize'] = [10,10]\n",
    "matplotlib.rcParams.update({'font.size': 16})\n",
    "\n",
    "plt.title(r\"$\\log\\Vert W\\Vert_{F}^{2} / \\log\\;\\lambda_{max}$ vs. $\\alpha\\;$\"+\"\\n\"+r\"$(1/N^{1/\\mu})\\mathbf{W}$ normalization\")\n",
    "plt.xlabel(r\"$\\alpha$\")\n",
    "plt.ylabel(r\"$\\log\\Vert W\\Vert_{F}^{2} / \\log\\;\\lambda_{max}$\")\n",
    "\n",
    "for im, M in enumerate(Ms):\n",
    "    [ratios,alphas] = Mresults[M]\n",
    "    plt.scatter(alphas, ratios, label=\"Q=1, M= {}\".format(M), color=Mcolors[im])\n",
    "\n",
    "plt.ylim([-1,100])\n",
    "plt.legend()"
   ]
  },
  {
   "cell_type": "code",
   "execution_count": null,
   "metadata": {},
   "outputs": [],
   "source": [
    "np.log10(np.array(l_maxs[500]))"
   ]
  },
  {
   "cell_type": "code",
   "execution_count": null,
   "metadata": {},
   "outputs": [],
   "source": [
    "import matplotlib.pyplot as plt\n",
    "plt.rcParams['figure.figsize'] = [10,10]\n",
    "matplotlib.rcParams.update({'font.size': 16})\n",
    "\n",
    "plt.title(r\"$\\log\\Vert W\\Vert_{F}^{2} $ vs. $\\alpha\\;$\"+\"\\n\"+r\"$\\dfrac{1}{N^{1/\\mu}}$ W normalization\")\n",
    "plt.xlabel(r\"$\\alpha$\")\n",
    "plt.ylabel(r\"$\\log\\Vert W\\Vert_{F}^{2}$\")\n",
    "\n",
    "for im, M in enumerate(Ms):\n",
    "    [ratios,alphas] = Mresults[M]\n",
    "    plt.scatter(alphas, logNorm2s[M], label=\"Q=1, M= {}\".format(M), color=Mcolors[im])\n",
    "    \n",
    "plt.plot(mus, mus,  color='orange')\n",
    "plt.legend()\n"
   ]
  },
  {
   "cell_type": "code",
   "execution_count": null,
   "metadata": {},
   "outputs": [],
   "source": []
  },
  {
   "cell_type": "code",
   "execution_count": null,
   "metadata": {},
   "outputs": [],
   "source": []
  },
  {
   "cell_type": "markdown",
   "metadata": {},
   "source": [
    "## Max Value  normalization on W\n",
    "\n",
    "$$\\dfrac{\\mathbf{W}}{\\max|\\mathbf{W}|},\\;\\;\\;\\dfrac{1}{N}\\mathbf{X}$$"
   ]
  },
  {
   "cell_type": "code",
   "execution_count": null,
   "metadata": {},
   "outputs": [],
   "source": [
    "Mresults = {}\n",
    "l_maxs = {}\n",
    "logNorm2s = {}\n",
    "             \n",
    "for M in Ms:\n",
    "    ratios, alphas = [], []\n",
    "    l_maxs[M] = []\n",
    "    logNorm2s[M] = []\n",
    "    \n",
    "    N = M\n",
    "    for mu in tqdm(mus):\n",
    "\n",
    "        # CHANGED NORMALIZATION HERE\n",
    "        W = np.random.pareto(a=mu,size=(N,M))\n",
    "        W = W/np.max(W)\n",
    "        \n",
    "        normW = np.linalg.norm(W)\n",
    "        logNorm2 = 2.0*np.log10(normW)\n",
    "        logNorm2s[M].append(logNorm2)\n",
    "\n",
    "        X=np.dot(W.T,W)/N\n",
    "        evals = np.linalg.eigvals(X)\n",
    "\n",
    "        l_max, l_min = np.max(evals), np.min(evals)\n",
    "        fit =  powerlaw.Fit(evals)\n",
    "\n",
    "        a = fit.alpha\n",
    "        alphas.append(a)\n",
    "\n",
    "        ratio = logNorm2/np.log10(l_max)\n",
    "        ratios.append(ratio)\n",
    "\n",
    "        Mresults[M]=[ratios,alphas]\n",
    "        \n",
    "        l_maxs[M].append(l_max)\n"
   ]
  },
  {
   "cell_type": "code",
   "execution_count": null,
   "metadata": {},
   "outputs": [],
   "source": [
    "import matplotlib.pyplot as plt\n",
    "plt.rcParams['figure.figsize'] = [10,10]\n",
    "matplotlib.rcParams.update({'font.size': 16})\n",
    "\n",
    "plt.title(r\"$\\log\\Vert W\\Vert_{F}^{2} $ vs. $\\alpha\\;$\"+\"\\n\"+r\"W/max|W| normalization\")\n",
    "plt.xlabel(r\"$\\alpha$\")\n",
    "plt.ylabel(r\"$\\log\\Vert W\\Vert_{F}^{2}$\")\n",
    "\n",
    "for im, M in enumerate(Ms):\n",
    "    [ratios,alphas] = Mresults[M]\n",
    "    aa = np.array(alphas)[0:14]\n",
    "    ln2 = np.array(logNorm2s[M])[0:14]\n",
    "    plt.scatter(aa, ln2, label=\"Q=1, M= {}\".format(M), color=Mcolors[im])\n",
    "    \n",
    "#plt.plot(mus, mus,  color='orange')\n",
    "plt.legend()\n",
    "\n"
   ]
  },
  {
   "cell_type": "code",
   "execution_count": null,
   "metadata": {},
   "outputs": [],
   "source": [
    "import matplotlib.pyplot as plt\n",
    "plt.rcParams['figure.figsize'] = [10,10]\n",
    "matplotlib.rcParams.update({'font.size': 16})\n",
    "\n",
    "plt.title(r\"$\\log_{10}\\;\\lambda_{max} $ vs. $\\alpha\\;$\"+\"\\n\"+r\"W/max |W| normalization\")\n",
    "plt.xlabel(r\"$\\alpha$\")\n",
    "plt.ylabel(r\"$\\log_{10}\\;\\lambda_{max}$\")\n",
    "\n",
    "\n",
    "for im, M in enumerate(Ms):\n",
    "    [ratios,alphas] = Mresults[M]\n",
    "    aa = np.array(alphas)[0:15]\n",
    "    llm = np.log10(l_maxs[M])[0:15]\n",
    "    plt.scatter(aa, llm, label=\"Q=1, M= {}\".format(M),  color=Mcolors[im])\n",
    "    \n",
    "\n",
    "#plt.plot(mus, mus,  color='orange')\n",
    "plt.legend()\n",
    "\n"
   ]
  },
  {
   "cell_type": "code",
   "execution_count": null,
   "metadata": {},
   "outputs": [],
   "source": []
  },
  {
   "cell_type": "code",
   "execution_count": null,
   "metadata": {},
   "outputs": [],
   "source": []
  },
  {
   "cell_type": "code",
   "execution_count": null,
   "metadata": {},
   "outputs": [],
   "source": []
  },
  {
   "cell_type": "code",
   "execution_count": null,
   "metadata": {},
   "outputs": [],
   "source": []
  }
 ],
 "metadata": {
  "kernelspec": {
   "display_name": "Python 3",
   "language": "python",
   "name": "python3"
  },
  "language_info": {
   "codemirror_mode": {
    "name": "ipython",
    "version": 3
   },
   "file_extension": ".py",
   "mimetype": "text/x-python",
   "name": "python",
   "nbconvert_exporter": "python",
   "pygments_lexer": "ipython3",
   "version": "3.6.5"
  }
 },
 "nbformat": 4,
 "nbformat_minor": 2
}
