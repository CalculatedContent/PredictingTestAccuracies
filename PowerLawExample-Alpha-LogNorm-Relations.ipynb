{
 "cells": [
  {
   "cell_type": "code",
   "execution_count": 2,
   "metadata": {
    "ExecuteTime": {
     "end_time": "2018-11-09T21:53:31.334410Z",
     "start_time": "2018-11-09T21:53:29.413713Z"
    }
   },
   "outputs": [],
   "source": [
    "import numpy as np\n",
    "from tqdm import tqdm_notebook as tqdm\n",
    "\n",
    "import powerlaw\n",
    "\n",
    "import matplotlib\n",
    "import numpy as np\n",
    "import matplotlib.pyplot as plt\n",
    "%matplotlib inline  "
   ]
  },
  {
   "cell_type": "code",
   "execution_count": null,
   "metadata": {},
   "outputs": [],
   "source": []
  },
  {
   "cell_type": "markdown",
   "metadata": {},
   "source": [
    "### Lets find numerically the relation between\n",
    "\n",
    "The Stable Rank (in log units) and the Power Law exponent (we fit) $\\alpha$\n",
    "\n",
    "$$\\dfrac{\\log\\Vert W\\Vert^{2}}{\\log\\lambda_{max}}\\;\\;\\;vs\\;\\;\\alpha$$"
   ]
  },
  {
   "cell_type": "code",
   "execution_count": 3,
   "metadata": {
    "ExecuteTime": {
     "end_time": "2018-11-09T22:54:39.475194Z",
     "start_time": "2018-11-09T22:42:38.351508Z"
    }
   },
   "outputs": [
    {
     "name": "stdout",
     "output_type": "stream",
     "text": [
      "N, M 100x100 mu: 0.5\n",
      "(100, 100)\n",
      "N, M 100x100 mu: 0.75\n",
      "(100, 100)\n",
      "N, M 100x100 mu: 1.0\n",
      "(100, 100)\n",
      "N, M 100x100 mu: 1.25\n",
      "(100, 100)\n",
      "N, M 100x100 mu: 1.5\n",
      "(100, 100)\n",
      "N, M 100x100 mu: 1.75\n",
      "(100, 100)\n",
      "N, M 100x100 mu: 2.0\n",
      "(100, 100)\n",
      "N, M 100x100 mu: 2.25\n",
      "(100, 100)\n",
      "N, M 100x100 mu: 2.5\n",
      "(100, 100)\n",
      "N, M 100x100 mu: 2.75\n",
      "(100, 100)\n",
      "N, M 100x100 mu: 3.0\n",
      "(100, 100)\n"
     ]
    },
    {
     "name": "stderr",
     "output_type": "stream",
     "text": [
      "Calculating best minimal value for power law fit\n",
      "/Users/charleshmartin/anaconda3/lib/python3.6/site-packages/powerlaw.py:700: RuntimeWarning: invalid value encountered in true_divide\n",
      "  (Theoretical_CDF * (1 - Theoretical_CDF))\n",
      "Calculating best minimal value for power law fit\n",
      "Calculating best minimal value for power law fit\n",
      "Calculating best minimal value for power law fit\n",
      "Calculating best minimal value for power law fit\n",
      "Calculating best minimal value for power law fit\n",
      "Calculating best minimal value for power law fit\n",
      "Calculating best minimal value for power law fit\n",
      "Calculating best minimal value for power law fit\n",
      "Calculating best minimal value for power law fit\n",
      "Calculating best minimal value for power law fit\n"
     ]
    },
    {
     "name": "stdout",
     "output_type": "stream",
     "text": [
      "N, M 100x100 mu: 3.25\n",
      "(100, 100)\n",
      "N, M 100x100 mu: 3.5\n",
      "(100, 100)\n",
      "N, M 100x100 mu: 4\n",
      "(100, 100)\n",
      "N, M 100x100 mu: 4.5\n",
      "(100, 100)\n",
      "N, M 100x100 mu: 5\n",
      "(100, 100)\n",
      "N, M 500x500 mu: 0.5\n",
      "(500, 500)\n"
     ]
    },
    {
     "name": "stderr",
     "output_type": "stream",
     "text": [
      "Calculating best minimal value for power law fit\n",
      "Calculating best minimal value for power law fit\n",
      "Calculating best minimal value for power law fit\n",
      "Calculating best minimal value for power law fit\n",
      "Calculating best minimal value for power law fit\n",
      "Calculating best minimal value for power law fit\n",
      "/Users/charleshmartin/anaconda3/lib/python3.6/site-packages/powerlaw.py:1141: RuntimeWarning: invalid value encountered in log\n",
      "  self.alpha = 1 + (self.n / sum(log(data/self.xmin)))\n",
      "/Users/charleshmartin/anaconda3/lib/python3.6/site-packages/powerlaw.py:1160: RuntimeWarning: invalid value encountered in log\n",
      "  return 1 + len(data)/sum(log(data / (self.xmin)))\n",
      "/Users/charleshmartin/anaconda3/lib/python3.6/site-packages/powerlaw.py:701: RuntimeWarning: overflow encountered in double_scalars\n",
      "  )[1:]\n",
      "/Users/charleshmartin/anaconda3/lib/python3.6/site-packages/powerlaw.py:700: RuntimeWarning: invalid value encountered in true_divide\n",
      "  (Theoretical_CDF * (1 - Theoretical_CDF))\n",
      "Calculating best minimal value for power law fit\n"
     ]
    },
    {
     "name": "stdout",
     "output_type": "stream",
     "text": [
      "N, M 500x500 mu: 0.75\n",
      "(500, 500)\n",
      "N, M 500x500 mu: 1.0\n",
      "(500, 500)\n"
     ]
    },
    {
     "name": "stderr",
     "output_type": "stream",
     "text": [
      "Calculating best minimal value for power law fit\n",
      "Calculating best minimal value for power law fit\n"
     ]
    },
    {
     "name": "stdout",
     "output_type": "stream",
     "text": [
      "N, M 500x500 mu: 1.25\n",
      "(500, 500)\n",
      "N, M 500x500 mu: 1.5\n",
      "(500, 500)\n"
     ]
    },
    {
     "name": "stderr",
     "output_type": "stream",
     "text": [
      "Calculating best minimal value for power law fit\n",
      "Calculating best minimal value for power law fit\n"
     ]
    },
    {
     "name": "stdout",
     "output_type": "stream",
     "text": [
      "N, M 500x500 mu: 1.75\n",
      "(500, 500)\n",
      "N, M 500x500 mu: 2.0\n",
      "(500, 500)\n"
     ]
    },
    {
     "name": "stderr",
     "output_type": "stream",
     "text": [
      "Calculating best minimal value for power law fit\n"
     ]
    },
    {
     "name": "stdout",
     "output_type": "stream",
     "text": [
      "N, M 500x500 mu: 2.25\n",
      "(500, 500)\n"
     ]
    },
    {
     "name": "stderr",
     "output_type": "stream",
     "text": [
      "Calculating best minimal value for power law fit\n",
      "Calculating best minimal value for power law fit\n"
     ]
    },
    {
     "name": "stdout",
     "output_type": "stream",
     "text": [
      "N, M 500x500 mu: 2.5\n",
      "(500, 500)\n",
      "N, M 500x500 mu: 2.75\n",
      "(500, 500)\n",
      "N, M 500x500 mu: 3.0"
     ]
    },
    {
     "name": "stderr",
     "output_type": "stream",
     "text": [
      "Calculating best minimal value for power law fit\n",
      "Calculating best minimal value for power law fit\n"
     ]
    },
    {
     "name": "stdout",
     "output_type": "stream",
     "text": [
      "\n",
      "(500, 500)\n",
      "N, M 500x500 mu: 3.25\n",
      "(500, 500)\n"
     ]
    },
    {
     "name": "stderr",
     "output_type": "stream",
     "text": [
      "Calculating best minimal value for power law fit\n",
      "Calculating best minimal value for power law fit\n"
     ]
    },
    {
     "name": "stdout",
     "output_type": "stream",
     "text": [
      "N, M 500x500 mu: 3.5\n",
      "(500, 500)\n",
      "N, M 500x500 mu: 4\n",
      "(500, 500)\n",
      "N, M 500x500 mu: 4.5\n"
     ]
    },
    {
     "name": "stderr",
     "output_type": "stream",
     "text": [
      "Calculating best minimal value for power law fit\n"
     ]
    },
    {
     "name": "stdout",
     "output_type": "stream",
     "text": [
      "(500, 500)\n"
     ]
    },
    {
     "name": "stderr",
     "output_type": "stream",
     "text": [
      "Calculating best minimal value for power law fit\n"
     ]
    },
    {
     "name": "stdout",
     "output_type": "stream",
     "text": [
      "N, M 500x500 mu: 5\n",
      "(500, 500)\n",
      "N, M 1000x1000 mu: 0.5\n"
     ]
    },
    {
     "name": "stderr",
     "output_type": "stream",
     "text": [
      "Calculating best minimal value for power law fit\n"
     ]
    },
    {
     "name": "stdout",
     "output_type": "stream",
     "text": [
      "(1000, 1000)\n"
     ]
    },
    {
     "name": "stderr",
     "output_type": "stream",
     "text": [
      "/Users/charleshmartin/anaconda3/lib/python3.6/site-packages/numpy/core/numeric.py:501: ComplexWarning: Casting complex values to real discards the imaginary part\n",
      "  return array(a, dtype, copy=False, order=order)\n",
      "Calculating best minimal value for power law fit\n",
      "/Users/charleshmartin/anaconda3/lib/python3.6/site-packages/powerlaw.py:1141: RuntimeWarning: invalid value encountered in log\n",
      "  self.alpha = 1 + (self.n / sum(log(data/self.xmin)))\n"
     ]
    },
    {
     "name": "stdout",
     "output_type": "stream",
     "text": [
      "N, M 1000x1000 mu: 0.75\n",
      "(1000, 1000)\n"
     ]
    },
    {
     "name": "stderr",
     "output_type": "stream",
     "text": [
      "Calculating best minimal value for power law fit\n"
     ]
    },
    {
     "name": "stdout",
     "output_type": "stream",
     "text": [
      "N, M 1000x1000 mu: 1.0\n",
      "(1000, 1000)\n"
     ]
    },
    {
     "name": "stderr",
     "output_type": "stream",
     "text": [
      "Calculating best minimal value for power law fit\n"
     ]
    },
    {
     "name": "stdout",
     "output_type": "stream",
     "text": [
      "N, M 1000x1000 mu: 1.25\n",
      "(1000, 1000)\n"
     ]
    },
    {
     "name": "stderr",
     "output_type": "stream",
     "text": [
      "Calculating best minimal value for power law fit\n"
     ]
    },
    {
     "name": "stdout",
     "output_type": "stream",
     "text": [
      "N, M 1000x1000 mu: 1.5\n",
      "(1000, 1000)\n"
     ]
    },
    {
     "name": "stderr",
     "output_type": "stream",
     "text": [
      "Calculating best minimal value for power law fit\n"
     ]
    },
    {
     "name": "stdout",
     "output_type": "stream",
     "text": [
      "N, M 1000x1000 mu: 1.75\n",
      "(1000, 1000)\n"
     ]
    },
    {
     "name": "stderr",
     "output_type": "stream",
     "text": [
      "Calculating best minimal value for power law fit\n"
     ]
    },
    {
     "name": "stdout",
     "output_type": "stream",
     "text": [
      "N, M 1000x1000 mu: 2.0\n",
      "(1000, 1000)\n"
     ]
    },
    {
     "name": "stderr",
     "output_type": "stream",
     "text": [
      "Calculating best minimal value for power law fit\n"
     ]
    },
    {
     "name": "stdout",
     "output_type": "stream",
     "text": [
      "N, M 1000x1000 mu: 2.25\n",
      "(1000, 1000)\n"
     ]
    },
    {
     "name": "stderr",
     "output_type": "stream",
     "text": [
      "Calculating best minimal value for power law fit\n"
     ]
    },
    {
     "name": "stdout",
     "output_type": "stream",
     "text": [
      "N, M 1000x1000 mu: 2.5\n",
      "(1000, 1000)\n"
     ]
    },
    {
     "name": "stderr",
     "output_type": "stream",
     "text": [
      "Calculating best minimal value for power law fit\n"
     ]
    },
    {
     "name": "stdout",
     "output_type": "stream",
     "text": [
      "N, M 1000x1000 mu: 2.75\n",
      "(1000, 1000)\n"
     ]
    },
    {
     "name": "stderr",
     "output_type": "stream",
     "text": [
      "Calculating best minimal value for power law fit\n"
     ]
    },
    {
     "name": "stdout",
     "output_type": "stream",
     "text": [
      "N, M 1000x1000 mu: 3.0\n",
      "(1000, 1000)\n"
     ]
    },
    {
     "name": "stderr",
     "output_type": "stream",
     "text": [
      "Calculating best minimal value for power law fit\n"
     ]
    },
    {
     "name": "stdout",
     "output_type": "stream",
     "text": [
      "N, M 1000x1000 mu: 3.25\n",
      "(1000, 1000)\n"
     ]
    },
    {
     "name": "stderr",
     "output_type": "stream",
     "text": [
      "Calculating best minimal value for power law fit\n"
     ]
    },
    {
     "name": "stdout",
     "output_type": "stream",
     "text": [
      "N, M 1000x1000 mu: 3.5\n",
      "(1000, 1000)\n"
     ]
    },
    {
     "name": "stderr",
     "output_type": "stream",
     "text": [
      "Calculating best minimal value for power law fit\n"
     ]
    },
    {
     "name": "stdout",
     "output_type": "stream",
     "text": [
      "N, M 1000x1000 mu: 4\n",
      "(1000, 1000)\n"
     ]
    },
    {
     "name": "stderr",
     "output_type": "stream",
     "text": [
      "Calculating best minimal value for power law fit\n"
     ]
    },
    {
     "name": "stdout",
     "output_type": "stream",
     "text": [
      "N, M 1000x1000 mu: 4.5\n",
      "(1000, 1000)\n"
     ]
    },
    {
     "name": "stderr",
     "output_type": "stream",
     "text": [
      "Calculating best minimal value for power law fit\n"
     ]
    },
    {
     "name": "stdout",
     "output_type": "stream",
     "text": [
      "N, M 1000x1000 mu: 5\n",
      "(1000, 1000)\n"
     ]
    },
    {
     "name": "stderr",
     "output_type": "stream",
     "text": [
      "Calculating best minimal value for power law fit\n"
     ]
    },
    {
     "name": "stdout",
     "output_type": "stream",
     "text": [
      "N, M 5000x5000 mu: 0.5\n",
      "(5000, 5000)\n"
     ]
    },
    {
     "name": "stderr",
     "output_type": "stream",
     "text": [
      "Calculating best minimal value for power law fit\n"
     ]
    },
    {
     "name": "stdout",
     "output_type": "stream",
     "text": [
      "N, M 5000x5000 mu: 0.75\n",
      "(5000, 5000)\n"
     ]
    },
    {
     "name": "stderr",
     "output_type": "stream",
     "text": [
      "Calculating best minimal value for power law fit\n"
     ]
    },
    {
     "name": "stdout",
     "output_type": "stream",
     "text": [
      "N, M 5000x5000 mu: 1.0\n",
      "(5000, 5000)\n"
     ]
    },
    {
     "name": "stderr",
     "output_type": "stream",
     "text": [
      "Calculating best minimal value for power law fit\n"
     ]
    },
    {
     "name": "stdout",
     "output_type": "stream",
     "text": [
      "N, M 5000x5000 mu: 1.25\n",
      "(5000, 5000)\n"
     ]
    },
    {
     "name": "stderr",
     "output_type": "stream",
     "text": [
      "Calculating best minimal value for power law fit\n"
     ]
    },
    {
     "name": "stdout",
     "output_type": "stream",
     "text": [
      "N, M 5000x5000 mu: 1.5\n",
      "(5000, 5000)\n"
     ]
    },
    {
     "name": "stderr",
     "output_type": "stream",
     "text": [
      "Calculating best minimal value for power law fit\n"
     ]
    },
    {
     "name": "stdout",
     "output_type": "stream",
     "text": [
      "N, M 5000x5000 mu: 1.75\n",
      "(5000, 5000)\n"
     ]
    },
    {
     "name": "stderr",
     "output_type": "stream",
     "text": [
      "Calculating best minimal value for power law fit\n"
     ]
    },
    {
     "name": "stdout",
     "output_type": "stream",
     "text": [
      "N, M 5000x5000 mu: 2.0\n",
      "(5000, 5000)\n"
     ]
    },
    {
     "name": "stderr",
     "output_type": "stream",
     "text": [
      "Calculating best minimal value for power law fit\n"
     ]
    },
    {
     "name": "stdout",
     "output_type": "stream",
     "text": [
      "N, M 5000x5000 mu: 2.25\n",
      "(5000, 5000)\n"
     ]
    },
    {
     "name": "stderr",
     "output_type": "stream",
     "text": [
      "Calculating best minimal value for power law fit\n"
     ]
    },
    {
     "name": "stdout",
     "output_type": "stream",
     "text": [
      "N, M 5000x5000 mu: 2.5\n",
      "(5000, 5000)\n"
     ]
    },
    {
     "name": "stderr",
     "output_type": "stream",
     "text": [
      "Calculating best minimal value for power law fit\n"
     ]
    },
    {
     "name": "stdout",
     "output_type": "stream",
     "text": [
      "N, M 5000x5000 mu: 2.75\n",
      "(5000, 5000)\n"
     ]
    },
    {
     "name": "stderr",
     "output_type": "stream",
     "text": [
      "Calculating best minimal value for power law fit\n"
     ]
    },
    {
     "name": "stdout",
     "output_type": "stream",
     "text": [
      "N, M 5000x5000 mu: 3.0\n",
      "(5000, 5000)\n"
     ]
    },
    {
     "name": "stderr",
     "output_type": "stream",
     "text": [
      "Calculating best minimal value for power law fit\n"
     ]
    },
    {
     "name": "stdout",
     "output_type": "stream",
     "text": [
      "N, M 5000x5000 mu: 3.25\n",
      "(5000, 5000)\n"
     ]
    },
    {
     "name": "stderr",
     "output_type": "stream",
     "text": [
      "Calculating best minimal value for power law fit\n"
     ]
    },
    {
     "name": "stdout",
     "output_type": "stream",
     "text": [
      "N, M 5000x5000 mu: 3.5\n",
      "(5000, 5000)\n"
     ]
    },
    {
     "name": "stderr",
     "output_type": "stream",
     "text": [
      "Calculating best minimal value for power law fit\n",
      "/Users/charleshmartin/anaconda3/lib/python3.6/site-packages/powerlaw.py:700: RuntimeWarning: divide by zero encountered in true_divide\n",
      "  (Theoretical_CDF * (1 - Theoretical_CDF))\n"
     ]
    },
    {
     "name": "stdout",
     "output_type": "stream",
     "text": [
      "N, M 5000x5000 mu: 4\n",
      "(5000, 5000)\n"
     ]
    },
    {
     "name": "stderr",
     "output_type": "stream",
     "text": [
      "Calculating best minimal value for power law fit\n"
     ]
    },
    {
     "name": "stdout",
     "output_type": "stream",
     "text": [
      "N, M 5000x5000 mu: 4.5\n",
      "(5000, 5000)\n"
     ]
    },
    {
     "name": "stderr",
     "output_type": "stream",
     "text": [
      "Calculating best minimal value for power law fit\n"
     ]
    },
    {
     "name": "stdout",
     "output_type": "stream",
     "text": [
      "N, M 5000x5000 mu: 5\n",
      "(5000, 5000)\n"
     ]
    },
    {
     "name": "stderr",
     "output_type": "stream",
     "text": [
      "Calculating best minimal value for power law fit\n"
     ]
    },
    {
     "name": "stdout",
     "output_type": "stream",
     "text": [
      "N, M 10000x10000 mu: 0.5\n",
      "(10000, 10000)\n"
     ]
    },
    {
     "name": "stderr",
     "output_type": "stream",
     "text": [
      "Calculating best minimal value for power law fit\n"
     ]
    },
    {
     "name": "stdout",
     "output_type": "stream",
     "text": [
      "N, M 10000x10000 mu: 0.75\n",
      "(10000, 10000)\n"
     ]
    },
    {
     "name": "stderr",
     "output_type": "stream",
     "text": [
      "Calculating best minimal value for power law fit\n"
     ]
    },
    {
     "name": "stdout",
     "output_type": "stream",
     "text": [
      "N, M 10000x10000 mu: 1.0\n",
      "(10000, 10000)\n"
     ]
    },
    {
     "name": "stderr",
     "output_type": "stream",
     "text": [
      "Calculating best minimal value for power law fit\n"
     ]
    },
    {
     "name": "stdout",
     "output_type": "stream",
     "text": [
      "N, M 10000x10000 mu: 1.25\n",
      "(10000, 10000)\n"
     ]
    },
    {
     "name": "stderr",
     "output_type": "stream",
     "text": [
      "Calculating best minimal value for power law fit\n"
     ]
    },
    {
     "name": "stdout",
     "output_type": "stream",
     "text": [
      "N, M 10000x10000 mu: 1.5\n",
      "(10000, 10000)\n"
     ]
    },
    {
     "name": "stderr",
     "output_type": "stream",
     "text": [
      "Calculating best minimal value for power law fit\n"
     ]
    },
    {
     "name": "stdout",
     "output_type": "stream",
     "text": [
      "N, M 10000x10000 mu: 1.75\n",
      "(10000, 10000)\n"
     ]
    },
    {
     "name": "stderr",
     "output_type": "stream",
     "text": [
      "Calculating best minimal value for power law fit\n"
     ]
    },
    {
     "name": "stdout",
     "output_type": "stream",
     "text": [
      "N, M 10000x10000 mu: 2.0\n",
      "(10000, 10000)\n"
     ]
    },
    {
     "name": "stderr",
     "output_type": "stream",
     "text": [
      "Calculating best minimal value for power law fit\n"
     ]
    },
    {
     "name": "stdout",
     "output_type": "stream",
     "text": [
      "N, M 10000x10000 mu: 2.25\n",
      "(10000, 10000)\n"
     ]
    },
    {
     "name": "stderr",
     "output_type": "stream",
     "text": [
      "Calculating best minimal value for power law fit\n"
     ]
    },
    {
     "name": "stdout",
     "output_type": "stream",
     "text": [
      "N, M 10000x10000 mu: 2.5\n",
      "(10000, 10000)\n"
     ]
    },
    {
     "name": "stderr",
     "output_type": "stream",
     "text": [
      "Calculating best minimal value for power law fit\n"
     ]
    },
    {
     "name": "stdout",
     "output_type": "stream",
     "text": [
      "N, M 10000x10000 mu: 2.75\n",
      "(10000, 10000)\n"
     ]
    },
    {
     "name": "stderr",
     "output_type": "stream",
     "text": [
      "Calculating best minimal value for power law fit\n"
     ]
    },
    {
     "name": "stdout",
     "output_type": "stream",
     "text": [
      "N, M 10000x10000 mu: 3.0\n",
      "(10000, 10000)\n"
     ]
    },
    {
     "name": "stderr",
     "output_type": "stream",
     "text": [
      "Calculating best minimal value for power law fit\n"
     ]
    },
    {
     "name": "stdout",
     "output_type": "stream",
     "text": [
      "N, M 10000x10000 mu: 3.25\n",
      "(10000, 10000)\n"
     ]
    },
    {
     "ename": "KeyboardInterrupt",
     "evalue": "",
     "output_type": "error",
     "traceback": [
      "\u001b[0;31m---------------------------------------------------------------------------\u001b[0m",
      "\u001b[0;31mKeyboardInterrupt\u001b[0m                         Traceback (most recent call last)",
      "\u001b[0;32m<ipython-input-3-2c6b1f5bed56>\u001b[0m in \u001b[0;36m<module>\u001b[0;34m()\u001b[0m\n\u001b[1;32m     20\u001b[0m         \u001b[0mX\u001b[0m\u001b[0;34m=\u001b[0m\u001b[0mnp\u001b[0m\u001b[0;34m.\u001b[0m\u001b[0mdot\u001b[0m\u001b[0;34m(\u001b[0m\u001b[0mW\u001b[0m\u001b[0;34m.\u001b[0m\u001b[0mT\u001b[0m\u001b[0;34m,\u001b[0m\u001b[0mW\u001b[0m\u001b[0;34m)\u001b[0m\u001b[0;34m/\u001b[0m\u001b[0mN\u001b[0m\u001b[0;34m\u001b[0m\u001b[0m\n\u001b[1;32m     21\u001b[0m         \u001b[0mprint\u001b[0m\u001b[0;34m(\u001b[0m\u001b[0mX\u001b[0m\u001b[0;34m.\u001b[0m\u001b[0mshape\u001b[0m\u001b[0;34m)\u001b[0m\u001b[0;34m\u001b[0m\u001b[0m\n\u001b[0;32m---> 22\u001b[0;31m         \u001b[0mevals\u001b[0m \u001b[0;34m=\u001b[0m \u001b[0mnp\u001b[0m\u001b[0;34m.\u001b[0m\u001b[0mlinalg\u001b[0m\u001b[0;34m.\u001b[0m\u001b[0meigvals\u001b[0m\u001b[0;34m(\u001b[0m\u001b[0mX\u001b[0m\u001b[0;34m)\u001b[0m\u001b[0;34m\u001b[0m\u001b[0m\n\u001b[0m\u001b[1;32m     23\u001b[0m \u001b[0;34m\u001b[0m\u001b[0m\n\u001b[1;32m     24\u001b[0m         \u001b[0ml_max\u001b[0m\u001b[0;34m,\u001b[0m \u001b[0ml_min\u001b[0m \u001b[0;34m=\u001b[0m \u001b[0mnp\u001b[0m\u001b[0;34m.\u001b[0m\u001b[0mmax\u001b[0m\u001b[0;34m(\u001b[0m\u001b[0mevals\u001b[0m\u001b[0;34m)\u001b[0m\u001b[0;34m,\u001b[0m \u001b[0mnp\u001b[0m\u001b[0;34m.\u001b[0m\u001b[0mmin\u001b[0m\u001b[0;34m(\u001b[0m\u001b[0mevals\u001b[0m\u001b[0;34m)\u001b[0m\u001b[0;34m\u001b[0m\u001b[0m\n",
      "\u001b[0;32m~/anaconda3/lib/python3.6/site-packages/numpy/linalg/linalg.py\u001b[0m in \u001b[0;36meigvals\u001b[0;34m(a)\u001b[0m\n\u001b[1;32m   1027\u001b[0m         _raise_linalgerror_eigenvalues_nonconvergence)\n\u001b[1;32m   1028\u001b[0m     \u001b[0msignature\u001b[0m \u001b[0;34m=\u001b[0m \u001b[0;34m'D->D'\u001b[0m \u001b[0;32mif\u001b[0m \u001b[0misComplexType\u001b[0m\u001b[0;34m(\u001b[0m\u001b[0mt\u001b[0m\u001b[0;34m)\u001b[0m \u001b[0;32melse\u001b[0m \u001b[0;34m'd->D'\u001b[0m\u001b[0;34m\u001b[0m\u001b[0m\n\u001b[0;32m-> 1029\u001b[0;31m     \u001b[0mw\u001b[0m \u001b[0;34m=\u001b[0m \u001b[0m_umath_linalg\u001b[0m\u001b[0;34m.\u001b[0m\u001b[0meigvals\u001b[0m\u001b[0;34m(\u001b[0m\u001b[0ma\u001b[0m\u001b[0;34m,\u001b[0m \u001b[0msignature\u001b[0m\u001b[0;34m=\u001b[0m\u001b[0msignature\u001b[0m\u001b[0;34m,\u001b[0m \u001b[0mextobj\u001b[0m\u001b[0;34m=\u001b[0m\u001b[0mextobj\u001b[0m\u001b[0;34m)\u001b[0m\u001b[0;34m\u001b[0m\u001b[0m\n\u001b[0m\u001b[1;32m   1030\u001b[0m \u001b[0;34m\u001b[0m\u001b[0m\n\u001b[1;32m   1031\u001b[0m     \u001b[0;32mif\u001b[0m \u001b[0;32mnot\u001b[0m \u001b[0misComplexType\u001b[0m\u001b[0;34m(\u001b[0m\u001b[0mt\u001b[0m\u001b[0;34m)\u001b[0m\u001b[0;34m:\u001b[0m\u001b[0;34m\u001b[0m\u001b[0m\n",
      "\u001b[0;31mKeyboardInterrupt\u001b[0m: "
     ]
    }
   ],
   "source": [
    "from IPython.core.display import display, HTML\n",
    "html = '<table><tr><th>mu</th><th>alpha</th><th>logNorm</th><th>formula</th><th>ratio</th></tr>'\n",
    "#mus, ratios, alphas =  [], [], []\n",
    "Mresults = {}\n",
    "for M in [100, 500, 1000, 5000, 10000]:        \n",
    "    ratios, alphas =  [], []\n",
    "\n",
    "    #N = (np.random.randint(3)+1)*M\n",
    "    N = M\n",
    "    for mu in [0.5, 0.75, 1.0, 1.25, 1.5, 1.75, 2.0, 2.25, 2.5, 2.75, 3.0, 3.25, 3.5, 4, 4.5, 5]:\n",
    "    # mu = 5 * np.random.random_sample() + 0.5\n",
    "\n",
    "        print(\"N, M {}x{} mu: {}\".format(N, M, mu))\n",
    "\n",
    "        W = np.random.pareto(a=mu,size=(N,M))\n",
    "        normW = np.linalg.norm(W, ord='fro')#/np.sqrt(N)\n",
    "\n",
    "        logNorm2 = 2.0*np.log10(normW)\n",
    "\n",
    "        X=np.dot(W.T,W)/N\n",
    "        print(X.shape)\n",
    "        evals = np.linalg.eigvals(X)\n",
    "\n",
    "        l_max, l_min = np.max(evals), np.min(evals)\n",
    "        fit =  powerlaw.Fit(evals)\n",
    "\n",
    "        a = fit.alpha\n",
    "        alphas.append(a)\n",
    "\n",
    "        ratio = logNorm2/np.log10(l_max)\n",
    "        ratios.append(ratio)\n",
    "\n",
    "        Mresults[M]=[ratios,alphas]\n",
    "\n",
    "            #print(\"mu= {} 1+mu/2 = {}, alpha= {:2f} logNorm2= {:2f}  formula= {:2f} ratio= {:2f}\"\n",
    "            #      .format(mu,(1+mu/2),fit.alpha, logNorm2, formula, ratio ))\n",
    "\n",
    "    #html += \"<tr><td>{:.3f}</td><td>{:.3f}</td><td>{:.3f}</td><td>{:.3f}</td><td>{:.3f}</td></tr>\".format(mu, fit.alpha, logNorm2, formula, ratio)\n",
    "\n",
    "#html += \"</table>\"\n",
    "#display(HTML(html))"
   ]
  },
  {
   "cell_type": "code",
   "execution_count": 10,
   "metadata": {},
   "outputs": [
    {
     "name": "stderr",
     "output_type": "stream",
     "text": [
      "/Users/charleshmartin/anaconda3/lib/python3.6/site-packages/numpy/core/numeric.py:553: ComplexWarning: Casting complex values to real discards the imaginary part\n",
      "  return array(a, dtype, copy=False, order=order, subok=True)\n"
     ]
    },
    {
     "data": {
      "image/png": "[encoded data removed]",
      "text/plain": [
       "<Figure size 720x720 with 1 Axes>"
      ]
     },
     "metadata": {},
     "output_type": "display_data"
    }
   ],
   "source": [
    "import matplotlib.pyplot as plt\n",
    "plt.rcParams['figure.figsize'] = [10,10]\n",
    "matplotlib.rcParams.update({'font.size': 16})\n",
    "\n",
    "plt.title(r\"$2\\log\\Vert W\\Vert / \\log\\;\\lambda_{max}$ vs. $2-\\alpha\\;$\")\n",
    "plt.xlabel(r\"$\\alpha$\")\n",
    "plt.ylabel(r\"$2\\log\\Vert W\\Vert / \\log\\;\\lambda_{max}$\")\n",
    "\n",
    "colors=['red','green', 'teal']\n",
    "\n",
    "M=100\n",
    "[ratios,alphas] = Mresults[M]\n",
    "plt.scatter(alphas, ratios, label=\"Q=1, M= {}\".format(M), color='blue')\n",
    "\n",
    "M=500\n",
    "[ratios,alphas] = Mresults[M]\n",
    "plt.scatter(alphas, ratios, label=\"Q=1, M= {}\".format(M), color='green')\n",
    "\n",
    "\n",
    "M=1000\n",
    "[ratios,alphas] = Mresults[M]\n",
    "plt.scatter(alphas, ratios, label=\"Q=1, M= {}\".format(M), color='teal')\n",
    "\n",
    "  \n",
    "M=5000\n",
    "[ratios,alphas] = Mresults[M]\n",
    "plt.scatter(alphas, ratios, label=\"Q=1, M= {}\".format(M), color='purple')\n",
    "\n",
    "M=10000\n",
    "[ratios,alphas] = Mresults[M]\n",
    "plt.scatter(alphas, ratios, label=\"Q=1, M= {}\".format(M), color='red')\n",
    "\n",
    "\n",
    "plt.legend()\n",
    "\n",
    "#plt.xlim([1,5])\n",
    "#plt.ylim([1,5])\n",
    "plt.savefig(\"img/Alpha-LogNorm-Relations.png\")"
   ]
  },
  {
   "cell_type": "code",
   "execution_count": 13,
   "metadata": {},
   "outputs": [
    {
     "name": "stderr",
     "output_type": "stream",
     "text": [
      "/Users/charleshmartin/anaconda3/lib/python3.6/site-packages/numpy/core/numeric.py:553: ComplexWarning: Casting complex values to real discards the imaginary part\n",
      "  return array(a, dtype, copy=False, order=order, subok=True)\n"
     ]
    },
    {
     "data": {
      "image/png": "[encoded data removed]",
      "text/plain": [
       "<Figure size 720x720 with 1 Axes>"
      ]
     },
     "metadata": {},
     "output_type": "display_data"
    }
   ],
   "source": [
    "import matplotlib.pyplot as plt\n",
    "plt.rcParams['figure.figsize'] = [10,10]\n",
    "matplotlib.rcParams.update({'font.size': 16})\n",
    "\n",
    "plt.title(r\"$2\\log\\Vert W\\Vert / \\log\\;\\lambda_{max}$ vs. $2-\\alpha\\;$\")\n",
    "plt.xlabel(r\"$2-\\alpha$\")\n",
    "plt.ylabel(r\"$2\\log\\Vert W\\Vert / \\log\\;\\lambda_{max}$\")\n",
    "\n",
    "colors=['red','green', 'teal']\n",
    "\n",
    "M=100\n",
    "[ratios,alphas] = Mresults[M]\n",
    "x = -np.array(alphas)+2.0\n",
    "plt.scatter(x, ratios, label=\"Q=1, M= {}\".format(M), color='blue')\n",
    "\n",
    "M=500\n",
    "[ratios,alphas] = Mresults[M]\n",
    "x = -np.array(alphas)+2.0\n",
    "plt.scatter(x, ratios, label=\"Q=1, M= {}\".format(M), color='green')\n",
    "\n",
    "\n",
    "M=1000\n",
    "[ratios,alphas] = Mresults[M]\n",
    "x = -np.array(alphas)+2.0\n",
    "plt.scatter(x, ratios, label=\"Q=1, M= {}\".format(M), color='teal')\n",
    "\n",
    "  \n",
    "M=5000\n",
    "[ratios,alphas] = Mresults[M]\n",
    "x = -np.array(alphas)+2.0\n",
    "plt.scatter(x, ratios, label=\"Q=1, M= {}\".format(M), color='purple')\n",
    "\n",
    "M=10000\n",
    "[ratios,alphas] = Mresults[M]\n",
    "x = -np.array(alphas)+2.0\n",
    "plt.scatter(x, ratios, label=\"Q=1, M= {}\".format(M), color='red')\n",
    "\n",
    "\n",
    "plt.legend()\n",
    "\n",
    "#plt.xlim([1,5])\n",
    "#plt.ylim([1,5])\n",
    "plt.savefig(\"img/Alpha-LogNorm-Relations-2ma.png\")"
   ]
  },
  {
   "cell_type": "code",
   "execution_count": null,
   "metadata": {},
   "outputs": [],
   "source": []
  },
  {
   "cell_type": "code",
   "execution_count": null,
   "metadata": {},
   "outputs": [],
   "source": []
  },
  {
   "cell_type": "code",
   "execution_count": null,
   "metadata": {},
   "outputs": [],
   "source": []
  }
 ],
 "metadata": {
  "kernelspec": {
   "display_name": "Python 3",
   "language": "python",
   "name": "python3"
  },
  "language_info": {
   "codemirror_mode": {
    "name": "ipython",
    "version": 3
   },
   "file_extension": ".py",
   "mimetype": "text/x-python",
   "name": "python",
   "nbconvert_exporter": "python",
   "pygments_lexer": "ipython3",
   "version": "3.6.5"
  }
 },
 "nbformat": 4,
 "nbformat_minor": 2
}
